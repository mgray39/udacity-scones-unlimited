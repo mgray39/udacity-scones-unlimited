{
 "cells": [
  {
   "cell_type": "markdown",
   "metadata": {},
   "source": [
    "# Deploy and monitor a machine learning workflow for Image Classification"
   ]
  },
  {
   "cell_type": "markdown",
   "metadata": {},
   "source": [
    "## Setting up this notebook\n",
    "\n",
    "Notes about the instance size and kernel setup: this notebook has been tested on\n",
    "\n",
    "1. The `Python 3 (Data Science)` kernel\n",
    "2. The `ml.t3.medium` Sagemaker notebook instance\n",
    "\n",
    "## Data Staging\n",
    "\n",
    "We'll use a sample dataset called CIFAR to simulate the challenges Scones Unlimited are facing in Image Classification. In order to start working with CIFAR we'll need to:\n",
    "\n",
    "1. Extract the data from a hosting service\n",
    "2. Transform it into a usable shape and format\n",
    "3. Load it into a production system\n",
    "\n",
    "In other words, we're going to do some simple ETL!\n",
    "\n",
    "### 1. Extract the data from the hosting service\n",
    "\n",
    "In the cell below, define a function `extract_cifar_data` that extracts python version of the CIFAR-100 dataset. The CIFAR dataaset is open source and generously hosted by the University of Toronto at: https://www.cs.toronto.edu/~kriz/cifar-100-python.tar.gz "
   ]
  },
  {
   "cell_type": "code",
   "execution_count": 2,
   "metadata": {},
   "outputs": [],
   "source": [
    "import requests\n",
    "\n",
    "def extract_cifar_data(url, filename=\"cifar.tar.gz\"):\n",
    "    \"\"\"A function for extracting the CIFAR-100 dataset and storing it as a gzipped file\n",
    "    \n",
    "    Arguments:\n",
    "    url      -- the URL where the dataset is hosted\n",
    "    filename -- the full path where the dataset will be written\n",
    "    \n",
    "    \"\"\"\n",
    "    \n",
    "    # Todo: request the data from the data url\n",
    "    # Hint: use `requests.get` method\n",
    "    r = requests.get(url)\n",
    "    with open(filename, \"wb\") as file_context:\n",
    "        file_context.write(r.content)\n",
    "    return None"
   ]
  },
  {
   "cell_type": "markdown",
   "metadata": {},
   "source": [
    "Let's test it out! Run the following cell and check whether a new file `cifar.tar.gz` is created in the file explorer."
   ]
  },
  {
   "cell_type": "code",
   "execution_count": 3,
   "metadata": {},
   "outputs": [],
   "source": [
    "extract_cifar_data(\"https://www.cs.toronto.edu/~kriz/cifar-100-python.tar.gz\")     "
   ]
  },
  {
   "cell_type": "markdown",
   "metadata": {},
   "source": [
    "### 2. Transform the data into a usable shape and format\n",
    "\n",
    "Clearly, distributing the data as a gzipped archive makes sense for the hosting service! It saves on bandwidth, storage, and it's a widely-used archive format. In fact, it's so widely used that the Python community ships a utility for working with them, `tarfile`, as part of its Standard Library. Execute the following cell to decompress your extracted dataset:"
   ]
  },
  {
   "cell_type": "code",
   "execution_count": 4,
   "metadata": {},
   "outputs": [],
   "source": [
    "import tarfile\n",
    "\n",
    "with tarfile.open(\"cifar.tar.gz\", \"r:gz\") as tar:\n",
    "    tar.extractall()"
   ]
  },
  {
   "cell_type": "markdown",
   "metadata": {},
   "source": [
    "A new folder `cifar-100-python` should be created, containing `meta`, `test`, and `train` files. These files are `pickles` and the [CIFAR homepage](https://www.cs.toronto.edu/~kriz/cifar.html) provides a simple script that can be used to load them. We've adapted the script below for you to run:"
   ]
  },
  {
   "cell_type": "code",
   "execution_count": 5,
   "metadata": {},
   "outputs": [],
   "source": [
    "import pickle\n",
    "\n",
    "with open(\"./cifar-100-python/meta\", \"rb\") as f:\n",
    "    dataset_meta = pickle.load(f, encoding='bytes')\n",
    "\n",
    "with open(\"./cifar-100-python/test\", \"rb\") as f:\n",
    "    dataset_test = pickle.load(f, encoding='bytes')\n",
    "\n",
    "with open(\"./cifar-100-python/train\", \"rb\") as f:\n",
    "    dataset_train = pickle.load(f, encoding='bytes')"
   ]
  },
  {
   "cell_type": "code",
   "execution_count": 6,
   "metadata": {},
   "outputs": [
    {
     "data": {
      "text/plain": [
       "dict_keys([b'filenames', b'batch_label', b'fine_labels', b'coarse_labels', b'data'])"
      ]
     },
     "execution_count": 6,
     "metadata": {},
     "output_type": "execute_result"
    }
   ],
   "source": [
    "# Feel free to explore the datasets\n",
    "\n",
    "dataset_train.keys()"
   ]
  },
  {
   "cell_type": "markdown",
   "metadata": {},
   "source": [
    "As documented on the homepage, `b'data'` contains rows of 3073 unsigned integers, representing three channels (red, green, and blue) for one 32x32 pixel image per row."
   ]
  },
  {
   "cell_type": "code",
   "execution_count": 7,
   "metadata": {},
   "outputs": [
    {
     "data": {
      "text/plain": [
       "3072"
      ]
     },
     "execution_count": 7,
     "metadata": {},
     "output_type": "execute_result"
    }
   ],
   "source": [
    "32*32*3"
   ]
  },
  {
   "cell_type": "markdown",
   "metadata": {},
   "source": [
    "For a simple gut-check, let's transform one of our images. Each 1024 items in a row is a channel (red, green, then blue). Each 32 items in the channel are a row in the 32x32 image. Using python, we can stack these channels into a 32x32x3 array, and save it as a PNG file:"
   ]
  },
  {
   "cell_type": "code",
   "execution_count": 8,
   "metadata": {},
   "outputs": [],
   "source": [
    "import numpy as np\n",
    "\n",
    "# Each 1024 in a row is a channel (red, green, then blue)\n",
    "row = dataset_train[b'data'][0]\n",
    "red, green, blue = row[0:1024], row[1024:2048], row[2048:]\n",
    "\n",
    "# Each 32 items in the channel are a row in the 32x32 image\n",
    "red = red.reshape(32,32)\n",
    "green = green.reshape(32,32)\n",
    "blue = blue.reshape(32,32)\n",
    "\n",
    "# Combine the channels into a 32x32x3 image!\n",
    "combined = np.dstack((red,green,blue))"
   ]
  },
  {
   "cell_type": "markdown",
   "metadata": {},
   "source": [
    "For a more concise version, consider the following:"
   ]
  },
  {
   "cell_type": "code",
   "execution_count": 9,
   "metadata": {},
   "outputs": [],
   "source": [
    "# All in one:\n",
    "test_image = np.dstack((\n",
    "    row[0:1024].reshape(32,32),\n",
    "    row[1024:2048].reshape(32,32),\n",
    "    row[2048:].reshape(32,32)\n",
    "))"
   ]
  },
  {
   "cell_type": "code",
   "execution_count": 10,
   "metadata": {},
   "outputs": [
    {
     "data": {
      "image/png": "[encoded data removed]",
      "text/plain": [
       "<Figure size 640x480 with 1 Axes>"
      ]
     },
     "metadata": {},
     "output_type": "display_data"
    }
   ],
   "source": [
    "import matplotlib.pyplot as plt\n",
    "plt.imshow(test_image);\n",
    "plt.show()"
   ]
  },
  {
   "cell_type": "markdown",
   "metadata": {},
   "source": [
    "Looks like a cow! Let's check the label. `dataset_meta` contains label names in order, and `dataset_train` has a list of labels for each row."
   ]
  },
  {
   "cell_type": "code",
   "execution_count": 11,
   "metadata": {},
   "outputs": [
    {
     "data": {
      "text/plain": [
       "19"
      ]
     },
     "execution_count": 11,
     "metadata": {},
     "output_type": "execute_result"
    }
   ],
   "source": [
    "dataset_train[b'fine_labels'][0]"
   ]
  },
  {
   "cell_type": "markdown",
   "metadata": {},
   "source": [
    "Our image has a label of `19`, so let's see what the 19th item is in the list of label names."
   ]
  },
  {
   "cell_type": "code",
   "execution_count": 12,
   "metadata": {},
   "outputs": [
    {
     "name": "stdout",
     "output_type": "stream",
     "text": [
      "b'cattle'\n"
     ]
    }
   ],
   "source": [
    "print(dataset_meta[b'fine_label_names'][19])"
   ]
  },
  {
   "cell_type": "markdown",
   "metadata": {},
   "source": [
    "Ok! 'cattle' sounds about right. By the way, using the previous two lines we can do:"
   ]
  },
  {
   "cell_type": "code",
   "execution_count": 13,
   "metadata": {},
   "outputs": [
    {
     "name": "stdout",
     "output_type": "stream",
     "text": [
      "b'cattle'\n"
     ]
    }
   ],
   "source": [
    "n = 0\n",
    "print(dataset_meta[b'fine_label_names'][dataset_train[b'fine_labels'][n]])"
   ]
  },
  {
   "cell_type": "markdown",
   "metadata": {},
   "source": [
    "Now we know how to check labels, is there a way that we can also check file names? `dataset_train` also contains a `b'filenames'` key. Let's see what we have here:"
   ]
  },
  {
   "cell_type": "code",
   "execution_count": 14,
   "metadata": {},
   "outputs": [
    {
     "name": "stdout",
     "output_type": "stream",
     "text": [
      "b'bos_taurus_s_000507.png'\n"
     ]
    }
   ],
   "source": [
    "print(dataset_train[b'filenames'][0])"
   ]
  },
  {
   "cell_type": "markdown",
   "metadata": {},
   "source": [
    "\"Taurus\" is the name of a subspecies of cattle, so this looks like a pretty reasonable filename. To save an image we can also do:"
   ]
  },
  {
   "cell_type": "code",
   "execution_count": 15,
   "metadata": {},
   "outputs": [],
   "source": [
    "plt.imsave(\"file.png\", test_image)"
   ]
  },
  {
   "cell_type": "markdown",
   "metadata": {},
   "source": [
    "Your new PNG file should now appear in the file explorer -- go ahead and pop it open to see!\n",
    "\n",
    "Now that you know how to reshape the images, save them as files, and capture their filenames and labels, let's just capture all the bicycles and motorcycles and save them. Scones Unlimited can use a model that tells these apart to route delivery drivers automatically.\n",
    "\n",
    "In the following cell, identify the label numbers for Bicycles and Motorcycles:"
   ]
  },
  {
   "cell_type": "code",
   "execution_count": 43,
   "metadata": {},
   "outputs": [
    {
     "data": {
      "text/html": [
       "<div>\n",
       "<style scoped>\n",
       "    .dataframe tbody tr th:only-of-type {\n",
       "        vertical-align: middle;\n",
       "    }\n",
       "\n",
       "    .dataframe tbody tr th {\n",
       "        vertical-align: top;\n",
       "    }\n",
       "\n",
       "    .dataframe thead th {\n",
       "        text-align: right;\n",
       "    }\n",
       "</style>\n",
       "<table border=\"1\" class=\"dataframe\">\n",
       "  <thead>\n",
       "    <tr style=\"text-align: right;\">\n",
       "      <th></th>\n",
       "      <th>fine_labels</th>\n",
       "      <th>label_names</th>\n",
       "    </tr>\n",
       "  </thead>\n",
       "  <tbody>\n",
       "    <tr>\n",
       "      <th>8</th>\n",
       "      <td>8</td>\n",
       "      <td>bicycle</td>\n",
       "    </tr>\n",
       "    <tr>\n",
       "      <th>48</th>\n",
       "      <td>48</td>\n",
       "      <td>motorcycle</td>\n",
       "    </tr>\n",
       "  </tbody>\n",
       "</table>\n",
       "</div>"
      ],
      "text/plain": [
       "    fine_labels label_names\n",
       "8             8     bicycle\n",
       "48           48  motorcycle"
      ]
     },
     "execution_count": 43,
     "metadata": {},
     "output_type": "execute_result"
    }
   ],
   "source": [
    "import pandas as pd\n",
    "\n",
    "#I prefer to use query rather than loc as it makes overall things \"method_chainable\" - decoding the bytes was necessary to make this work\n",
    "df = (pd.DataFrame([line.decode() for line in dataset_meta[b'fine_label_names']], columns=['label_names'])\n",
    "      .reset_index(drop=False)\n",
    "      .rename(columns = {'index':'fine_labels'}))\n",
    "\n",
    "df.query('(label_names==\"bicycle\")|(label_names==\"motorcycle\")')"
   ]
  },
  {
   "cell_type": "markdown",
   "metadata": {},
   "source": [
    "Good job! We only need objects with label 8 and 48 -- this drastically simplifies our handling of the data! Below we construct a dataframe for you, and you can safely drop the rows that don't contain observations about bicycles and motorcycles. Fill in the missing lines below to drop all other rows:"
   ]
  },
  {
   "cell_type": "code",
   "execution_count": 44,
   "metadata": {},
   "outputs": [],
   "source": [
    "#Construct the dataframe\n",
    "df_train = pd.DataFrame({\n",
    "    \"filenames\": dataset_train[b'filenames'],\n",
    "    \"labels\": dataset_train[b'fine_labels'],\n",
    "    \"row\": range(len(dataset_train[b'filenames']))\n",
    "})\n",
    "\n",
    "labels_of_interest = [8,48]\n",
    "\n",
    "# Drop all rows from df_train where label is not 8 or 48\n",
    "df_train = df_train.query('labels in @labels_of_interest')\n",
    "\n",
    "# Decode df_train.filenames so they are regular strings\n",
    "df_train[\"filenames\"] = df_train[\"filenames\"].apply(\n",
    "    lambda x: x.decode(\"utf-8\")\n",
    ")\n",
    "\n",
    "\n",
    "df_test = pd.DataFrame({\n",
    "    \"filenames\": dataset_test[b'filenames'],\n",
    "    \"labels\": dataset_test[b'fine_labels'],\n",
    "    \"row\": range(len(dataset_test[b'filenames']))\n",
    "})\n",
    "\n",
    "# Drop all rows from df_test where label is not 8 or 48\n",
    "df_test = df_test.query('labels in @labels_of_interest')\n",
    "\n",
    "# Decode df_test.filenames so they are regular strings\n",
    "df_test[\"filenames\"] = df_test[\"filenames\"].apply(\n",
    "    lambda x: x.decode(\"utf-8\")\n",
    ")"
   ]
  },
  {
   "cell_type": "markdown",
   "metadata": {},
   "source": [
    "Now that the data is filtered for just our classes, we can save all our images."
   ]
  },
  {
   "cell_type": "code",
   "execution_count": 46,
   "metadata": {},
   "outputs": [],
   "source": [
    "!mkdir ./train\n",
    "!mkdir ./test"
   ]
  },
  {
   "cell_type": "markdown",
   "metadata": {},
   "source": [
    "In the previous sections we introduced you to several key snippets of code:\n",
    "\n",
    "1. Grabbing the image data:\n",
    "\n",
    "```python\n",
    "dataset_train[b'data'][0]\n",
    "```\n",
    "\n",
    "2. A simple idiom for stacking the image data into the right shape\n",
    "\n",
    "```python\n",
    "import numpy as np\n",
    "np.dstack((\n",
    "    row[0:1024].reshape(32,32),\n",
    "    row[1024:2048].reshape(32,32),\n",
    "    row[2048:].reshape(32,32)\n",
    "))\n",
    "```\n",
    "\n",
    "3. A simple `matplotlib` utility for saving images\n",
    "\n",
    "```python\n",
    "plt.imsave(path+row['filenames'], target)\n",
    "```\n",
    "\n",
    "Compose these together into a function that saves all the images into the `./test` and `./train` directories. Use the comments in the body of the `save_images` function below to guide your construction of the function:\n"
   ]
  },
  {
   "cell_type": "code",
   "execution_count": 72,
   "metadata": {},
   "outputs": [],
   "source": [
    "\n",
    "def save_images(dataset: dict, \n",
    "                df: pd.DataFrame, \n",
    "                output_dir: str):\n",
    "    \n",
    "    for _, df_row in df.iterrows():\n",
    "        \n",
    "        data = dataset[b'data'][df_row['row']]\n",
    "        \n",
    "        img = np.dstack((data[0:1024].reshape(32,32),\n",
    "                         data[1024:2048].reshape(32,32),\n",
    "                         data[2048:].reshape(32,32)\n",
    "                        ))\n",
    "                \n",
    "        #save file to directory\n",
    "        plt.imsave(output_dir+df_row['filenames'], img)\n",
    "    \n",
    "    # Return any signal data you want for debugging\n",
    "    return\n",
    "\n",
    "save_images(dataset_train, df_train, 'train/')\n",
    "save_images(dataset_test, df_test, 'test/')"
   ]
  },
  {
   "cell_type": "markdown",
   "metadata": {},
   "source": [
    "### 3. Load the data\n",
    "\n",
    "Now we can load the data into S3.\n",
    "\n",
    "Using the sagemaker SDK grab the current region, execution role, and bucket."
   ]
  },
  {
   "cell_type": "code",
   "execution_count": 3,
   "metadata": {},
   "outputs": [
    {
     "name": "stdout",
     "output_type": "stream",
     "text": [
      "Default Bucket: sagemaker-us-east-2-314861141982\n",
      "AWS Region: us-east-2\n",
      "RoleArn: arn:aws:iam::314861141982:role/service-role/AmazonSageMaker-ExecutionRole-20220625T192968\n"
     ]
    }
   ],
   "source": [
    "import sagemaker\n",
    "\n",
    "session = sagemaker.Session()\n",
    "\n",
    "bucket= session.default_bucket()\n",
    "print(\"Default Bucket: {}\".format(bucket))\n",
    "\n",
    "region = session.boto_region_name\n",
    "print(\"AWS Region: {}\".format(region))\n",
    "\n",
    "role = sagemaker.get_execution_role()\n",
    "print(\"RoleArn: {}\".format(role))"
   ]
  },
  {
   "cell_type": "markdown",
   "metadata": {},
   "source": [
    "With this data we can easily sync your data up into S3!"
   ]
  },
  {
   "cell_type": "code",
   "execution_count": 4,
   "metadata": {
    "scrolled": true
   },
   "outputs": [],
   "source": [
    "import os\n",
    "\n",
    "os.environ[\"DEFAULT_S3_BUCKET\"] = bucket\n",
    "!aws s3 sync ./train s3://${DEFAULT_S3_BUCKET}/train/\n",
    "!aws s3 sync ./test s3://${DEFAULT_S3_BUCKET}/test/"
   ]
  },
  {
   "cell_type": "markdown",
   "metadata": {},
   "source": [
    "And that's it! You can check the bucket and verify that the items were uploaded.\n",
    "\n",
    "## Model Training\n",
    "\n",
    "For Image Classification, Sagemaker [also expects metadata](https://docs.aws.amazon.com/sagemaker/latest/dg/image-classification.html) e.g. in the form of TSV files with labels and filepaths. We can generate these using our Pandas DataFrames from earlier:"
   ]
  },
  {
   "cell_type": "code",
   "execution_count": 81,
   "metadata": {},
   "outputs": [],
   "source": [
    "def to_metadata_file(df, prefix):\n",
    "    df[\"s3_path\"] = df[\"filenames\"]\n",
    "    df[\"labels\"] = df[\"labels\"].apply(lambda x: 0 if x==8 else 1)\n",
    "    return df[[\"row\", \"labels\", \"s3_path\"]].to_csv(\n",
    "        f\"{prefix}.lst\", sep=\"\\t\", index=False, header=False\n",
    "    )\n",
    "    \n",
    "to_metadata_file(df_train.copy(), \"train\")\n",
    "to_metadata_file(df_test.copy(), \"test\")"
   ]
  },
  {
   "cell_type": "markdown",
   "metadata": {},
   "source": [
    "We can also upload our manifest files:"
   ]
  },
  {
   "cell_type": "code",
   "execution_count": 82,
   "metadata": {},
   "outputs": [],
   "source": [
    "import boto3\n",
    "\n",
    "# Upload files\n",
    "boto3.Session().resource('s3').Bucket(\n",
    "    bucket).Object('train.lst').upload_file('./train.lst')\n",
    "boto3.Session().resource('s3').Bucket(\n",
    "    bucket).Object('test.lst').upload_file('./test.lst')"
   ]
  },
  {
   "cell_type": "markdown",
   "metadata": {},
   "source": [
    "Using the `bucket` and `region` info we can get the latest prebuilt container to run our training job, and define an output location on our s3 bucket for the model. Use the `image_uris` function from the SageMaker SDK to retrieve the latest `image-classification` image below:"
   ]
  },
  {
   "cell_type": "code",
   "execution_count": 5,
   "metadata": {},
   "outputs": [],
   "source": [
    "from sagemaker import image_uris\n",
    "from sagemaker.model import Model"
   ]
  },
  {
   "cell_type": "code",
   "execution_count": 6,
   "metadata": {},
   "outputs": [],
   "source": [
    "# Use the image_uris function to retrieve the latest 'image-classification' image \n",
    "algo_image = image_uris.retrieve(framework = 'image-classification', region= region)\n",
    "s3_output_location = f\"s3://{bucket}/models/image_model\""
   ]
  },
  {
   "cell_type": "markdown",
   "metadata": {},
   "source": [
    "We're ready to create an estimator! Create an estimator `img_classifier_model` that uses one instance of `ml.p3.2xlarge`. Ensure that y ou use the output location we defined above - we'll be referring to that later!"
   ]
  },
  {
   "cell_type": "code",
   "execution_count": 7,
   "metadata": {},
   "outputs": [],
   "source": [
    "img_classifier_model=sagemaker.estimator.Estimator( \n",
    "    role=role,\n",
    "    image_uri=algo_image,\n",
    "    instance_type='ml.p3.2xlarge',\n",
    "    instance_count=1,\n",
    "    sagemaker_session = session,\n",
    "    volume_size = 10,\n",
    "    output_path = s3_output_location    \n",
    ")"
   ]
  },
  {
   "cell_type": "markdown",
   "metadata": {},
   "source": [
    "We can also set a few key hyperparameters and define the inputs for our model:"
   ]
  },
  {
   "cell_type": "code",
   "execution_count": 8,
   "metadata": {},
   "outputs": [],
   "source": [
    "img_classifier_model.set_hyperparameters(\n",
    "    image_shape='3,32,32',\n",
    "    num_classes=2,\n",
    "    num_training_samples= 1000\n",
    ")"
   ]
  },
  {
   "cell_type": "markdown",
   "metadata": {},
   "source": [
    "The `image-classification` image uses four input channels with very specific input parameters. For convenience, we've provided them below:"
   ]
  },
  {
   "cell_type": "code",
   "execution_count": 9,
   "metadata": {},
   "outputs": [],
   "source": [
    "from sagemaker.debugger import Rule, rule_configs\n",
    "from sagemaker.session import TrainingInput\n",
    "model_inputs = {\n",
    "        \"train\": sagemaker.inputs.TrainingInput(\n",
    "            s3_data=f\"s3://{bucket}/train/\",\n",
    "            content_type=\"application/x-image\"\n",
    "        ),\n",
    "        \"validation\": sagemaker.inputs.TrainingInput(\n",
    "            s3_data=f\"s3://{bucket}/test/\",\n",
    "            content_type=\"application/x-image\"\n",
    "        ),\n",
    "        \"train_lst\": sagemaker.inputs.TrainingInput(\n",
    "            s3_data=f\"s3://{bucket}/train.lst\",\n",
    "            content_type=\"application/x-image\"\n",
    "        ),\n",
    "        \"validation_lst\": sagemaker.inputs.TrainingInput(\n",
    "            s3_data=f\"s3://{bucket}/test.lst\",\n",
    "            content_type=\"application/x-image\"\n",
    "        )\n",
    "}"
   ]
  },
  {
   "cell_type": "markdown",
   "metadata": {},
   "source": [
    "Great, now we can train the model using the model_inputs. In the cell below, call the `fit` method on our model,:"
   ]
  },
  {
   "cell_type": "code",
   "execution_count": 10,
   "metadata": {
    "scrolled": true
   },
   "outputs": [
    {
     "name": "stdout",
     "output_type": "stream",
     "text": [
      "2022-07-09 09:11:47 Starting - Starting the training job...\n",
      "2022-07-09 09:12:13 Starting - Preparing the instances for trainingProfilerReport-1657357907: InProgress\n",
      ".........\n",
      "2022-07-09 09:13:31 Downloading - Downloading input data...\n",
      "2022-07-09 09:14:11 Training - Downloading the training image.........\n",
      "2022-07-09 09:15:42 Training - Training image download completed. Training in progress..\u001b[34mDocker entrypoint called with argument(s): train\u001b[0m\n",
      "\u001b[34m[07/09/2022 09:15:48 INFO 140319757993792] Reading default configuration from /opt/amazon/lib/python3.7/site-packages/image_classification/default-input.json: {'use_pretrained_model': 0, 'num_layers': 152, 'epochs': 30, 'learning_rate': 0.1, 'lr_scheduler_factor': 0.1, 'optimizer': 'sgd', 'momentum': 0, 'weight_decay': 0.0001, 'beta_1': 0.9, 'beta_2': 0.999, 'eps': 1e-08, 'gamma': 0.9, 'mini_batch_size': 32, 'image_shape': '3,224,224', 'precision_dtype': 'float32'}\u001b[0m\n",
      "\u001b[34m[07/09/2022 09:15:48 INFO 140319757993792] Merging with provided configuration from /opt/ml/input/config/hyperparameters.json: {'image_shape': '3,32,32', 'num_classes': '2', 'num_training_samples': '1000'}\u001b[0m\n",
      "\u001b[34m[07/09/2022 09:15:48 INFO 140319757993792] Final configuration: {'use_pretrained_model': 0, 'num_layers': 152, 'epochs': 30, 'learning_rate': 0.1, 'lr_scheduler_factor': 0.1, 'optimizer': 'sgd', 'momentum': 0, 'weight_decay': 0.0001, 'beta_1': 0.9, 'beta_2': 0.999, 'eps': 1e-08, 'gamma': 0.9, 'mini_batch_size': 32, 'image_shape': '3,32,32', 'precision_dtype': 'float32', 'num_classes': '2', 'num_training_samples': '1000'}\u001b[0m\n",
      "\u001b[34m[07/09/2022 09:15:48 INFO 140319757993792] Searching for .lst files in /opt/ml/input/data/train_lst.\u001b[0m\n",
      "\u001b[34m[07/09/2022 09:15:48 INFO 140319757993792] Creating record files for train.lst\u001b[0m\n",
      "\u001b[34m[07/09/2022 09:15:49 INFO 140319757993792] Done creating record files...\u001b[0m\n",
      "\u001b[34m[07/09/2022 09:15:49 INFO 140319757993792] Searching for .lst files in /opt/ml/input/data/validation_lst.\u001b[0m\n",
      "\u001b[34m[07/09/2022 09:15:49 INFO 140319757993792] Creating record files for test.lst\u001b[0m\n",
      "\u001b[34m[07/09/2022 09:15:49 INFO 140319757993792] Done creating record files...\u001b[0m\n",
      "\u001b[34m[07/09/2022 09:15:49 INFO 140319757993792] use_pretrained_model: 0\u001b[0m\n",
      "\u001b[34m[07/09/2022 09:15:49 INFO 140319757993792] multi_label: 0\u001b[0m\n",
      "\u001b[34m[07/09/2022 09:15:49 INFO 140319757993792] Performing random weight initialization\u001b[0m\n",
      "\u001b[34m[07/09/2022 09:15:49 INFO 140319757993792] ---- Parameters ----\u001b[0m\n",
      "\u001b[34m[07/09/2022 09:15:49 INFO 140319757993792] num_layers: 152\u001b[0m\n",
      "\u001b[34m[07/09/2022 09:15:49 INFO 140319757993792] data type: <class 'numpy.float32'>\u001b[0m\n",
      "\u001b[34m[07/09/2022 09:15:49 INFO 140319757993792] epochs: 30\u001b[0m\n",
      "\u001b[34m[07/09/2022 09:15:49 INFO 140319757993792] optimizer: sgd\u001b[0m\n",
      "\u001b[34m[07/09/2022 09:15:49 INFO 140319757993792] momentum: 0.9\u001b[0m\n",
      "\u001b[34m[07/09/2022 09:15:49 INFO 140319757993792] weight_decay: 0.0001\u001b[0m\n",
      "\u001b[34m[07/09/2022 09:15:49 INFO 140319757993792] learning_rate: 0.1\u001b[0m\n",
      "\u001b[34m[07/09/2022 09:15:49 INFO 140319757993792] num_training_samples: 1000\u001b[0m\n",
      "\u001b[34m[07/09/2022 09:15:49 INFO 140319757993792] mini_batch_size: 32\u001b[0m\n",
      "\u001b[34m[07/09/2022 09:15:49 INFO 140319757993792] image_shape: 3,32,32\u001b[0m\n",
      "\u001b[34m[07/09/2022 09:15:49 INFO 140319757993792] num_classes: 2\u001b[0m\n",
      "\u001b[34m[07/09/2022 09:15:49 INFO 140319757993792] augmentation_type: None\u001b[0m\n",
      "\u001b[34m[07/09/2022 09:15:49 INFO 140319757993792] kv_store: device\u001b[0m\n",
      "\u001b[34m[07/09/2022 09:15:49 INFO 140319757993792] checkpoint_frequency not set, will store the best model\u001b[0m\n",
      "\u001b[34m[07/09/2022 09:15:49 INFO 140319757993792] --------------------\u001b[0m\n",
      "\u001b[34m[07/09/2022 09:15:49 INFO 140319757993792] Setting number of threads: 7\u001b[0m\n",
      "\u001b[34m[09:15:57] /opt/brazil-pkg-cache/packages/AIAlgorithmsMXNet/AIAlgorithmsMXNet-1.3.x_ecl_Cuda_10.1.x.11282.0/AL2_x86_64/generic-flavor/src/src/operator/nn/./cudnn/./cudnn_algoreg-inl.h:97: Running performance tests to find the best convolution algorithm, this can take a while... (setting env variable MXNET_CUDNN_AUTOTUNE_DEFAULT to 0 to disable)\u001b[0m\n",
      "\u001b[34m[07/09/2022 09:16:02 INFO 140319757993792] Epoch[0] Batch [20]#011Speed: 126.742 samples/sec#011accuracy=0.522321\u001b[0m\n",
      "\u001b[34m[07/09/2022 09:16:03 INFO 140319757993792] Epoch[0] Train-accuracy=0.574597\u001b[0m\n",
      "\u001b[34m[07/09/2022 09:16:03 INFO 140319757993792] Epoch[0] Time cost=6.284\u001b[0m\n",
      "\u001b[34m[07/09/2022 09:16:03 INFO 140319757993792] Epoch[0] Validation-accuracy=0.510417\u001b[0m\n",
      "\u001b[34m[07/09/2022 09:16:04 INFO 140319757993792] Storing the best model with validation accuracy: 0.510417\u001b[0m\n",
      "\u001b[34m[07/09/2022 09:16:04 INFO 140319757993792] Saved checkpoint to \"/opt/ml/model/image-classification-0001.params\"\u001b[0m\n",
      "\u001b[34m[07/09/2022 09:16:07 INFO 140319757993792] Epoch[1] Batch [20]#011Speed: 250.448 samples/sec#011accuracy=0.703869\u001b[0m\n",
      "\u001b[34m[07/09/2022 09:16:08 INFO 140319757993792] Epoch[1] Train-accuracy=0.695565\u001b[0m\n",
      "\u001b[34m[07/09/2022 09:16:08 INFO 140319757993792] Epoch[1] Time cost=3.749\u001b[0m\n",
      "\u001b[34m[07/09/2022 09:16:08 INFO 140319757993792] Epoch[1] Validation-accuracy=0.677083\u001b[0m\n",
      "\u001b[34m[07/09/2022 09:16:09 INFO 140319757993792] Storing the best model with validation accuracy: 0.677083\u001b[0m\n",
      "\u001b[34m[07/09/2022 09:16:09 INFO 140319757993792] Saved checkpoint to \"/opt/ml/model/image-classification-0002.params\"\u001b[0m\n",
      "\u001b[34m[07/09/2022 09:16:11 INFO 140319757993792] Epoch[2] Batch [20]#011Speed: 263.627 samples/sec#011accuracy=0.721726\u001b[0m\n",
      "\u001b[34m[07/09/2022 09:16:13 INFO 140319757993792] Epoch[2] Train-accuracy=0.695565\u001b[0m\n",
      "\u001b[34m[07/09/2022 09:16:13 INFO 140319757993792] Epoch[2] Time cost=3.620\u001b[0m\n",
      "\u001b[34m[07/09/2022 09:16:13 INFO 140319757993792] Epoch[2] Validation-accuracy=0.760417\u001b[0m\n",
      "\u001b[34m[07/09/2022 09:16:13 INFO 140319757993792] Storing the best model with validation accuracy: 0.760417\u001b[0m\n",
      "\u001b[34m[07/09/2022 09:16:14 INFO 140319757993792] Saved checkpoint to \"/opt/ml/model/image-classification-0003.params\"\u001b[0m\n",
      "\u001b[34m[07/09/2022 09:16:16 INFO 140319757993792] Epoch[3] Batch [20]#011Speed: 263.068 samples/sec#011accuracy=0.735119\u001b[0m\n",
      "\u001b[34m[07/09/2022 09:16:17 INFO 140319757993792] Epoch[3] Train-accuracy=0.757056\u001b[0m\n",
      "\u001b[34m[07/09/2022 09:16:17 INFO 140319757993792] Epoch[3] Time cost=3.638\u001b[0m\n",
      "\u001b[34m[07/09/2022 09:16:18 INFO 140319757993792] Epoch[3] Validation-accuracy=0.776786\u001b[0m\n",
      "\u001b[34m[07/09/2022 09:16:18 INFO 140319757993792] Storing the best model with validation accuracy: 0.776786\u001b[0m\n",
      "\u001b[34m[07/09/2022 09:16:18 INFO 140319757993792] Saved checkpoint to \"/opt/ml/model/image-classification-0004.params\"\u001b[0m\n",
      "\u001b[34m[07/09/2022 09:16:21 INFO 140319757993792] Epoch[4] Batch [20]#011Speed: 262.815 samples/sec#011accuracy=0.766369\u001b[0m\n",
      "\u001b[34m[07/09/2022 09:16:22 INFO 140319757993792] Epoch[4] Train-accuracy=0.771169\u001b[0m\n",
      "\u001b[34m[07/09/2022 09:16:22 INFO 140319757993792] Epoch[4] Time cost=3.646\u001b[0m\n",
      "\u001b[34m[07/09/2022 09:16:22 INFO 140319757993792] Epoch[4] Validation-accuracy=0.822917\u001b[0m\n",
      "\u001b[34m[07/09/2022 09:16:22 INFO 140319757993792] Storing the best model with validation accuracy: 0.822917\u001b[0m\n",
      "\u001b[34m[07/09/2022 09:16:23 INFO 140319757993792] Saved checkpoint to \"/opt/ml/model/image-classification-0005.params\"\u001b[0m\n",
      "\u001b[34m[07/09/2022 09:16:25 INFO 140319757993792] Epoch[5] Batch [20]#011Speed: 263.524 samples/sec#011accuracy=0.787202\u001b[0m\n",
      "\u001b[34m[07/09/2022 09:16:27 INFO 140319757993792] Epoch[5] Train-accuracy=0.774194\u001b[0m\n",
      "\u001b[34m[07/09/2022 09:16:27 INFO 140319757993792] Epoch[5] Time cost=3.640\u001b[0m\n",
      "\u001b[34m[07/09/2022 09:16:27 INFO 140319757993792] Epoch[5] Validation-accuracy=0.796875\u001b[0m\n",
      "\u001b[34m[07/09/2022 09:16:30 INFO 140319757993792] Epoch[6] Batch [20]#011Speed: 262.442 samples/sec#011accuracy=0.799107\u001b[0m\n",
      "\u001b[34m[07/09/2022 09:16:31 INFO 140319757993792] Epoch[6] Train-accuracy=0.795363\u001b[0m\n",
      "\u001b[34m[07/09/2022 09:16:31 INFO 140319757993792] Epoch[6] Time cost=3.636\u001b[0m\n",
      "\u001b[34m[07/09/2022 09:16:31 INFO 140319757993792] Epoch[6] Validation-accuracy=0.812500\u001b[0m\n",
      "\u001b[34m[07/09/2022 09:16:34 INFO 140319757993792] Epoch[7] Batch [20]#011Speed: 262.166 samples/sec#011accuracy=0.785714\u001b[0m\n",
      "\u001b[34m[07/09/2022 09:16:35 INFO 140319757993792] Epoch[7] Train-accuracy=0.788306\u001b[0m\n",
      "\u001b[34m[07/09/2022 09:16:35 INFO 140319757993792] Epoch[7] Time cost=3.642\u001b[0m\n",
      "\u001b[34m[07/09/2022 09:16:36 INFO 140319757993792] Epoch[7] Validation-accuracy=0.794643\u001b[0m\n",
      "\u001b[34m[07/09/2022 09:16:39 INFO 140319757993792] Epoch[8] Batch [20]#011Speed: 260.078 samples/sec#011accuracy=0.808036\u001b[0m\n",
      "\u001b[34m[07/09/2022 09:16:40 INFO 140319757993792] Epoch[8] Train-accuracy=0.809476\u001b[0m\n",
      "\u001b[34m[07/09/2022 09:16:40 INFO 140319757993792] Epoch[8] Time cost=3.654\u001b[0m\n",
      "\u001b[34m[07/09/2022 09:16:40 INFO 140319757993792] Epoch[8] Validation-accuracy=0.822917\u001b[0m\n",
      "\u001b[34m[07/09/2022 09:16:43 INFO 140319757993792] Epoch[9] Batch [20]#011Speed: 264.928 samples/sec#011accuracy=0.839286\u001b[0m\n",
      "\u001b[34m[07/09/2022 09:16:44 INFO 140319757993792] Epoch[9] Train-accuracy=0.837702\u001b[0m\n",
      "\u001b[34m[07/09/2022 09:16:44 INFO 140319757993792] Epoch[9] Time cost=3.610\u001b[0m\n",
      "\u001b[34m[07/09/2022 09:16:45 INFO 140319757993792] Epoch[9] Validation-accuracy=0.817708\u001b[0m\n",
      "\u001b[34m[07/09/2022 09:16:48 INFO 140319757993792] Epoch[10] Batch [20]#011Speed: 261.158 samples/sec#011accuracy=0.843750\u001b[0m\n",
      "\u001b[34m[07/09/2022 09:16:49 INFO 140319757993792] Epoch[10] Train-accuracy=0.837702\u001b[0m\n",
      "\u001b[34m[07/09/2022 09:16:49 INFO 140319757993792] Epoch[10] Time cost=3.654\u001b[0m\n",
      "\u001b[34m[07/09/2022 09:16:49 INFO 140319757993792] Epoch[10] Validation-accuracy=0.838542\u001b[0m\n",
      "\u001b[34m[07/09/2022 09:16:49 INFO 140319757993792] Storing the best model with validation accuracy: 0.838542\u001b[0m\n",
      "\u001b[34m[07/09/2022 09:16:50 INFO 140319757993792] Saved checkpoint to \"/opt/ml/model/image-classification-0011.params\"\u001b[0m\n",
      "\u001b[34m[07/09/2022 09:16:52 INFO 140319757993792] Epoch[11] Batch [20]#011Speed: 263.099 samples/sec#011accuracy=0.851190\u001b[0m\n",
      "\u001b[34m[07/09/2022 09:16:53 INFO 140319757993792] Epoch[11] Train-accuracy=0.841734\u001b[0m\n",
      "\u001b[34m[07/09/2022 09:16:53 INFO 140319757993792] Epoch[11] Time cost=3.626\u001b[0m\n",
      "\u001b[34m[07/09/2022 09:16:54 INFO 140319757993792] Epoch[11] Validation-accuracy=0.812500\u001b[0m\n",
      "\u001b[34m[07/09/2022 09:16:57 INFO 140319757993792] Epoch[12] Batch [20]#011Speed: 262.136 samples/sec#011accuracy=0.864583\u001b[0m\n",
      "\u001b[34m[07/09/2022 09:16:58 INFO 140319757993792] Epoch[12] Train-accuracy=0.865927\u001b[0m\n",
      "\u001b[34m[07/09/2022 09:16:58 INFO 140319757993792] Epoch[12] Time cost=3.644\u001b[0m\n",
      "\u001b[34m[07/09/2022 09:16:58 INFO 140319757993792] Epoch[12] Validation-accuracy=0.807292\u001b[0m\n",
      "\u001b[34m[07/09/2022 09:17:01 INFO 140319757993792] Epoch[13] Batch [20]#011Speed: 263.277 samples/sec#011accuracy=0.851190\u001b[0m\n",
      "\u001b[34m[07/09/2022 09:17:02 INFO 140319757993792] Epoch[13] Train-accuracy=0.862903\u001b[0m\n",
      "\u001b[34m[07/09/2022 09:17:02 INFO 140319757993792] Epoch[13] Time cost=3.651\u001b[0m\n",
      "\u001b[34m[07/09/2022 09:17:03 INFO 140319757993792] Epoch[13] Validation-accuracy=0.843750\u001b[0m\n",
      "\u001b[34m[07/09/2022 09:17:03 INFO 140319757993792] Storing the best model with validation accuracy: 0.843750\u001b[0m\n",
      "\u001b[34m[07/09/2022 09:17:04 INFO 140319757993792] Saved checkpoint to \"/opt/ml/model/image-classification-0014.params\"\u001b[0m\n",
      "\u001b[34m[07/09/2022 09:17:06 INFO 140319757993792] Epoch[14] Batch [20]#011Speed: 257.164 samples/sec#011accuracy=0.876488\u001b[0m\n",
      "\u001b[34m[07/09/2022 09:17:07 INFO 140319757993792] Epoch[14] Train-accuracy=0.871976\u001b[0m\n",
      "\u001b[34m[07/09/2022 09:17:07 INFO 140319757993792] Epoch[14] Time cost=3.682\u001b[0m\n",
      "\u001b[34m[07/09/2022 09:17:07 INFO 140319757993792] Epoch[14] Validation-accuracy=0.854167\u001b[0m\n",
      "\u001b[34m[07/09/2022 09:17:08 INFO 140319757993792] Storing the best model with validation accuracy: 0.854167\u001b[0m\n",
      "\u001b[34m[07/09/2022 09:17:08 INFO 140319757993792] Saved checkpoint to \"/opt/ml/model/image-classification-0015.params\"\u001b[0m\n",
      "\u001b[34m[07/09/2022 09:17:11 INFO 140319757993792] Epoch[15] Batch [20]#011Speed: 262.584 samples/sec#011accuracy=0.882440\u001b[0m\n",
      "\u001b[34m[07/09/2022 09:17:12 INFO 140319757993792] Epoch[15] Train-accuracy=0.876008\u001b[0m\n",
      "\u001b[34m[07/09/2022 09:17:12 INFO 140319757993792] Epoch[15] Time cost=3.623\u001b[0m\n",
      "\u001b[34m[07/09/2022 09:17:12 INFO 140319757993792] Epoch[15] Validation-accuracy=0.843750\u001b[0m\n",
      "\u001b[34m[07/09/2022 09:17:15 INFO 140319757993792] Epoch[16] Batch [20]#011Speed: 261.017 samples/sec#011accuracy=0.907738\u001b[0m\n",
      "\u001b[34m[07/09/2022 09:17:16 INFO 140319757993792] Epoch[16] Train-accuracy=0.900202\u001b[0m\n",
      "\u001b[34m[07/09/2022 09:17:16 INFO 140319757993792] Epoch[16] Time cost=3.667\u001b[0m\n",
      "\u001b[34m[07/09/2022 09:17:17 INFO 140319757993792] Epoch[16] Validation-accuracy=0.812500\u001b[0m\n",
      "\u001b[34m[07/09/2022 09:17:20 INFO 140319757993792] Epoch[17] Batch [20]#011Speed: 263.587 samples/sec#011accuracy=0.936012\u001b[0m\n",
      "\u001b[34m[07/09/2022 09:17:21 INFO 140319757993792] Epoch[17] Train-accuracy=0.930444\u001b[0m\n",
      "\u001b[34m[07/09/2022 09:17:21 INFO 140319757993792] Epoch[17] Time cost=3.630\u001b[0m\n",
      "\u001b[34m[07/09/2022 09:17:21 INFO 140319757993792] Epoch[17] Validation-accuracy=0.828125\u001b[0m\n",
      "\u001b[34m[07/09/2022 09:17:24 INFO 140319757993792] Epoch[18] Batch [20]#011Speed: 262.384 samples/sec#011accuracy=0.857143\u001b[0m\n",
      "\u001b[34m[07/09/2022 09:17:25 INFO 140319757993792] Epoch[18] Train-accuracy=0.872984\u001b[0m\n",
      "\u001b[34m[07/09/2022 09:17:25 INFO 140319757993792] Epoch[18] Time cost=3.637\u001b[0m\n",
      "\u001b[34m[07/09/2022 09:17:26 INFO 140319757993792] Epoch[18] Validation-accuracy=0.822917\u001b[0m\n",
      "\u001b[34m[07/09/2022 09:17:29 INFO 140319757993792] Epoch[19] Batch [20]#011Speed: 265.440 samples/sec#011accuracy=0.931548\u001b[0m\n",
      "\u001b[34m[07/09/2022 09:17:30 INFO 140319757993792] Epoch[19] Train-accuracy=0.919355\u001b[0m\n",
      "\u001b[34m[07/09/2022 09:17:30 INFO 140319757993792] Epoch[19] Time cost=3.609\u001b[0m\n",
      "\u001b[34m[07/09/2022 09:17:30 INFO 140319757993792] Epoch[19] Validation-accuracy=0.852679\u001b[0m\n",
      "\u001b[34m[07/09/2022 09:17:33 INFO 140319757993792] Epoch[20] Batch [20]#011Speed: 260.861 samples/sec#011accuracy=0.921131\u001b[0m\n",
      "\u001b[34m[07/09/2022 09:17:34 INFO 140319757993792] Epoch[20] Train-accuracy=0.916331\u001b[0m\n",
      "\u001b[34m[07/09/2022 09:17:34 INFO 140319757993792] Epoch[20] Time cost=3.643\u001b[0m\n",
      "\u001b[34m[07/09/2022 09:17:35 INFO 140319757993792] Epoch[20] Validation-accuracy=0.807292\u001b[0m\n",
      "\u001b[34m[07/09/2022 09:17:38 INFO 140319757993792] Epoch[21] Batch [20]#011Speed: 263.472 samples/sec#011accuracy=0.958333\u001b[0m\n",
      "\u001b[34m[07/09/2022 09:17:39 INFO 140319757993792] Epoch[21] Train-accuracy=0.954637\u001b[0m\n",
      "\u001b[34m[07/09/2022 09:17:39 INFO 140319757993792] Epoch[21] Time cost=3.636\u001b[0m\n",
      "\u001b[34m[07/09/2022 09:17:39 INFO 140319757993792] Epoch[21] Validation-accuracy=0.807292\u001b[0m\n",
      "\u001b[34m[07/09/2022 09:17:42 INFO 140319757993792] Epoch[22] Batch [20]#011Speed: 261.259 samples/sec#011accuracy=0.955357\u001b[0m\n",
      "\u001b[34m[07/09/2022 09:17:43 INFO 140319757993792] Epoch[22] Train-accuracy=0.946573\u001b[0m\n",
      "\u001b[34m[07/09/2022 09:17:43 INFO 140319757993792] Epoch[22] Time cost=3.646\u001b[0m\n",
      "\u001b[34m[07/09/2022 09:17:44 INFO 140319757993792] Epoch[22] Validation-accuracy=0.843750\u001b[0m\n",
      "\u001b[34m[07/09/2022 09:17:47 INFO 140319757993792] Epoch[23] Batch [20]#011Speed: 263.855 samples/sec#011accuracy=0.961310\u001b[0m\n",
      "\u001b[34m[07/09/2022 09:17:48 INFO 140319757993792] Epoch[23] Train-accuracy=0.953629\u001b[0m\n",
      "\u001b[34m[07/09/2022 09:17:48 INFO 140319757993792] Epoch[23] Time cost=3.615\u001b[0m\n",
      "\u001b[34m[07/09/2022 09:17:48 INFO 140319757993792] Epoch[23] Validation-accuracy=0.830357\u001b[0m\n",
      "\u001b[34m[07/09/2022 09:17:51 INFO 140319757993792] Epoch[24] Batch [20]#011Speed: 261.315 samples/sec#011accuracy=0.973214\u001b[0m\n",
      "\u001b[34m[07/09/2022 09:17:52 INFO 140319757993792] Epoch[24] Train-accuracy=0.972782\u001b[0m\n",
      "\u001b[34m[07/09/2022 09:17:52 INFO 140319757993792] Epoch[24] Time cost=3.645\u001b[0m\n",
      "\u001b[34m[07/09/2022 09:17:53 INFO 140319757993792] Epoch[24] Validation-accuracy=0.843750\u001b[0m\n",
      "\u001b[34m[07/09/2022 09:17:55 INFO 140319757993792] Epoch[25] Batch [20]#011Speed: 263.345 samples/sec#011accuracy=0.956845\u001b[0m\n",
      "\u001b[34m[07/09/2022 09:17:57 INFO 140319757993792] Epoch[25] Train-accuracy=0.954637\u001b[0m\n",
      "\u001b[34m[07/09/2022 09:17:57 INFO 140319757993792] Epoch[25] Time cost=3.632\u001b[0m\n",
      "\u001b[34m[07/09/2022 09:17:57 INFO 140319757993792] Epoch[25] Validation-accuracy=0.822917\u001b[0m\n",
      "\u001b[34m[07/09/2022 09:18:00 INFO 140319757993792] Epoch[26] Batch [20]#011Speed: 263.956 samples/sec#011accuracy=0.944940\u001b[0m\n",
      "\u001b[34m[07/09/2022 09:18:01 INFO 140319757993792] Epoch[26] Train-accuracy=0.954637\u001b[0m\n",
      "\u001b[34m[07/09/2022 09:18:01 INFO 140319757993792] Epoch[26] Time cost=3.639\u001b[0m\n",
      "\u001b[34m[07/09/2022 09:18:01 INFO 140319757993792] Epoch[26] Validation-accuracy=0.869792\u001b[0m\n",
      "\u001b[34m[07/09/2022 09:18:02 INFO 140319757993792] Storing the best model with validation accuracy: 0.869792\u001b[0m\n",
      "\u001b[34m[07/09/2022 09:18:02 INFO 140319757993792] Saved checkpoint to \"/opt/ml/model/image-classification-0027.params\"\u001b[0m\n",
      "\u001b[34m[07/09/2022 09:18:05 INFO 140319757993792] Epoch[27] Batch [20]#011Speed: 254.199 samples/sec#011accuracy=0.997024\u001b[0m\n",
      "\u001b[34m[07/09/2022 09:18:06 INFO 140319757993792] Epoch[27] Train-accuracy=0.986895\u001b[0m\n",
      "\u001b[34m[07/09/2022 09:18:06 INFO 140319757993792] Epoch[27] Time cost=3.716\u001b[0m\n",
      "\u001b[34m[07/09/2022 09:18:06 INFO 140319757993792] Epoch[27] Validation-accuracy=0.866071\u001b[0m\n",
      "\u001b[34m[07/09/2022 09:18:09 INFO 140319757993792] Epoch[28] Batch [20]#011Speed: 261.060 samples/sec#011accuracy=0.979167\u001b[0m\n",
      "\u001b[34m[07/09/2022 09:18:10 INFO 140319757993792] Epoch[28] Train-accuracy=0.970766\u001b[0m\n",
      "\u001b[34m[07/09/2022 09:18:10 INFO 140319757993792] Epoch[28] Time cost=3.651\u001b[0m\n",
      "\u001b[34m[07/09/2022 09:18:11 INFO 140319757993792] Epoch[28] Validation-accuracy=0.796875\u001b[0m\n",
      "\u001b[34m[07/09/2022 09:18:14 INFO 140319757993792] Epoch[29] Batch [20]#011Speed: 263.214 samples/sec#011accuracy=0.979167\u001b[0m\n",
      "\u001b[34m[07/09/2022 09:18:15 INFO 140319757993792] Epoch[29] Train-accuracy=0.980847\u001b[0m\n",
      "\u001b[34m[07/09/2022 09:18:15 INFO 140319757993792] Epoch[29] Time cost=3.628\u001b[0m\n",
      "\u001b[34m[07/09/2022 09:18:15 INFO 140319757993792] Epoch[29] Validation-accuracy=0.848958\u001b[0m\n",
      "\n",
      "2022-07-09 09:18:52 Uploading - Uploading generated training model\n",
      "2022-07-09 09:19:12 Completed - Training job completed\n",
      "ProfilerReport-1657357907: NoIssuesFound\n",
      "Training seconds: 327\n",
      "Billable seconds: 327\n"
     ]
    }
   ],
   "source": [
    "img_classifier_model.fit(model_inputs)"
   ]
  },
  {
   "cell_type": "markdown",
   "metadata": {},
   "source": [
    "If all goes well, you'll end up with a model topping out above `.8` validation accuracy. With only 1000 training samples in the CIFAR dataset, that's pretty good. We could definitely pursue data augmentation & gathering more samples to help us improve further, but for now let's proceed to deploy our model.\n",
    "\n",
    "### Getting ready to deploy\n",
    "\n",
    "To begin with, let's configure Model Monitor to track our deployment. We'll define a `DataCaptureConfig` below:"
   ]
  },
  {
   "cell_type": "code",
   "execution_count": 11,
   "metadata": {},
   "outputs": [],
   "source": [
    "from sagemaker.model_monitor import DataCaptureConfig\n",
    "\n",
    "data_capture_config = DataCaptureConfig(\n",
    "    enable_capture= True,\n",
    "    destination_s3_uri=f\"s3://{bucket}/data_capture\",\n",
    "    sampling_percentage = 100\n",
    ")"
   ]
  },
  {
   "cell_type": "markdown",
   "metadata": {},
   "source": [
    "Note the `destination_s3_uri` parameter: At the end of the project, we can explore the `data_capture` directory in S3 to find crucial data about the inputs and outputs Model Monitor has observed on our model endpoint over time.\n",
    "\n",
    "With that done, deploy your model on a single `ml.m5.xlarge` instance with the data capture config attached:"
   ]
  },
  {
   "cell_type": "code",
   "execution_count": 12,
   "metadata": {},
   "outputs": [
    {
     "name": "stdout",
     "output_type": "stream",
     "text": [
      "---------------!image-classification-2022-07-09-09-19-33-937\n"
     ]
    }
   ],
   "source": [
    "deployment = img_classifier_model.deploy(\n",
    "    initial_instance_count=1, \n",
    "    instance_type='ml.m5.xlarge',\n",
    "    data_capture_config=data_capture_config\n",
    "    )\n",
    "\n",
    "endpoint = deployment.endpoint_name\n",
    "print(endpoint)"
   ]
  },
  {
   "cell_type": "markdown",
   "metadata": {},
   "source": [
    "Note the endpoint name for later as well.\n",
    "\n",
    "Next, instantiate a Predictor:"
   ]
  },
  {
   "cell_type": "code",
   "execution_count": 13,
   "metadata": {},
   "outputs": [],
   "source": [
    "predictor = sagemaker.Predictor(\n",
    "    endpoint_name=endpoint,\n",
    "    sagemaker_session=session,\n",
    ")"
   ]
  },
  {
   "cell_type": "markdown",
   "metadata": {},
   "source": [
    "In the code snippet below we are going to prepare one of your saved images for prediction. Use the predictor to process the `payload`."
   ]
  },
  {
   "cell_type": "code",
   "execution_count": 14,
   "metadata": {},
   "outputs": [],
   "source": [
    "from sagemaker.serializers import IdentitySerializer\n",
    "import base64\n",
    "\n",
    "predictor.serializer = IdentitySerializer(\"image/png\")\n",
    "with open(\"./test/bicycle_s_001789.png\", \"rb\") as f:\n",
    "    payload = f.read()\n",
    "\n",
    "    \n",
    "inference = predictor.predict(payload)"
   ]
  },
  {
   "cell_type": "code",
   "execution_count": 107,
   "metadata": {},
   "outputs": [],
   "source": [
    "thing = {\n",
    "  \"statusCode\": 200,\n",
    "  \"body\": {\n",
    "    \"image_data\": \"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\",\n",
    "    \"s3_bucket\": \"sagemaker-us-east-2-314861141982\",\n",
    "    \"s3_key\": \"test/bicycle_s_000513.png\",\n",
    "    \"inferences\": []\n",
    "  }\n",
    "}"
   ]
  },
  {
   "cell_type": "code",
   "execution_count": 109,
   "metadata": {},
   "outputs": [
    {
     "data": {
      "text/plain": [
       "b'\\x89PNG\\r\\n\\x1a\\n\\x00\\x00\\x00\\rIHDR\\x00\\x00\\x00 \\x00\\x00\\x00 \\x08\\x06\\x00\\x00\\x00szz\\xf4\\x00\\x00\\x00\\x04sBIT\\x08\\x08\\x08\\x08|\\x08d\\x88\\x00\\x00\\x00\\tpHYs\\x00\\x00\\x0fa\\x00\\x00\\x0fa\\x01\\xa8?\\xa7i\\x00\\x00\\n\\x9aIDATX\\x85M\\x97io\\\\Gv\\x86\\x9f\\xda\\xee\\xed{{o\\x92MR\\xcdM\\x0bIY\\xb2d\\xd9\\x96\\x07\\x89\\x91\\x19L\\x82\\xe4\\x7f\\xe5\\x8f\\xc5A\\x10 \\xb3\\xc8\\x8a\\xc7\\xbbd[\\x0be\\xae\\xcdn\\xb2\\xb7\\xdbw\\xad\\xaa|\\xa0b\\xcc\\xf9X(\\x14\\n/N\\x9dz\\x1e\\xf1\\xc9\\xc3\\xbb\\xbe$dus\\x8b\\xf3\\xf3S\\x8a4#++\\x84T8[!\\x01/@KEw\\xa5K\\xb7\\xd1C\\xd6[4\\xbak\\xe4yIV\\xe6\\x98 @)\\x89\\xb09\\x95\\x05/5\\xae\\xaa(\\xf3\\x02m\\x0cATC)M\\x96\\x15x\\xef\\x11\\x80u\\x0e\\xe9<2\\xa8\\xc5\\xa8\\xa0\\x86\\x93\\x9a\\xdck\\nY\\xa3t\\x02\\xa5\\x14\\xf5f\\x0b\\xaf\\x02J\\'\\x88\\x9b\\x1d:\\xab}\\xe2N\\x97V\\xa3\\x8d\\xb59\\xc9r\\x8a\\xf3\\x0e\\x00g\\x1dUY\\xd1\\xe9tPJ\\xe3\\xbdGJ\\tB\\xd0l6i6\\x9b\\xbf\\xadynJ \\x90\\xa3E\\x89\\x95\\x9a\\xe6\\xf6\\x01\\x8d\\xee*\\xcd\\xfe&^\\xa9\\x9b\\x8d\\xde\\xa3\\xb5\\xa2^o\\xf0\\xf9\\xef\\xff\\x80\\x8cbD\\xd4 h4\\x18\\x9e\\x9f\\x92g)JH\\xbcu\\x14Y\\x86\\xd4\\n\\xad%J8\\xa2ZH\\x1c\\xc7\\x18c\\x10B\\xe0\\x9cE\\x08\\x8fs\\x15ZB\\xa0\\x15N\\x80^\\xdd\\xdb\\'\\x99\\x8di\\xf77\\xd81\\x16k=\\xa3\\xd3#\\x84\\x10\\xe4y\\x8e\\xd6\\x9a\\x9d\\xbd\\x01\\x07\\x0f\\xef\\xf0\\xea\\xd5\\x0f,\\xb2\\x92\\xcaC\\x9eeD\\xf5&\\x12\\x81\\x12\\x02\\x94&\\x8ajL&\\xd7\\xac\\xae\\xae\\xa1\\xa4A\\x08\\xc5\\xf5t\\x8a\\x94\\x92\\xe5r\\x89\\xf7\\x0e<\\xd8\\xb2D*\\x05\\x12tgs\\x9d\\xeb\\xab3\\x8e^|\\xc3\\xca`\\x9dF\\xb3\\x8e\\x14\\x02)%J)Z\\xad\\x16UYq=\\x1c\\xb2\\xd2\\xea L\\xccb\\xb9 4\\n!%\\x08\\xf0\\xde\\xa3\\x94$I\\x12\\x9c\\xb3\\\\\\\\\\\\P\\xe4\\x15\\xce\\t\\xc2(\\xc4zGY\\x96(\\xa5\\xc0{\\xac\\xb58k\\x11R\\xa3\\x85K\\xf06c2\\xba \\x0c\\x0c\\xbe\\xedp\\xde\\xe3\\xa5\\xa4\\x117\\x90JcK\\xcbrZ\\xd2Z\\x1b`\\xa2&\\xfb\\xdd\\x98\\x9f_\\xbdf:M\\xc1K\\xac\\xf77)x\\x8f\\xf7\\x80\\x10\\x18\\xa3\\xd0: n\\xb6\\x98\\xcd\\xe7TU\\x05\\xbc\\xbf\\xac\\xd6\\x80\\xc0{\\xd0\\xd3\\xcb3\\x02\\x05\\xd6\\x96\\xcc\\xa7\\x13f\\x8b\\x04\\xeb\\x1cB\\x19t\\\\G\\x08O\\x9e\\xe7\\xcc\\xd2\\x94\\xc7O?\\xe5\\xf2zBX\\xaf\\x91\\x16)\\xc9\\xe4\\x9aVg\\x05\\xaf\\x04\\xb5\\xb0\\x06N\\x91\\xa6)F\\x1b\\x1a\\xed:\\xf7\\xee?\\xa0\\xdd]\\xe1\\xaf\\x7f\\xfe\\x13\\xe3\\xf1\\x98\\xff/\\xeb@\\x08p\\xde\\xa3\\xdf\\xfc\\xf8\\x96zS\\x81\\xcc\\x18_\\x9e\\x11\\xd4\\xea\\x84RR\\x0fBVz=\\xa4\\x96\\x8c\\xde\\x1e1\\xb9\\x9e\\xb0L\\x97,\\x92+^\\xfftLzyI:_P\\x149\\xed\\xb5U|`H\\x92\\x05\\xb6\\xc88z\\xf5\\x13\\xa5\\xf3\\x9c\\x9c\\x0f\\xb9{\\xf0\\xc1M\\xe4\\xce\\xa1\\x94\"\\x08B\\xf2\\xbc\\xc0\\xf9\\x9b\\xb7\\xa0\\x1a\\xf5\\xee\\xbf\\xa3A\\x9a\\x00\\x01\\xb8\\xcaR,\\x12\\x9a\\xf5&\\xc6\\x18\\xb4\\xd14;-\\xb6\\xf7\\xee0\\x99\\x8dX$\\x0bN_\\x9f\\x11\\xe8\\x80\\xee\\xda-\\xa20$\\n\\x0c\\xd6A\\xa3\\x1e!l\\x0e\\x0e\\xb4\\x17,\\xe6W\\xcc\\xe7S\\xda\\xbd\\x15\\xfa\\xfdu\\xa2($I\\x12\\xbc\\x07!\\x04x\\xd0^\\n\\x92\\xc4\\xd1\\x0e\\x04\\xde\\x08\\x8at\\x89\\x08\"RkIGC\\x0e\\xba\\x87l\\x0c\\x06d\\xb6\\xa2\\x1e\\\\\\xa0k\\x86\\x9d[-\\\\9cwo\\x05i,T%\\xde[\\x10%e!I\\xd2\\r~\\xf9\\xc9\\xa3\\xdb\\x8a\\xad\\xadu&\\xcb\\x92\\xcaW\\xdc\\xdd\\xd9\\xe1\\xfar\\x8c\\x93\\x02\\xef\\x1d\\xce\\x96h\\xa3k\\x14\\xd9\\x12\\x87@X\\x8fs\\x8eV\\xb7CQ\\x14\\x94y\\x8a1\\x86(\\xac19\\xfe\\x85\\xde`\\x84W]:\\xb7<\\xdbk\\x0b\\x8c\\xf9\\n\\xeb\\x15\\xa1rD:E\\x02x8\\x9b\\t\\x8e\\x8f\\x07xk\\x10x\\xa6gg8\\x17\\xb0\\xbd6 h4I\\'WH\\x04R\\n\\xf4\\xd6\\xfe\\x01U\\xb6\\xa4\\x90\\x8e\\xe9xL\\x18\\x06h\\x13\"MH\\x7f}\\x8dN\\xa7\\xcb\\xd9\\xf0\\x8c$\\x1d\\x93W\\x19\\xaf_-h\\x99\\x8a\\xfd\\x95\\xd7\\xd4EI\\xe5\\xeb\\xc4\\xba$\\x90\\x13\\x84\\x0f\\xc8\\xd3\\x06\\xcd(\\xa6\\xde\\x8e9~5\"n\\x18>\\xddz\\x84\\x9b\\xe6\\x14\\xc73\\xea\\xb9`R\\x96TR \\x9c@\\xafn\\xde\"\\xd0\\x90f\\t\\x8dz\\x9d^\\xaf\\x8b\\x92\\x112\\x08\\xe94j\\xe4\\xcb\\x84\\xab\\xab\\x11\\x9b\\xb7\\xd6pjD\\x9a\\xe5d\\x8b&?\\xbe\\x1a\\xf0\\xf9\\xe3\\x0b\\xa2\\xd0SS\\x012\\xac\\xe1*\\x89\\xa3d9mp5+\\x89\\x9b\\xab\\xac\\x886\\xe7\\x17\\xc7\\xcc\\xb2%\\xf9\\xb8 Ha\\xbd\\xd7\\xc05\\r\\xa5\\x95\\xe8\\xd5^\\x87f+&\\x084\\xc6\\x04\\x04A\\x80\\x92\\x92\\x96\\xad!f\\x96_\\xaf\\xde\\xb0\\xd9?\\xa040:+\\xd9\\xba5\\xe7\\xfc8\\xe5O?K\\xbc\\x0c\\xf9\\xfd\\xc3\\x1c\\xeb5Vl`\\xab\\x0c\\xa5\\x96\\x8c\\xe6}B\\x17\\xe0\\xd3\\x9c\\xa3\\xd3\\x13\\xbaw7\\x88\\xe2\\x16n1\\xc5\\x8ds(\\nZ\\xedM\\x9c\\x96\\xe8\\xc7\\x0f\\xee#\\x8d\\x02)\\x90B\"\\xa4\\xe0\\xf8\\xcd\\t\\xf9\\xc9\\x98\\xc5\\xd5\\x8c\\xab\\xeb\\x11\\x99]R\\n\\x81HKz\\x0f\"\\x0e\\x0f\\r\\xdf\\xbf\\xb4\\x1cO\\x1e\\xf2\\xcd\\xd1+\\x1e\\xed\\xcf\\xa1\\x08\\xd1*b\\x91\\xc3\\xd2o\\xb1\\x13\\xd682G\\x88z\\x84i\\xd5\\xb1EF>O\\xd8\\xdb\\xdf\\xe7\\xe8\\xbb\\x1fp*\\xa7\\xb5\\xb6\\x8a^\\xdfX#+K\\x1c\\x1e\\xa3C\\xbe|\\xf6\\x9c/\\xff\\xf2gV\\x9b\\r\\xfa\\x1b]\\xb6\\x9f\\x1cp\\xf2\\xe6\\x84\\xab\\x97\\'$\\x93K\\xb6\\xedc\\xf6\\xee\\xd6\\xa9\\x12I\\xd8\\xda\\xe6d\\xd9g\\xd7\\xbd\\xa3\\x1b\\xfe\\x88\\xb3\\x9e\\x94>\\xbal\\x93/F\\xc8~\\x8b,\\xc9X\\x8c/0\\x8d\\x1a&\\x0cX\\xea\\t\\xb2!\\x18\\xcf~!\\x8f\\x7fE\\x0b\\x01Zk\\xa4R|\\xfb\\xf5w|\\xf5\\xfc9\\xff\\xfa/\\x7f\\xa4r9Z8\\x1e}\\xf4\\x94\\x8eh\\xf3n&x\\x11\\x14\\x1c\\xbf\\xbd\\xe0\\xf0\\xe3\\xdf\\xb1\\xbey\\xc9h\\xb6`Y(~|y\\x9bO\\x0f\\x0bj\\xf2{*\\xf9\\x84v\\xda\\xe4utF\\xb8\\xda&w\\x16\\xe1\\x1d\\xb8\\n-%I6&\\x8e\\rs;\\'\\xc9f\\xc8 \\x08\\x88\\xa2\\x88\\xd3\\xd3S\\x9e?\\xfb\\x0b\\xff\\xf6\\xcf\\x7f\\xe0\\x93O?\\xc6V\\x8eP\\x19lQ\\x92\\x8d&,\\xe6s\\xa2N\\x8b\\xabr\\xc1\\xf7\\xcfO\\t\\xe3\\x06e\\xf1\\x8e\\xef\\xbe\\xfa\\x1b\\xff\\xf3\\xeck\\xbe|\\xb1\\xc9\\xc4}L\\x99\\xafsy<\\xa4\\xd6\\xef\\x10\\xc5\\x01Q\\xc3\\xe0K\\x81J=Q\\x14#\\x00\\x1dIL|\\xd3s2\\xaaE\\xd8\\xaa\\xe2\\xf9\\xb3g<y\\xf4!\\x8f\\x1e>\\xc0{G\\x10\\x86H\\x1d \\x9d\\xc7U\\x8eB\\x0b\\\\U\\xb2yo\\x87y2#\\xcfV\\t\\x83\\x90v\\xc71K,\\xc7W\\x8aK\\xff\\x19\\xd9Ds:=%\\x8ab\\xdaA\\x0b\\x1cL\\xc7\\xd7\\xd8\\xa4\\xa0\\x16k\\x9c\\xf4d\\xc2##\\x8d\\xf0\\x1ei\\xa4\\xe6\\xe8\\xed\\x1b\\xf2e\\xc2\\xe7\\xff\\xf0\\x8f(\\xa9PB\\xd1\\xed\\xf5X\\xa49\\xb3\\xf15&\\x08\\xe9mo\\xb0}{\\x97\\x0f\\x1e<\\xa0\\xa8\\n\\xe6\\xb3\\x9cv\\xef\\x1e\\x8f\\x9e\\xdc\\xa5\\xde\\xd4\\xb8<\\xa5\\xc8\\x96L\\xce\\x12\\x88\\x03d`0\\xde@e\\xb1e\\xc1b\\x91P\\xba\\x14[\\xe5X[PU9\\xc6\\xd7\\xd1\\xb6\\xb2\\xfc\\xf2\\xf3/\\x1c\\x1c\\x1c\\x10E\\x11y\\x9e\\xe3\\x9ccuu\\x95\\xb37\\xef\\x98\\x9c_\\x12w\\x9b\\xec\\x0e:dEBh\\x02\\x9c\\x84\\xd9b\\xc2\\xe3O\\xfe\\x88\\x15\\x03\\x92d\\xc9\\xe8\\xd7\\x0bN\\xdeBz\\xa2i\\xac\\xf5q\\x99\\xa0\\xbf\\xd2\\xc3\\xac\\xefq4*\\xa1\\x15\\xd3\\xec\\xf4\\xb1SO\\xea,\\xd2\\xc7\\x042@Ng3&\\x93k\\xee\\xde\\xbdw\\xf3;)\\x85\\x14\\x82V\\xabM=\\x8e\\x99\\x8c\\xae\\xd15M\\xb7\\xd7b\\xa5\\xdd#\\xae\\xd5Pa\\xc0\\xee\\xee=\\xb6\\x06\\xdb(\\xdf\\xa5\\x16\\xc4\\xec\\xec\\xf7\\xc8\\xaa\\x1a\\xb3\\n\\n\\xeb\\xe9D\\x1d\\x92Y\\x86\\x97\\x01\\xfd\\xfbw\\xd9\\xbc\\xbf\\xcf\\xc6\\xda\\x1d\\x0e\\xb6\\x9f\\x10\\x875\\xaae\\xc1\\xd5p\\x88\\x9e-\\x17\\x84J\\xb2\\xd6_\\xc3{\\xdes\\xa0f\\x9a,X.\\x97\\x98\\xd22\\xbe\\x1a\\x11\\xdb\\x94</\\xb8\\x9a\\\\\\xd3[[\\xe1\\xf6\\xbd\\xdb\\x14U\\xce\\xe8r\\xcch8e\\xf7N\\x97\\xeb\\x91\\xa3\\xdei\"\\x8cC6a\\xbe\\x9cRQ\\xb1u{\\x0bKA>\\xbb\\xc6\\xe8\\x1a\\xbb\\xb7\\x06\\xbc=\\x9a\\x92\\x15\\x02\\x9d\\xe79JJ\\x8c1T\\xa5\\xe5\\xef\\xcb\\x16\\x96z\\x1c\"\\xa3\\x80w\\xc33\\x02m(\\xbc\\xa5\\xd6\\xa8\\x93\\x14)\\xd5\\xb5\\x03-H\\x0bxwT\\xd2_\\xdb\\xa5\\x1ei\\x86\\xb31\\x85O\\xa9|\\xc9`k\\x8bn\\xa7M\\x10\\x08./G\\xd4\\xc2\\x16\\xb7o?\\xe1\\xfe\\xfeC\\xde\\xbe\\xf9\\x01]U\\x16\\xe7\\x1d\\x02\\xc1\\r\\xb1{\\xaa\\xaaBI\\xc9\\xfa\\xee\\x0e\\x81\\x12\\xf47o\\xb1Y\\xeda\\xb4\\xe2\\xed\\xeb7$I\\x82\\xc5\\x93dK\\x9a\\xdd\\x0e\\x9f\\xfe\\xee\\x9f\\xc8\\x96\\x15\\xbb{\\xbb\\x84\\xc6s\\xfa_\\xff\\xcd\\xc6J\\x9f\\xd6\\x9d\\x16q\\x14\\x13\\x87\\x01\\xf3\\xf95eYq\\xffp\\x97Z\\x14R\\xaf\\xef\\xd1\\xe9\\xae\\xa0\\x83 Bj\\x03\\xd6\"\\x85\\xc4:\\xb0U\\x85\\xf2\\xb0\\xb7\\xb7s\\x83\\xd3\\x08Z\\xb5\\x08\\xeb\\x1c\\x8b\\xd9\\x9c\\xdd\\x9d\\x1d\\xd6\\xbb+\\xd8\\xaa\\x02\\x0f\\xfd\\xfb\\xabLg\\x13\\xe6\\xb3\\x05\\x8d^\\x9b~o\\x95\\xb7?\\xfd\\xcc\\xd3\\xcf>#\\x92\\x82\\xe9\\xf0\\x94\\xb3\\x8b!\\x1b\\xdb{h\\xad\\xa8\\xca\\x124\\xb4\\x1amt\\xb3\\x1e\\xe3\\x9c%Y$4\\x1a\\xad\\x1by\\x107D\\xec\\x9c\\x03\\xa5\\xdeS\\xafb<\\x1e\\x13\\x9b\\x80[\\xfduj&\\xc0\\xbd\\x17\\x10\\xa5$\\x811()\\xb1U\\xc5G\\x1f=\\xe6\\xc5\\x8b\\x97\\xfc\\xef\\xb3/\\x89\\xea5P\\x8e\\xf5\\xf5M\\xea\\xf5\\x06Y\\x96\\x12\\x045\\x94\\xf2\\xf8\\xca\\xa2{\\xad:\\xb5 \\xe0\\xfc\\xfc\\x9c\\x0f?\\\\\\xa3(2\\xb4\\xb99\\x18@\\n\\x01B\\xe0\\x81\\x93\\xe3c\\xf6\\xb6vh\\x84\\x11^8\\x90\\x12\\xb8\\x19\\xe5\\xe3\\xd1\\x98\\xab\\xab\\t\\xb7\\xef<\\xa5*-\\x07\\x07\\x07\\x9c\\x9d]\\xa0\\x03\\xc3j\\x7f\\x8d(\\x8a0\\xc6\\x10\\x86!\\xdeCUV \\x1c\\xbaUo\\xb2\\x7f\\xf8\\x80o\\xbe\\xfe\\x96\\xc7\\x1f>&\\x8a\"\\x8a\\xa2x\\xef\\x05\\x02\\xa3$\\xc6\\x04|\\xfb\\xfd\\x8f\\x00\\x0c\\x06\\x83\\xf7:&\\x10\\xe2&\\x9d</\\x99\\xcc\\x12~=9g\\xfbbD\\x10\\x04x\\xa9\\xd8?<$\\x0cC\\x84\\xf7\\x94U\\x85\\x17\\xe2F\\xc9\\x84\\xc0y\\x87\\x05d\\x14\\xd5y\\xfa\\xc9SjQ\\xc4\\x17\\xff\\xf9\\x05\\xe2\\xef\\\\\\xae\\xd9l\"\\x94\\xe4\\xe7W\\xaf\\x18\\x0e\\x87\\x1c\\x1e\\xde\\xc7z\\xf7\\x9eh\\x05 \\xa8\\xac#\\xcf\\x0b\\xa4\\xd2\\x980\\xc4\\xf9\\x9bf\\x0e\\xc2\\x90\\xac\\xc8\\x99\\xcdf$\\xc9\\xe2\\xb7\\x01\\x97\\xe7\\xf9o\\xa9\\x990@|\\xf9\\xb7\\x97\\xdey\\xc7\\xf9\\xd5\\x88/\\xbe\\xf8\\x0fBc\\x18\\x0c\\x06DQ\\xc42M99;\\xc7V%\\x1f\\x1c\\x1e\\xd2\\xeb\\xf50B\\xfe&\\x99B\\x08\\x8a\\xa2\\xc0Z\\xcb\\xe8z\\xc2\\xc5p\\xc8`p\\x8b \\xb8\\xf1A)%Z\\xca\\x1b}\\xd3\\x9aZ=~\\x8f\\xe6\\xb5\\xdf\\xdcS\\xfc\\xf5\\xab\\x1f\\xbcs\\x8eR\\xc2\\xe4\\xfa\\x9a\\x9f^\\xbc\\xe4|8d\\xb1X\\x10\\xc51\\x9dN\\x97\\x9d\\xed-\\xc2@\\xa1\\xb5Ak\\x83-*p\\x96\\xaa\\xaa\\xb0\\x1e<\\xe0\\xbc\\xa3\\xb2\\x16\\xa3$a\\x10 \\x10(\\xad\\x90\\xe2\\xe6\\x12\\xca\\x18\\xfc\\xfb\\x9e\\x91R\\xdd \\x00\\x82\\xff\\x03\\xce\\xc7[Bk\\xd9\\x00\\xdc\\x00\\x00\\x00\\x00IEND\\xaeB`\\x82'"
      ]
     },
     "execution_count": 109,
     "metadata": {},
     "output_type": "execute_result"
    }
   ],
   "source": [
    "payload"
   ]
  },
  {
   "cell_type": "code",
   "execution_count": 111,
   "metadata": {},
   "outputs": [
    {
     "data": {
      "text/plain": [
       "b'[0.9980545043945312, 0.0019455113215371966]'"
      ]
     },
     "execution_count": 111,
     "metadata": {},
     "output_type": "execute_result"
    }
   ],
   "source": [
    "predictor.predict(base64.b64decode(thing['body']['image_data']))"
   ]
  },
  {
   "cell_type": "markdown",
   "metadata": {},
   "source": [
    "Your `inference` object is an array of two values, the predicted probability value for each of your classes (bicycle and motorcycle respectively.) So, for example, a value of `b'[0.91, 0.09]'` indicates the probability of being a bike is 91% and being a motorcycle is 9%."
   ]
  },
  {
   "cell_type": "code",
   "execution_count": 100,
   "metadata": {},
   "outputs": [
    {
     "name": "stdout",
     "output_type": "stream",
     "text": [
      "b'[0.9971375465393066, 0.0028624865226447582]'\n"
     ]
    }
   ],
   "source": [
    "print(inference)"
   ]
  },
  {
   "cell_type": "code",
   "execution_count": 15,
   "metadata": {},
   "outputs": [],
   "source": [
    "import boto3\n"
   ]
  },
  {
   "cell_type": "code",
   "execution_count": 16,
   "metadata": {},
   "outputs": [],
   "source": [
    "runtime = boto3.client('runtime.sagemaker')"
   ]
  },
  {
   "cell_type": "code",
   "execution_count": 121,
   "metadata": {},
   "outputs": [],
   "source": [
    "import json\n",
    "result = json.loads(response['Body'].read().decode())"
   ]
  },
  {
   "cell_type": "code",
   "execution_count": 124,
   "metadata": {},
   "outputs": [
    {
     "data": {
      "text/plain": [
       "0.9971375465393066"
      ]
     },
     "execution_count": 124,
     "metadata": {},
     "output_type": "execute_result"
    }
   ],
   "source": [
    "max(result)"
   ]
  },
  {
   "cell_type": "markdown",
   "metadata": {},
   "source": [
    "### Draft Lambdas and Step Function Workflow\n",
    "\n",
    "Your operations team uses Step Functions to orchestrate serverless workflows. One of the nice things about Step Functions is that [workflows can call other workflows](https://docs.aws.amazon.com/step-functions/latest/dg/connect-stepfunctions.html), so the team can easily plug your workflow into the broader production architecture for Scones Unlimited.\n",
    "\n",
    "In this next stage you're going to write and deploy three Lambda functions, and then use the Step Functions visual editor to chain them together! Our functions are going to work with a simple data object:\n",
    "\n",
    "```python\n",
    "{\n",
    "    \"inferences\": [], # Output of predictor.predict\n",
    "    \"s3_key\": \"\", # Source data S3 key\n",
    "    \"s3_bucket\": \"\", # Source data S3 bucket\n",
    "    \"image_data\": \"\"  # base64 encoded string containing the image data\n",
    "}\n",
    "```\n",
    "\n",
    "A good test object that you can use for Lambda tests and Step Function executions, throughout the next section, might look like this:\n",
    "\n",
    "```python\n",
    "{\n",
    "  \"image_data\": \"\",\n",
    "  \"s3_bucket\": MY_BUCKET_NAME, # Fill in with your bucket\n",
    "  \"s3_key\": \"test/bicycle_s_000513.png\"\n",
    "}\n",
    "```\n",
    "\n",
    "Using these fields, your functions can read and write the necessary data to execute your workflow. Let's start with the first function. Your first Lambda function will copy an object from S3, base64 encode it, and then return it to the step function as `image_data` in an event.\n",
    "\n",
    "Go to the Lambda dashboard and create a new Lambda function with a descriptive name like \"serializeImageData\" and select thr 'Python 3.8' runtime. Add the same permissions as the SageMaker role you created earlier. (Reminder: you do this in the Configuration tab under \"Permissions\"). Once you're ready, use the starter code below to craft your Lambda handler:\n",
    "\n",
    "```python\n",
    "import json\n",
    "import boto3\n",
    "import base64\n",
    "\n",
    "s3 = boto3.client('s3')\n",
    "\n",
    "def lambda_handler(event, context):\n",
    "    \"\"\"A function to serialize target data from S3\"\"\"\n",
    "    \n",
    "    # Get the s3 address from the Step Function event input\n",
    "    key = ## TODO: fill in\n",
    "    bucket = ## TODO: fill in\n",
    "    \n",
    "    # Download the data from s3 to /tmp/image.png\n",
    "    ## TODO: fill in\n",
    "    \n",
    "    # We read the data from a file\n",
    "    with open(\"/tmp/image.png\", \"rb\") as f:\n",
    "        image_data = base64.b64encode(f.read())\n",
    "\n",
    "    # Pass the data back to the Step Function\n",
    "    print(\"Event:\", event.keys())\n",
    "    return {\n",
    "        'statusCode': 200,\n",
    "        'body': {\n",
    "            \"image_data\": image_data,\n",
    "            \"s3_bucket\": bucket,\n",
    "            \"s3_key\": key,\n",
    "            \"inferences\": []\n",
    "        }\n",
    "    }\n",
    "```\n",
    "\n",
    "The next function is responsible for the classification part - we're going to take the image output from the previous function, decode it, and then pass inferences back to the the Step Function.\n",
    "\n",
    "Because this Lambda will have runtime dependencies (i.e. the SageMaker SDK) you'll need to package them in your function. *Key reading:* https://docs.aws.amazon.com/lambda/latest/dg/python-package-create.html#python-package-create-with-dependency\n",
    "\n",
    "Create a new Lambda function with the same rights and a descriptive name, then fill in the starter code below for your classifier Lambda.\n",
    "\n",
    "```python\n",
    "import json\n",
    "import sagemaker\n",
    "import base64\n",
    "from sagemaker.serializers import IdentitySerializer\n",
    "\n",
    "# Fill this in with the name of your deployed model\n",
    "ENDPOINT = ## TODO: fill in\n",
    "\n",
    "def lambda_handler(event, context):\n",
    "\n",
    "    # Decode the image data\n",
    "    image = base64.b64decode(## TODO: fill in)\n",
    "\n",
    "    # Instantiate a Predictor\n",
    "    predictor = ## TODO: fill in\n",
    "\n",
    "    # For this model the IdentitySerializer needs to be \"image/png\"\n",
    "    predictor.serializer = IdentitySerializer(\"image/png\")\n",
    "    \n",
    "    # Make a prediction:\n",
    "    inferences = ## TODO: fill in\n",
    "    \n",
    "    # We return the data back to the Step Function    \n",
    "    event[\"inferences\"] = inferences.decode('utf-8')\n",
    "    return {\n",
    "        'statusCode': 200,\n",
    "        'body': json.dumps(event)\n",
    "    }\n",
    "```\n",
    "\n",
    "Finally, we need to filter low-confidence inferences. Define a threshold between 1.00 and 0.000 for your model: what is reasonble for you? If the model predicts at `.70` for it's highest confidence label, do we want to pass that inference along to downstream systems? Make one last Lambda function and tee up the same permissions:\n",
    "\n",
    "```python\n",
    "import json\n",
    "\n",
    "\n",
    "THRESHOLD = .93\n",
    "\n",
    "\n",
    "def lambda_handler(event, context):\n",
    "    \n",
    "    # Grab the inferences from the event\n",
    "    inferences = ## TODO: fill in\n",
    "    \n",
    "    # Check if any values in our inferences are above THRESHOLD\n",
    "    meets_threshold = ## TODO: fill in\n",
    "    \n",
    "    # If our threshold is met, pass our data back out of the\n",
    "    # Step Function, else, end the Step Function with an error\n",
    "    if meets_threshold:\n",
    "        pass\n",
    "    else:\n",
    "        raise(\"THRESHOLD_CONFIDENCE_NOT_MET\")\n",
    "\n",
    "    return {\n",
    "        'statusCode': 200,\n",
    "        'body': json.dumps(event)\n",
    "    }\n",
    "```\n",
    "Once you have tested the lambda functions, save the code for each lambda function in a python script called 'lambda.py'.\n",
    "\n",
    "With your lambdas in place, you can use the Step Functions visual editor to construct a workflow that chains them together. In the Step Functions console you'll have the option to author a Standard step function *Visually*.\n",
    "\n",
    "When the visual editor opens, you'll have many options to add transitions in your workflow. We're going to keep it simple and have just one: to invoke Lambda functions. Add three of them chained together. For each one, you'll be able to select the Lambda functions you just created in the proper order, filter inputs and outputs, and give them descriptive names.\n",
    "\n",
    "Make sure that you:\n",
    "\n",
    "1. Are properly filtering the inputs and outputs of your invokations (e.g. `$.body`)\n",
    "2. Take care to remove the error handling from the last function - it's supposed to \"fail loudly\" for your operations colleagues!\n",
    "\n",
    "Take a screenshot of your working step function in action and export the step function as JSON for your submission package."
   ]
  },
  {
   "cell_type": "markdown",
   "metadata": {},
   "source": [
    "\n",
    "Great! Now you can use the files in `./test` as test files for our workflow. Depending on our threshold, our workflow should reliably pass predictions about images from `./test` on to downstream systems, while erroring out for inferences below our confidence threshold!\n",
    "\n",
    "### Testing and Evaluation\n",
    "\n",
    "Do several step function invokations using data from the `./test` folder. This process should give you confidence that the workflow both *succeeds* AND *fails* as expected. In addition, SageMaker Model Monitor will generate recordings of your data and inferences which we can visualize.\n",
    "\n",
    "Here's a function that can help you generate test inputs for your invokations:"
   ]
  },
  {
   "cell_type": "code",
   "execution_count": 18,
   "metadata": {},
   "outputs": [],
   "source": [
    "import boto3"
   ]
  },
  {
   "cell_type": "code",
   "execution_count": 19,
   "metadata": {},
   "outputs": [],
   "source": [
    "s3 = boto3.resource('s3')"
   ]
  },
  {
   "cell_type": "code",
   "execution_count": 20,
   "metadata": {},
   "outputs": [],
   "source": [
    "bucket_boto = s3.Bucket(bucket)"
   ]
  },
  {
   "cell_type": "code",
   "execution_count": 21,
   "metadata": {},
   "outputs": [
    {
     "data": {
      "text/plain": [
       "s3.Bucket.objectsCollection(s3.Bucket(name='sagemaker-us-east-2-314861141982'), s3.ObjectSummary)"
      ]
     },
     "execution_count": 21,
     "metadata": {},
     "output_type": "execute_result"
    }
   ],
   "source": [
    "bucket_boto.objects.filter(Prefix='/test')"
   ]
  },
  {
   "cell_type": "code",
   "execution_count": 65,
   "metadata": {},
   "outputs": [
    {
     "data": {
      "text/plain": [
       "'{\"image_data\": \"\", \"s3_bucket\": \"sagemaker-us-east-2-314861141982\", \"s3_key\": \"test/bicycle_s_001102.png\"}'"
      ]
     },
     "execution_count": 65,
     "metadata": {},
     "output_type": "execute_result"
    }
   ],
   "source": [
    "import random\n",
    "import boto3\n",
    "import json\n",
    "\n",
    "\n",
    "def generate_test_case():\n",
    "    # Setup s3 in boto3\n",
    "    s3 = boto3.resource('s3')\n",
    "    \n",
    "    # Randomly pick from sfn or test folders in our bucket\n",
    "    objects = s3.Bucket(bucket).objects.filter(Prefix = \"test\")\n",
    "    \n",
    "    # Grab any random object key from that folder!\n",
    "    obj = random.choice([x.key for x in objects])\n",
    "    \n",
    "    return json.dumps({\n",
    "        \"image_data\": \"\",\n",
    "        \"s3_bucket\": bucket,\n",
    "        \"s3_key\": obj\n",
    "    })\n",
    "generate_test_case()"
   ]
  },
  {
   "cell_type": "markdown",
   "metadata": {},
   "source": [
    "In the Step Function dashboard for your new function, you can create new executions and copy in the generated test cases. Do several executions so that you can generate data you can evaluate and visualize.\n",
    "\n",
    "Once you've done several executions, let's visualize the record of our inferences. Pull in the JSONLines data from your inferences like so:"
   ]
  },
  {
   "cell_type": "code",
   "execution_count": 66,
   "metadata": {},
   "outputs": [
    {
     "name": "stdout",
     "output_type": "stream",
     "text": [
      "{\"image_data\": \"\", \"s3_bucket\": \"sagemaker-us-east-2-314861141982\", \"s3_key\": \"test/motorcycle_s_000530.png\"}\n",
      "{\"image_data\": \"\", \"s3_bucket\": \"sagemaker-us-east-2-314861141982\", \"s3_key\": \"test/velocipede_s_000863.png\"}\n",
      "{\"image_data\": \"\", \"s3_bucket\": \"sagemaker-us-east-2-314861141982\", \"s3_key\": \"test/cycle_s_001306.png\"}\n",
      "{\"image_data\": \"\", \"s3_bucket\": \"sagemaker-us-east-2-314861141982\", \"s3_key\": \"test/motorcycle_s_000049.png\"}\n",
      "{\"image_data\": \"\", \"s3_bucket\": \"sagemaker-us-east-2-314861141982\", \"s3_key\": \"test/minibike_s_000052.png\"}\n",
      "{\"image_data\": \"\", \"s3_bucket\": \"sagemaker-us-east-2-314861141982\", \"s3_key\": \"test/bike_s_000694.png\"}\n",
      "{\"image_data\": \"\", \"s3_bucket\": \"sagemaker-us-east-2-314861141982\", \"s3_key\": \"test/ordinary_bicycle_s_000350.png\"}\n",
      "{\"image_data\": \"\", \"s3_bucket\": \"sagemaker-us-east-2-314861141982\", \"s3_key\": \"test/minibike_s_000913.png\"}\n",
      "{\"image_data\": \"\", \"s3_bucket\": \"sagemaker-us-east-2-314861141982\", \"s3_key\": \"test/bike_s_000487.png\"}\n",
      "{\"image_data\": \"\", \"s3_bucket\": \"sagemaker-us-east-2-314861141982\", \"s3_key\": \"test/velocipede_s_001232.png\"}\n",
      "{\"image_data\": \"\", \"s3_bucket\": \"sagemaker-us-east-2-314861141982\", \"s3_key\": \"test/cycle_s_000970.png\"}\n",
      "{\"image_data\": \"\", \"s3_bucket\": \"sagemaker-us-east-2-314861141982\", \"s3_key\": \"test/motorbike_s_000121.png\"}\n",
      "{\"image_data\": \"\", \"s3_bucket\": \"sagemaker-us-east-2-314861141982\", \"s3_key\": \"test/motorbike_s_000465.png\"}\n",
      "{\"image_data\": \"\", \"s3_bucket\": \"sagemaker-us-east-2-314861141982\", \"s3_key\": \"test/minibike_s_000828.png\"}\n",
      "{\"image_data\": \"\", \"s3_bucket\": \"sagemaker-us-east-2-314861141982\", \"s3_key\": \"test/motorcycle_s_001955.png\"}\n",
      "{\"image_data\": \"\", \"s3_bucket\": \"sagemaker-us-east-2-314861141982\", \"s3_key\": \"test/bicycle_s_001102.png\"}\n",
      "{\"image_data\": \"\", \"s3_bucket\": \"sagemaker-us-east-2-314861141982\", \"s3_key\": \"test/minibike_s_000913.png\"}\n",
      "{\"image_data\": \"\", \"s3_bucket\": \"sagemaker-us-east-2-314861141982\", \"s3_key\": \"test/safety_bike_s_000791.png\"}\n",
      "{\"image_data\": \"\", \"s3_bucket\": \"sagemaker-us-east-2-314861141982\", \"s3_key\": \"test/bicycle_s_000776.png\"}\n",
      "{\"image_data\": \"\", \"s3_bucket\": \"sagemaker-us-east-2-314861141982\", \"s3_key\": \"test/safety_bike_s_000540.png\"}\n",
      "{\"image_data\": \"\", \"s3_bucket\": \"sagemaker-us-east-2-314861141982\", \"s3_key\": \"test/motorcycle_s_000797.png\"}\n",
      "{\"image_data\": \"\", \"s3_bucket\": \"sagemaker-us-east-2-314861141982\", \"s3_key\": \"test/motorcycle_s_000323.png\"}\n",
      "{\"image_data\": \"\", \"s3_bucket\": \"sagemaker-us-east-2-314861141982\", \"s3_key\": \"test/cycle_s_001306.png\"}\n",
      "{\"image_data\": \"\", \"s3_bucket\": \"sagemaker-us-east-2-314861141982\", \"s3_key\": \"test/safety_bicycle_s_001575.png\"}\n",
      "{\"image_data\": \"\", \"s3_bucket\": \"sagemaker-us-east-2-314861141982\", \"s3_key\": \"test/safety_bike_s_001253.png\"}\n",
      "{\"image_data\": \"\", \"s3_bucket\": \"sagemaker-us-east-2-314861141982\", \"s3_key\": \"test/motorcycle_s_000323.png\"}\n",
      "{\"image_data\": \"\", \"s3_bucket\": \"sagemaker-us-east-2-314861141982\", \"s3_key\": \"test/minibike_s_001867.png\"}\n",
      "{\"image_data\": \"\", \"s3_bucket\": \"sagemaker-us-east-2-314861141982\", \"s3_key\": \"test/motorcycle_s_000512.png\"}\n",
      "{\"image_data\": \"\", \"s3_bucket\": \"sagemaker-us-east-2-314861141982\", \"s3_key\": \"test/motorbike_s_000135.png\"}\n",
      "{\"image_data\": \"\", \"s3_bucket\": \"sagemaker-us-east-2-314861141982\", \"s3_key\": \"test/bike_s_000941.png\"}\n",
      "{\"image_data\": \"\", \"s3_bucket\": \"sagemaker-us-east-2-314861141982\", \"s3_key\": \"test/ordinary_bicycle_s_000350.png\"}\n",
      "{\"image_data\": \"\", \"s3_bucket\": \"sagemaker-us-east-2-314861141982\", \"s3_key\": \"test/bicycle_s_001218.png\"}\n",
      "{\"image_data\": \"\", \"s3_bucket\": \"sagemaker-us-east-2-314861141982\", \"s3_key\": \"test/bike_s_000643.png\"}\n",
      "{\"image_data\": \"\", \"s3_bucket\": \"sagemaker-us-east-2-314861141982\", \"s3_key\": \"test/bicycle_s_000479.png\"}\n",
      "{\"image_data\": \"\", \"s3_bucket\": \"sagemaker-us-east-2-314861141982\", \"s3_key\": \"test/trail_bike_s_000073.png\"}\n",
      "{\"image_data\": \"\", \"s3_bucket\": \"sagemaker-us-east-2-314861141982\", \"s3_key\": \"test/minibike_s_000947.png\"}\n",
      "{\"image_data\": \"\", \"s3_bucket\": \"sagemaker-us-east-2-314861141982\", \"s3_key\": \"test/cycle_s_001297.png\"}\n",
      "{\"image_data\": \"\", \"s3_bucket\": \"sagemaker-us-east-2-314861141982\", \"s3_key\": \"test/velocipede_s_001232.png\"}\n",
      "{\"image_data\": \"\", \"s3_bucket\": \"sagemaker-us-east-2-314861141982\", \"s3_key\": \"test/bicycle_s_001804.png\"}\n",
      "{\"image_data\": \"\", \"s3_bucket\": \"sagemaker-us-east-2-314861141982\", \"s3_key\": \"test/motorcycle_s_001955.png\"}\n",
      "{\"image_data\": \"\", \"s3_bucket\": \"sagemaker-us-east-2-314861141982\", \"s3_key\": \"test/ordinary_bicycle_s_000350.png\"}\n",
      "{\"image_data\": \"\", \"s3_bucket\": \"sagemaker-us-east-2-314861141982\", \"s3_key\": \"test/motorcycle_s_000825.png\"}\n",
      "{\"image_data\": \"\", \"s3_bucket\": \"sagemaker-us-east-2-314861141982\", \"s3_key\": \"test/bike_s_000071.png\"}\n",
      "{\"image_data\": \"\", \"s3_bucket\": \"sagemaker-us-east-2-314861141982\", \"s3_key\": \"test/cycle_s_000010.png\"}\n",
      "{\"image_data\": \"\", \"s3_bucket\": \"sagemaker-us-east-2-314861141982\", \"s3_key\": \"test/ordinary_bicycle_s_000284.png\"}\n",
      "{\"image_data\": \"\", \"s3_bucket\": \"sagemaker-us-east-2-314861141982\", \"s3_key\": \"test/motorcycle_s_001687.png\"}\n",
      "{\"image_data\": \"\", \"s3_bucket\": \"sagemaker-us-east-2-314861141982\", \"s3_key\": \"test/motorbike_s_000433.png\"}\n",
      "{\"image_data\": \"\", \"s3_bucket\": \"sagemaker-us-east-2-314861141982\", \"s3_key\": \"test/safety_bike_s_000390.png\"}\n",
      "{\"image_data\": \"\", \"s3_bucket\": \"sagemaker-us-east-2-314861141982\", \"s3_key\": \"test/ordinary_bicycle_s_000158.png\"}\n",
      "{\"image_data\": \"\", \"s3_bucket\": \"sagemaker-us-east-2-314861141982\", \"s3_key\": \"test/motorcycle_s_002177.png\"}\n",
      "{\"image_data\": \"\", \"s3_bucket\": \"sagemaker-us-east-2-314861141982\", \"s3_key\": \"test/bicycle_s_000479.png\"}\n",
      "{\"image_data\": \"\", \"s3_bucket\": \"sagemaker-us-east-2-314861141982\", \"s3_key\": \"test/safety_bike_s_001088.png\"}\n",
      "{\"image_data\": \"\", \"s3_bucket\": \"sagemaker-us-east-2-314861141982\", \"s3_key\": \"test/motorbike_s_000126.png\"}\n",
      "{\"image_data\": \"\", \"s3_bucket\": \"sagemaker-us-east-2-314861141982\", \"s3_key\": \"test/safety_bike_s_001087.png\"}\n",
      "{\"image_data\": \"\", \"s3_bucket\": \"sagemaker-us-east-2-314861141982\", \"s3_key\": \"test/motorbike_s_000324.png\"}\n",
      "{\"image_data\": \"\", \"s3_bucket\": \"sagemaker-us-east-2-314861141982\", \"s3_key\": \"test/minibike_s_001651.png\"}\n",
      "{\"image_data\": \"\", \"s3_bucket\": \"sagemaker-us-east-2-314861141982\", \"s3_key\": \"test/motorcycle_s_001249.png\"}\n",
      "{\"image_data\": \"\", \"s3_bucket\": \"sagemaker-us-east-2-314861141982\", \"s3_key\": \"test/minibike_s_001867.png\"}\n",
      "{\"image_data\": \"\", \"s3_bucket\": \"sagemaker-us-east-2-314861141982\", \"s3_key\": \"test/motorcycle_s_000060.png\"}\n",
      "{\"image_data\": \"\", \"s3_bucket\": \"sagemaker-us-east-2-314861141982\", \"s3_key\": \"test/minibike_s_000398.png\"}\n",
      "{\"image_data\": \"\", \"s3_bucket\": \"sagemaker-us-east-2-314861141982\", \"s3_key\": \"test/motorbike_s_000121.png\"}\n",
      "{\"image_data\": \"\", \"s3_bucket\": \"sagemaker-us-east-2-314861141982\", \"s3_key\": \"test/motorcycle_s_001348.png\"}\n",
      "{\"image_data\": \"\", \"s3_bucket\": \"sagemaker-us-east-2-314861141982\", \"s3_key\": \"test/motorbike_s_000005.png\"}\n",
      "{\"image_data\": \"\", \"s3_bucket\": \"sagemaker-us-east-2-314861141982\", \"s3_key\": \"test/motorcycle_s_000876.png\"}\n",
      "{\"image_data\": \"\", \"s3_bucket\": \"sagemaker-us-east-2-314861141982\", \"s3_key\": \"test/minibike_s_000913.png\"}\n",
      "{\"image_data\": \"\", \"s3_bucket\": \"sagemaker-us-east-2-314861141982\", \"s3_key\": \"test/bike_s_001738.png\"}\n",
      "{\"image_data\": \"\", \"s3_bucket\": \"sagemaker-us-east-2-314861141982\", \"s3_key\": \"test/velocipede_s_000041.png\"}\n",
      "{\"image_data\": \"\", \"s3_bucket\": \"sagemaker-us-east-2-314861141982\", \"s3_key\": \"test/motorcycle_s_001519.png\"}\n",
      "{\"image_data\": \"\", \"s3_bucket\": \"sagemaker-us-east-2-314861141982\", \"s3_key\": \"test/motorcycle_s_000866.png\"}\n",
      "{\"image_data\": \"\", \"s3_bucket\": \"sagemaker-us-east-2-314861141982\", \"s3_key\": \"test/moped_s_000033.png\"}\n",
      "{\"image_data\": \"\", \"s3_bucket\": \"sagemaker-us-east-2-314861141982\", \"s3_key\": \"test/bicycle_s_000977.png\"}\n",
      "{\"image_data\": \"\", \"s3_bucket\": \"sagemaker-us-east-2-314861141982\", \"s3_key\": \"test/motorbike_s_000121.png\"}\n",
      "{\"image_data\": \"\", \"s3_bucket\": \"sagemaker-us-east-2-314861141982\", \"s3_key\": \"test/motorcycle_s_000007.png\"}\n",
      "{\"image_data\": \"\", \"s3_bucket\": \"sagemaker-us-east-2-314861141982\", \"s3_key\": \"test/motorcycle_s_001348.png\"}\n",
      "{\"image_data\": \"\", \"s3_bucket\": \"sagemaker-us-east-2-314861141982\", \"s3_key\": \"test/safety_bicycle_s_000315.png\"}\n",
      "{\"image_data\": \"\", \"s3_bucket\": \"sagemaker-us-east-2-314861141982\", \"s3_key\": \"test/bike_s_000071.png\"}\n",
      "{\"image_data\": \"\", \"s3_bucket\": \"sagemaker-us-east-2-314861141982\", \"s3_key\": \"test/bicycle_s_001107.png\"}\n",
      "{\"image_data\": \"\", \"s3_bucket\": \"sagemaker-us-east-2-314861141982\", \"s3_key\": \"test/velocipede_s_001201.png\"}\n",
      "{\"image_data\": \"\", \"s3_bucket\": \"sagemaker-us-east-2-314861141982\", \"s3_key\": \"test/cycle_s_002661.png\"}\n",
      "{\"image_data\": \"\", \"s3_bucket\": \"sagemaker-us-east-2-314861141982\", \"s3_key\": \"test.lst\"}\n",
      "{\"image_data\": \"\", \"s3_bucket\": \"sagemaker-us-east-2-314861141982\", \"s3_key\": \"test/motorcycle_s_000739.png\"}\n",
      "{\"image_data\": \"\", \"s3_bucket\": \"sagemaker-us-east-2-314861141982\", \"s3_key\": \"test/minibike_s_000792.png\"}\n",
      "{\"image_data\": \"\", \"s3_bucket\": \"sagemaker-us-east-2-314861141982\", \"s3_key\": \"test/motorcycle_s_000963.png\"}\n",
      "{\"image_data\": \"\", \"s3_bucket\": \"sagemaker-us-east-2-314861141982\", \"s3_key\": \"test/minibike_s_001651.png\"}\n",
      "{\"image_data\": \"\", \"s3_bucket\": \"sagemaker-us-east-2-314861141982\", \"s3_key\": \"test/bike_s_000163.png\"}\n",
      "{\"image_data\": \"\", \"s3_bucket\": \"sagemaker-us-east-2-314861141982\", \"s3_key\": \"test/cycle_s_002964.png\"}\n",
      "{\"image_data\": \"\", \"s3_bucket\": \"sagemaker-us-east-2-314861141982\", \"s3_key\": \"test/motorcycle_s_001249.png\"}\n",
      "{\"image_data\": \"\", \"s3_bucket\": \"sagemaker-us-east-2-314861141982\", \"s3_key\": \"test/cycle_s_001953.png\"}\n",
      "{\"image_data\": \"\", \"s3_bucket\": \"sagemaker-us-east-2-314861141982\", \"s3_key\": \"test/bike_s_000330.png\"}\n",
      "{\"image_data\": \"\", \"s3_bucket\": \"sagemaker-us-east-2-314861141982\", \"s3_key\": \"test/motorcycle_s_000876.png\"}\n",
      "{\"image_data\": \"\", \"s3_bucket\": \"sagemaker-us-east-2-314861141982\", \"s3_key\": \"test/bicycle_s_002458.png\"}\n",
      "{\"image_data\": \"\", \"s3_bucket\": \"sagemaker-us-east-2-314861141982\", \"s3_key\": \"test/motorcycle_s_000530.png\"}\n",
      "{\"image_data\": \"\", \"s3_bucket\": \"sagemaker-us-east-2-314861141982\", \"s3_key\": \"test/bike_s_000801.png\"}\n",
      "{\"image_data\": \"\", \"s3_bucket\": \"sagemaker-us-east-2-314861141982\", \"s3_key\": \"test/motorcycle_s_000427.png\"}\n",
      "{\"image_data\": \"\", \"s3_bucket\": \"sagemaker-us-east-2-314861141982\", \"s3_key\": \"test/cycle_s_001953.png\"}\n",
      "{\"image_data\": \"\", \"s3_bucket\": \"sagemaker-us-east-2-314861141982\", \"s3_key\": \"test/minibike_s_000254.png\"}\n",
      "{\"image_data\": \"\", \"s3_bucket\": \"sagemaker-us-east-2-314861141982\", \"s3_key\": \"test/bike_s_000941.png\"}\n",
      "{\"image_data\": \"\", \"s3_bucket\": \"sagemaker-us-east-2-314861141982\", \"s3_key\": \"test/motorcycle_s_001960.png\"}\n",
      "{\"image_data\": \"\", \"s3_bucket\": \"sagemaker-us-east-2-314861141982\", \"s3_key\": \"test/motorcycle_s_000139.png\"}\n",
      "{\"image_data\": \"\", \"s3_bucket\": \"sagemaker-us-east-2-314861141982\", \"s3_key\": \"test/motorcycle_s_000352.png\"}\n"
     ]
    }
   ],
   "source": [
    "for i in range(0,100):\n",
    "    print(generate_test_case())"
   ]
  },
  {
   "cell_type": "code",
   "execution_count": 67,
   "metadata": {},
   "outputs": [],
   "source": [
    "from sagemaker.s3 import S3Downloader\n",
    "\n",
    "# In S3 your data will be saved to a datetime-aware path\n",
    "# Find a path related to a datetime you're interested in\n",
    "data_path = f\"s3://{bucket}/data_capture\"\n",
    "\n",
    "S3Downloader.download(data_path, \"captured_data\")\n",
    "\n",
    "# Feel free to repeat this multiple times and pull in more data"
   ]
  },
  {
   "cell_type": "markdown",
   "metadata": {},
   "source": [
    "The data are in JSONLines format, where multiple valid JSON objects are stacked on top of eachother in a single `jsonl` file. We'll import an open-source library, `jsonlines` that was purpose built for parsing this format."
   ]
  },
  {
   "cell_type": "code",
   "execution_count": 68,
   "metadata": {},
   "outputs": [
    {
     "name": "stdout",
     "output_type": "stream",
     "text": [
      "Collecting jsonlines\n",
      "  Downloading jsonlines-3.1.0-py3-none-any.whl (8.6 kB)\n",
      "Requirement already satisfied: typing-extensions in /opt/conda/lib/python3.7/site-packages (from jsonlines) (4.2.0)\n",
      "Requirement already satisfied: attrs>=19.2.0 in /opt/conda/lib/python3.7/site-packages (from jsonlines) (20.3.0)\n",
      "Installing collected packages: jsonlines\n",
      "Successfully installed jsonlines-3.1.0\n",
      "\u001b[33mWARNING: Running pip as the 'root' user can result in broken permissions and conflicting behaviour with the system package manager. It is recommended to use a virtual environment instead: https://pip.pypa.io/warnings/venv\u001b[0m\u001b[33m\n",
      "\u001b[0m"
     ]
    }
   ],
   "source": [
    "!pip install jsonlines\n",
    "import jsonlines"
   ]
  },
  {
   "cell_type": "markdown",
   "metadata": {},
   "source": [
    "Now we can extract the data from each of the source files:"
   ]
  },
  {
   "cell_type": "code",
   "execution_count": 75,
   "metadata": {},
   "outputs": [
    {
     "data": {
      "text/plain": [
       "['22-39-116-2754e359-b3e6-415d-b426-1b8c776f230d.jsonl',\n",
       " '29-27-531-a7a463e1-c45e-4dbd-8de8-22f1f7879200.jsonl',\n",
       " '26-04-250-a93ff8c2-435d-4fc1-8bda-8f4581455f5d.jsonl',\n",
       " '35-50-434-9af2fe96-05b3-4ca9-bd7a-b511d78cf86c.jsonl',\n",
       " '18-52-749-beea3bbf-acc7-45f1-8ca5-c7c464daddb4.jsonl',\n",
       " '06-25-652-b6663f3f-6a12-4d87-b29a-a0996fc3c12a.jsonl',\n",
       " '10-32-792-b71a6ae3-f82e-46ee-a01b-b61e0d7ec3ec.jsonl',\n",
       " '.ipynb_checkpoints',\n",
       " '00-08-371-a3e4b446-1369-45c1-b4a8-473df708b7a7.jsonl',\n",
       " '20-13-428-19050fef-5510-4135-ba03-e1eb21fcb6d0.jsonl',\n",
       " '13-53-806-91d82450-560a-4b26-adf1-6b42986727a0.jsonl',\n",
       " '21-25-966-9791065f-0483-448f-8b6a-933324f00171.jsonl',\n",
       " '32-28-217-0dd68655-ff70-4b94-be32-f4e58acfbe01.jsonl',\n",
       " '24-48-972-467ed6e4-7cfa-4282-bfe7-075c3bdaec84.jsonl',\n",
       " '31-25-130-da97031b-2ada-4616-ba8b-174703b62fe7.jsonl',\n",
       " '23-46-301-b3e44c2d-2415-4664-98ee-630521f95929.jsonl',\n",
       " '39-19-000-67094238-a9da-42aa-a2e3-5701d326ddfa.jsonl',\n",
       " '12-03-411-8f444579-793e-4625-8f2a-a04f45cbdb15.jsonl',\n",
       " '16-51-433-a71e7497-472f-4811-9def-6b1a8d5fb2d8.jsonl',\n",
       " '14-59-044-7484e553-03eb-4ee8-b860-dfbb44873e4a.jsonl',\n",
       " '33-31-543-67992f0c-50e2-4073-85b8-dab3ae839e22.jsonl',\n",
       " '27-04-278-5059e4d7-3887-40a4-b9bf-0e67f9de5c52.jsonl',\n",
       " '01-36-188-4d34ad9d-ab6d-47e7-9981-89a31ec1e7ae.jsonl',\n",
       " '34-42-900-947e84e7-ad1b-4f2f-9342-d1ffa3c46052.jsonl',\n",
       " '28-14-479-03899f2f-15e8-40b6-9c43-76cd8f153f9b.jsonl',\n",
       " '38-06-216-52eb685b-89a8-48e7-afea-4593e23503cb.jsonl',\n",
       " '37-00-505-e8f49844-42ca-405c-85f3-e5cf2af605a8.jsonl',\n",
       " '09-01-446-cd8d7634-29fe-4e8a-915e-1a5be2c943a1.jsonl']"
      ]
     },
     "execution_count": 75,
     "metadata": {},
     "output_type": "execute_result"
    }
   ],
   "source": [
    "os.listdir('./captured_data/image-classification-2022-07-09-09-19-33-937/AllTraffic/2022/07/09/10/`')"
   ]
  },
  {
   "cell_type": "code",
   "execution_count": 95,
   "metadata": {},
   "outputs": [],
   "source": [
    "import os\n",
    "import glob\n",
    "\n",
    "files = glob.glob('./captured_data/image-classification-2022-07-09-09-19-33-937/AllTraffic/2022/07/09/*/*.jsonl')\n",
    "\n",
    "# Dump all the data into an array\n",
    "json_data = []\n",
    "for jsonl in files:\n",
    "    with jsonlines.open(jsonl) as f:\n",
    "        json_data.append(f.read())"
   ]
  },
  {
   "cell_type": "code",
   "execution_count": 100,
   "metadata": {},
   "outputs": [],
   "source": [
    "import numpy as np"
   ]
  },
  {
   "cell_type": "code",
   "execution_count": 101,
   "metadata": {},
   "outputs": [],
   "source": [
    "a  = [0.9, 0.1]"
   ]
  },
  {
   "cell_type": "code",
   "execution_count": 109,
   "metadata": {},
   "outputs": [
    {
     "ename": "ModuleNotFoundError",
     "evalue": "No module named 'byte64'",
     "output_type": "error",
     "traceback": [
      "\u001b[0;31m---------------------------------------------------------------------------\u001b[0m",
      "\u001b[0;31mModuleNotFoundError\u001b[0m                       Traceback (most recent call last)",
      "\u001b[0;32m<ipython-input-109-e3f015c7bc9b>\u001b[0m in \u001b[0;36m<module>\u001b[0;34m\u001b[0m\n\u001b[0;32m----> 1\u001b[0;31m \u001b[0;32mimport\u001b[0m \u001b[0mbyte64\u001b[0m\u001b[0;34m\u001b[0m\u001b[0;34m\u001b[0m\u001b[0m\n\u001b[0m",
      "\u001b[0;31mModuleNotFoundError\u001b[0m: No module named 'byte64'"
     ]
    }
   ],
   "source": [
    "import byte64"
   ]
  },
  {
   "cell_type": "code",
   "execution_count": 102,
   "metadata": {},
   "outputs": [
    {
     "data": {
      "text/plain": [
       "0"
      ]
     },
     "execution_count": 102,
     "metadata": {},
     "output_type": "execute_result"
    }
   ],
   "source": [
    "np.argmax(a)"
   ]
  },
  {
   "cell_type": "code",
   "execution_count": 107,
   "metadata": {},
   "outputs": [],
   "source": [
    "extracted_data = []\n",
    "\n",
    "    # Define how we'll get our data\n",
    "def simple_getter(obj):\n",
    "    inferences = json.loads(obj[\"captureData\"][\"endpointOutput\"][\"data\"])\n",
    "    inferred_class = np.argmax(inferences)\n",
    "    class_prob = max(inferences)  \n",
    "    \n",
    "    picture = obj[\"captureData\"][\"endpointInput\"][\"data\"]\n",
    "    timestamp = obj[\"eventMetadata\"][\"inferenceTime\"]\n",
    "    \n",
    "    return {'image':picture,\n",
    "            'time': timestamp,\n",
    "            'class': inferred_class,\n",
    "            'class_prob': class_prob}\n",
    "\n",
    "\n",
    "\n",
    "for data in json_data:\n",
    "    extracted_data.append(simple_getter(data))\n",
    "    \n"
   ]
  },
  {
   "cell_type": "code",
   "execution_count": 111,
   "metadata": {},
   "outputs": [],
   "source": [
    "import base64"
   ]
  },
  {
   "cell_type": "code",
   "execution_count": 112,
   "metadata": {},
   "outputs": [
    {
     "data": {
      "text/plain": [
       "b'\\x89PNG\\r\\n\\x1a\\n\\x00\\x00\\x00\\rIHDR\\x00\\x00\\x00 \\x00\\x00\\x00 \\x08\\x06\\x00\\x00\\x00szz\\xf4\\x00\\x00\\x00\\x04sBIT\\x08\\x08\\x08\\x08|\\x08d\\x88\\x00\\x00\\x00\\tpHYs\\x00\\x00\\x0fa\\x00\\x00\\x0fa\\x01\\xa8?\\xa7i\\x00\\x00\\x0b\\x10IDATX\\x85}\\x97il[Wv\\xc7\\x7f\\xf7\\xbe\\xf7H\\x8a\\xa2\\x16j!\\xb5\\xaf\\xb6$[\\xb6\\x14o\\xf1\\x12;q&V\\x9bL2\\xc5\\x04\\x813H\\x9c\\x0f\\x05\\x82\\t\\xda\\x00\\xfdV\\xf4C\\x914nQ\\x14EQ\\x14\\xe8\\xb4\\x1d4\\x18\\x04\\x83\\x16\\xd3\\x8c\\xa7\\xedd\\xb1\\'\\xb1\\x12/\\xa93v\\x1c;\\x96\"\\xc9\\xb2d-\\xb6\\xb5\\x8b\\x12%\\x8a\\x14)\\x91\\xe2{\\xef\\xde~\\xa0b;\\x99\\xa2\\x07\\xb8\\x0fo\\xfd\\x9f\\xff=\\xdb;Gh\\xfd\\xa1vq\\x01\\xc1\\xff)\\x1a\\xb4p\\x11\\xa4q\\x9d\\x00\\x13\\x93)<y\\x9a\\xea\\xaa\\x00\\x06 \\xb4\\x81\\x16\\x0e\\x1a\\r\\x9bG\\x81\\xf8\\x1d<\\x8d\\xfa\\x0e\\xae\\xc6\\x14\\x06\\xa6\\xabL\\x1cG\\x80\\xc8} \\x84\\x00\\xad\\xefC\\xa1M4i\\x0c\\xcbbz\"\\xcdO\\x7fr\\r\\xe1\\xf5\\xf2\\x83\\xe7\\x9a9\\xf2X\\x03\\xda\\xc9\\x80a\\x80\\x10h\\xad\\xef\\xab\\xd3Z\\xe7 7q\\xb5\\x92\\x0f\\xf07E\\x98\\x12S\\n\\x1fB8\\x9b\\xac\\x1f\\x88\\x00\\x10:\\xb7t\\x01\\xb8.\\x05\\x056\\xa1P\\x80\\xeb7\\xee\\xf0o?\\xbfK\\xb8\\xe2%\\xb6n-@;\\n\\x89D|C\\x1a\\tB \\xa5Di\\x9d\\xdb\\x90p\\xbfE@k\\x8d\\xc4@(\\xf5\\xb9\\xb6\\x1d\\xf7\\xbez\\xfd\\x10\\x03\\xb1iV\\xb4\\x89\\xd6.ZC,\\xb1\\xc6\\xe8\\xe8$\\x1biIaa\\x1em\\xdb\\xab\\t\\x14X(\\x0c\\x04&B\\xdb\\xa4\\xd3p\\xfa\\xd7\\x17\\xa8\\xa9\\xaa\\xe4\\xf0\\xd1\\xdd\\xb8\\xee:\\xe0nb\\xe6\\xc05\\x1a\\xd340\\xb5\\xf6\\x82\\xce=\\xd4\\x80~\\xc8\\x10\\x1a\\x81\\xd4\\x02p\\x11\\xc2\\xc0\\x90>*CA*C\\xf5\\x80\\x8f\\xfe\\xbe\\x9b\\xf4\\xf7\\xce\\xd2\\xd6P\\x86\\x98\\x98\\xc7]\\xcd\\x10\\xech!\\xe1\\xf1\\xf3\\xab\\xff\\xfa-;\\xb7m\\xe1\\xc0\\x91\\xbd\\x08-A\\x18\\xb9\\xbd<p\\x12Z\\x1b\\x08W\\rh\\xc7q\\x1e\\x98\\xe6\\xa1\\xe0{\\xe0\\npl\\xcd\\xe0\\xc0=\\xd6R\\x1b Mf\"\\xcb\\xf4\\xf5\\x8d0}g\\x82\\xa7+\\x83\\x1cZ\\xdf sw\\x82\\xe5\\xda*\\n\\x9f\\xefb)\\xcfOI\\xa8\\x88];\\xab\\x00\\x17\\x85\\xfc\\xdd 4\\rL\\x85\\x1f-\\x1c\\x10\\x02\\xa1A\\xeao\\xbbB\\x8b\\x9c\\xdd\\\\\\xed01\\xbd@t>\\x06\\x86\\xc5\\x17_\\xf5q\\xab\\x7f\\x14\\x1d\\x89stO\\x07\\xee\\xdev\\x1c\\x7f\\x80\\xe8\\xe5\\x1e&\\xe6\\x7f\\xc9S\\x7f\\xf7&\\xd5\\xbbZ\\x90\\x1bql\\xc3B\\xe9\\x9c\\x9b\\xf5\\x03\\x06(L\\x84\\xa3g\\xb4m; r\\xcae.t\\x11\\xaeB\\tPB\\x82psn\\xc2\\xcc\\x99QJ\\xe6\\x17V\\xe8\\xf9\\xfc\\x06\\xfd\\xdd\\x97(L&\\xa8m\\xd9NqA\\x00u\\xbb\\x9f\\xf8R\\x8c\\xe0\\xb3O\\xb3\\xf7\\xc5\\xa7)-\\xc9g\\x03\\x0b\\x81\\rZ\\xf10\\x0b\\xd34\\x10Z\\xc5\\xf4\\xba\\x93E\"\\xb0lH\\xbaY\\\\\\x14A\\xe9E\\xfaLl\\xe1\\xa2\\x95\\x8b\\xd2\\n\\xb4\\xde\\x8cp\\x89aX\\x08\\r\\xe9d\\x9a\\x7f\\xf9\\xdb\\x7f$\\xda3B\\x11\\n\\x8fJr\\xf8\\xb9gh\\xf9\\xe1\\xb3\\x14V\\x96\\xa1\\r\\xd0\\x12\\xa4\\xfa\\xf6\\xfes\\x04LL\\x94\\x89\\x89\\xc0Y\\xcb054\\xc1\\x97\\xb7\\x87\\x88\\x99\\x0e5%!\\xb646RV\\x1e$P\\x10\\xc0\\xe3\\xf1l\\xc6\\x89B)\\x85\\xeb\\xe4\\xd2*\\xbf\\xb8\\x84\\x8e#\\x87\\xc864C2\\xc9\\xca\\xd8=V\\xae\\x8f\\x11q\\xce\\xe2;\\xfe{\\x14V\\xd7\\xb0\\xae\\xc9\\xa5\\xe5f^}\\x13\\x03\\x02\\x13\\xe3\\xe4\\x9bo\\x9e\\x04\\xc9\\xfar\\x92\\xde\\xff\\xf9\\x92\\x8b\\x9f\\\\d|v\\x8e\\x14\\x92\\x91\\x9b\\xe3\\xdc\\x1e\\xbe\\xc3\\xd2\\xf2*\\x02/k\\xeb\\x0e\\xc9\\xd5\\x14\\x1e\\xcb\\xc2\\xeb\\xcdCk\\x81\\x94\\x16\\xac\\xac2\\xf2\\x9f\\xa7i\\xad\\xabc\\xd7K?\\xc4\\xa9*\\xe0\\xf6\\xe9n\\xd6\\xc6&)\\xe9\\xd8N^~i.\\xbd\\x84Dh\\x89@\\x02\\x12)M\\x8c\\x93\\x7f\\xf1\\xd6I\\x07\\x10\\x86\\xc5\\xf2R\\x84P\\xa1\\x9fKg>\\xe6\\xda`?^\\xaf\\x0f\\xc7QD\\x16\\xa3\\xdc\\xbd7\\xc1\\xe8\\xe88\\x17\\xce\\x9f\\xe7\\xdc\\xa7\\x9f\\xb0\\xad\\xad\\x9d\\x92`\\t\\xc2\\xf0\\xf0\\xe9GgX\\xe9\\xbeH\\xde\\xf8]Dv\\x83\\xa6\\x83\\x8f1Vd\\xd0s\\xea\\x0ca\\x1d t\\xe4\\x00J\\x83\\xd0\"\\x97\\x8eH\\xd09\\x02&\"WF\\x17b\\xf3\\x0c\\xceOR\\xe8\\xd5\\xfc\\xc9\\x8f_\\xe5o~\\xfaO|\\xf4\\xfe)\\x8c@\\x90\\x807\\x80\\xcf\\xf2\\xe0X\\n\\xad\\x1cT\\xd6\\xe6\\xd0\\xe3Gin\\xdeJ,\\x1a%12\\x8a\\x91\\xef\\xe5nf\\x95\\xc5\\x8f\\xcf\\xa1S.{~p\\x84\\xd9\\'\\xf7\\xd0w\\xfd:\\xb5c\\xcfQ\\xd0R\\x0b\\xb6\\xda\\xdc}\\xce\\x95B\\x18H-\\x05\\xb8\\x8a`q1\\xd3\\x91E\\xde\\xfe\\x8f_\\x12\\xddH\\xf2\\xd7\\x7f\\xf6\\xa7\\xbc\\xd6u\\x8c&\\x13VR\\x11\"\\x8bs\\xa4\\x17c\\xc4\\x16\\x178|h?\\x8f\\x1f\\xdcOzm\\x95\\xcf>:C|\\xe4\\x0e\\xd3\\xc98=\\xd9\\x18\\xe3\\xd9\\x18Cg?d\\xe2W\\xef\\xb3\\xbb\\xa4\\x12\\x9dN\\x10\\xb9\\xf15^\\xd7\\xc2\\xd0\\x16\\x12\\x13\\x84\\x91S\\x9e\\xbb\\xca\\x89\\xdf\\xef\\'2\\x1dahx\\x9cK\\xb5=<\\xde\\xda\\xc2\\xc1\\xc6FZ,\\x0f\\xa7\\x07\\x07\\xe9\\x8d\\xc5\\xf1\\xe6\\x15\\x92\\\\\\xc9\\xd2\\xd2\\xda\\x8e_\\xe6\\xf1\\xd1\\x07g\\xb93\\xbb\\x88\\xd3\\xb6\\x93\\xa5t\\x9a\\xda\\x98A\\xd8\\xe3\\xe3\\xf3\\xf4\\x02\\xb7?x\\x8f*\\x7f!\\xdbj\\xaa9P\\x1b\\xc25 \\xabAj\\x17Sm\\xfe;\\x85\\xc4\\xd4Z\\xe3\\xf1x\\xb8z\\xf5*W\\xbe\\xb8\\x8a0\\xbd\\xd8\\x86\\x87\\x1b#\\xe3\\x14\\xa52\\xb4U\\xd6\\xf0\\xc2\\xf7\\x9f\\xa7\\xf9\\xc6MFW\"\\x18(\\xa2\\xb31~s\\xf6\\x02\\xabK+\\x94\\x95\\xd6\\x90*\\xaf\\xa2=\\x9efr\\xee\\x0bz3k\\x0c\\xac\\xa6\\x10\\xca\\xa2,\\xbf\\x84\\xb6\\'\\x8fR\\x19\\x0e\\xb3\\x1e\\x8bb\\x15\\x06\\x90\\xd2@\\xda\\x9b\\x05\\x0e0\\xa5\\xcc\\x95\\xc8\\xee\\xeenV\\xd7\\xd6\\xd8\\xde\\xd1I}\\xddV\\x06\\xfa\\xfb\\x88\\xcc\\xce\\xb1\\x98\\x1f\\xa4\\xa1\\xaa\\x9a\\x86\\xce\\x1d\\xec\\x1b\\x0c0)\\xe6\\x19\\xfa\\xea*\\xa7z/S\\x17,\\xa7\\xb3\\xac\\x9a\\xfa|?}C_s~y\\x8c\\xe2\\xe6\\xed4QJ\\xa9Vt\\xfa-\\xdc/\\xaep{t\\x9a\\xd2\\xa6:\\xac\\xad\\xf5\\x94\\x1f\\xda\\x8f\\xae\\xafGi\\x03\\x9f\\x06\\xe3\\xf5\\xd7_?\\xe9\\xf3\\xf9(+-%\\x1eOP_WO[\\xdb6\\xf6\\x1f8D\\xf7\\xb9\\xf3\\xf4\\r\\x0f\\xb3aj\\xa2\\xab1\\\\\\xa5\\xa8/\\xc8\\xc7\\xdeX%k\\x19\\x94\\xfb\\xbc4d2D\\xa6&\\xf9\\xf9\\xf4-\\xa6\\xd2Y\\xc2Eel)\\xf0q\\xd0qi\\x10\\x10O%\\x98\\x9f\\x9bgmz\\x9a\\xd4\\xe8\\x18\\x91;\\xf7(\\xac\\xa9\\xc3\\x1f\\n#\\x85\\xc0\\xc8d2\\'\\x07\\x06\\x06\\x08\\x06\\x83LO\\xcf\\x12\\nU\\xd0\\xdc\\xdc\\x8c\\xd7\\xebett\\x14\\xc7\\xc92u\\xef\\x1e\\x91\\xa5(\\xf3\\x86C*\\xcf\\xe4\\xeb\\xc9)\\xe6\\x11\\xd8>\\x1f\\t\\xc7\\xa6?\\x11cpe\\x99\\x02_\\x80\\xc6\\xe6z\\xf6\\xed\\xdf\\xcbJl\\x15\\xc2aJ\\xf6\\xee\\xc1nl\\xe2td\\x8e\\x0f\\x86\\x07\\x19\\x8c\\xc5\\xa9\\xde\\xd2N\\xeb\\xcev\\x10`\\xbc\\xf1\\xc6\\x1b\\'O\\x9d:\\xc5\\x993g\\x90\\xd2`fv\\x8ed2\\xc5\\xec\\xcc,\\x8bKQ\\xa4\\xdf\\x83G\\x18T\\x16\\x95\\xb3\\x1c\\x8fc\\x0b\\x93\\xc5T\\x86\\x8c0(\\xab\\xa8\"cz\\xb0*+(\\xf6\\x17p`\\xfb\\x0e\\xd6SI\\x8e=\\xf3,\\x81\\xe6\\xadx[[\\xa9\\xda\\xb7\\x8f\\xc3?z\\x81m\\xfb\\x1ee2\\x93\\xe4\\xf2\\xf0\\x00\\xf3\\xcbK\\xec\\xd9\\xbd\\x87\\xd2\\xb2R\\x8cw\\xdf}\\xf7dWW\\x17>\\x9f\\x8f\\x91\\xd11\\xa2\\xd1%2\\x99\\x0cs\\xf3s\\xb9\\x8ag\\x1a\\xd8\\xca\\xe5\\x0f\\x8e\\x1f\\xe7\\x89\\xa3\\xc7\\xa8oh@\\x9a\\x1a\\xc3\\xb5q\\xec\\r\\xf0y\\x88\\xad\\xc4\\xa9\\r\\x97\\xe3\\xcd\\xf7q\\xe5j/;\\x9a[\\xf8\\xfd\\xe3\\xcf\\x13nl\":3OMS\\x15\\xd55\\x15<\\xb2\\xa3\\x93\\xb1;\\xf7\\xb8r\\xe3\\x06\\x8ec\\xf3\\xc4\\xe1\\xc3\\x98\\xaec\\x13\\x0e\\x87x\\xe5\\xc4\\xcbd2\\x1bLO\\xcf`Z\\x92D\"E2\\x91&\\x19\\x8dSXXD\\xcau(\\t\\x16Bz\\rG\\x83/\\x90\\xcf\\xd0\\xf0\\x10\\x8d-[\\t\\x85\\x82\\xe4\\x17\\x07\\xf8\\xf2\\xe6\\x10\\xbe\\xf2\\x12l7Kdb\\x8e\\x0c\\x10\\x8f-\\xb24\\xb5@\\xa04H\\xb8\\xb4\\x92\\xd7^~\\x95\\xa1\\x9eA.\\x9e\\xbb\\xc8\\xad\\xe3/\"\\x85T8v\\x06\\xcb#I\\xae\\xaeR\\\\\\\\\\xcc\\x89\\x13?\\xe2\\xd8\\xb1\\'\\x10\\xd2\\xc5\\x1f\\x08P\\x15\\xae\\xa2\\xa2 H\\xc0\\xf0b*XY^\\xc1\\xf2zikk%T\\x12\\xc4\\xeb\\xf12>:N2\\xb6\\xca\\xce-\\rH\\x91d\\xea\\xde8\\x9f\\x9c=\\xcb\\xb9+\\xbf\\xe5L\\xf7\\x05\\x92\\xf1\\x14\\x96\\xc7\\xa0s\\xcf\\x0ev\\xef\\xe9 \\x12Y\\xe0\\xab\\x9e\\x1e\\xa4&\\x8b\\xd2\\x19\\xfc~\\x0f\\xed;ZXX\\x98\\'\\x95\\\\\\xe7\\xe8\\xd1\\xc7ikkdj\\xf2\\x0e\\xc9D\\x9cxl\\x99\\xc1\\xfe\\xaf\\xf1\\x98&[\\x9bZ\\x88F\\x96XO\\xa5\\xb1L\\x1f\\xc3\\xc3\\xa3\\x0c\\r\\r#\\xec,\\xa5\\xf9\\x1e,R\\x08\\x9d\\xc2\\xf2Z\\xdc\\x99\\x9e\\xe1\\xcb\\xde^\\xc6\\xc7\\xc7H\\xac.#\\r\\x97]\\xbbv\\xe1\\xd8\\x0e##\\xc3\\x98\\x9a\\r\\x90\\x0e\\xaeZ\\xe3\\xb1#\\xbb\\xb9|\\xe5\\x12\\xef\\xbc\\xf3\\x0e55\\xf5\\x9c?\\xff\\tR:\\x14\\x15Y\\x84\\xca\\xf3Ig=\\xe4y\\x0c\\xbe\\xff\\xf41\\x1e\\xdd\\xd7\\xc1\\xb5kW\\x99\\x99\\x9bey)BG\\xe7v\\xb2\\xda\\xc4\\x91\\xa0=\\x92\\xc4\\xda\\x1am\\xdb;\\x89\\xa6RD\\xe6\\xe6Y\\x8cFQj\\x03\\xc34\\xa8\\xac\\xaa\\xc0\\xf2X,/G1\\x05\\x19\\x04.\\x8e\\xb3A(\\x94\\xcf\\x1f\\xfd\\xf1+\\xfc\\xc3\\xdf\\xbf\\xcd\\xe9\\x0f\\xdf\\xa7yK\\x03\\xaf\\xfd\\xf8\\x04\\xd1\\xa5%\\x9ey\\xb6\\x8b\\x89\\x89I\\x12\\xf18\\xbb\\x1fi\\xc5U\\r\\xbct\\xe2\\t\\x16\\x16\\x96YX\\x88\\x13\\x0e\\x85\\xf8\\xd9/\\xfe\\x9b\\xbe\\x9e^\\x9ei\\xfa\\x1e\\xc95\\x8b[\\xb7F\\x99\\x9d\\x9a\\xc1\\xef5)\\xc8\\xcf\\xc34!\\x10\\xf0\\xe2\\xcf\\xf3!\\xa5\\x81\\xd26\\xa6A\\x1aM\\xae)\\xd5\\x8ef\\xdb\\xd6\\n\\xfe\\xf9\\'\\x7fN4\\xbaLYy)\\xc9u\\x9b\\x0b\\xe7\\xaf\\x90\\xe7W4o\\t\\xf3\\xb3\\x7f=\\x87\\xc7r9|\\xa4\\x03\\xc7\\xcdPWWN}}\\x18!\\x0c\\xda[+\\xf9\\xec\\xd3\\x04\\x1bN\\x1e\\x1d\\x1d\\xcdD\\xa2\\x97\\xa8\\xab)\\xa7\\xa1\\xa1\\x81\\xce\\x8ef\\x1c;A<a\\xb3\\x1c[$\\xbb\\x91\\xa5 `aj\\xd6\\xd1\\xb8\\xf7\\xfbq\\xdb\\xd1\\x18\\xa6\\xa0\\xba\\xa6\\x08!\\x15\\x91\\xe8\\nJm D\\x8a\\x82B\\xc1\\x8e\\x1d\\xb5\\x04\\x83^\\x94J\\xa3\\x94\\x8d\\xed\\xbah\\xedby<\\xec\\xeah#\\xdf\\x97\\xc7\\xc5\\x8bg\\xe9\\xecx\\x95\\x17\\x8f\\x7f\\x8fHd\\x89`i\\x90\\xf2r\\x03_\\x9eE,\\x9e\\xa2\\x7f\\xa0\\x0f\\xe5*Z[\\x9a\\x919\\x02\\xebh\\xb1\\xb9XG\\xe95\\xb2v\\x02\\xdbY%\\xcf\\xe7\\xd0\\xbe\\xbd\\x06\\xd3H\\xe1\\xbaK<u\\xac\\x83\\xd6\\xd6r\\x94J!\\xc9 \\xc4\\x1a\\x86\\\\\\xc7uWhh,\\xa1\\xabk/\\x83\\x83#tw_\\xc52%\\x9d\\x9d\\x95\\xd4\\xd5\\n\\x10\\xeb(\\x05\\x03}\\xc3\\\\\\xbf\\xd6Cee\\x11\\x07\\x0fl\\xc3\\xd4b#\\xd7\\x96\\x7f3\\xb6\\x88\\x07\\xf3\\x80F\\x13,\\x81\\xd2\\xd2*\\x94N!\\x84FH\\x00\\xb5\\xd9\\x9c>\\xfc\\xae\\x8di:\\x9cx\\xe5Iz\\xfb\\x878\\xdd\\xfd\\x19\\xa6\\xcf\\xe2\\xd0\\xc1\\x1d\\xe4\\xfb\\r,\\xcb\\xc7\\xcd\\x81k\\xfc\\xfb/\\xde\\'\\xba\\x98\\xe0\\xa5\\x97\\x8f\\xd1\\xd1Y\\x8ep\\xd4\\xc7\\xda\\xb6\\xdd\\xcd\\x19\\xf2\\xbb\\x13\\xb2\\x06\\x14Z\\xcbM\\xc5\\x80\\x16\\x0f\\xcd\\x80\\x0f\\x8bBi\\x8di\\xe616\\x9a\\xe4\\xad\\xb7\\xdefdd\\x8e\\xb6m\\x8fPU]\\xc9\\xcab\\x84\\xe1\\xa1qb\\xf1(G\\x9f\\xda\\xcb_\\xfe\\xd5\\x1fR\\x11\\xd6\\x08\\xadO\\xff\\xff\\xe3\\xf9\\xfd>\\xf6\\xe1\\xe9\\xf1\\xbb\\xe7\\xdf\\xbeg`2;\\x93\\xe4\\xbd\\xf7\\xae\\xf1\\xf9\\xe5\\xdbD\\x97R\\x90u(\\x0f\\x15\\xf2d\\xd7N^x\\xf1Q\\xcaJ\\xbd\\x18H\\xfe\\x17\\x85\\xda&At\\x11LP\\x00\\x00\\x00\\x00IEND\\xaeB`\\x82'"
      ]
     },
     "execution_count": 112,
     "metadata": {},
     "output_type": "execute_result"
    }
   ],
   "source": [
    "base64.b64decode(extracted_data[0]['image'])"
   ]
  },
  {
   "cell_type": "code",
   "execution_count": 108,
   "metadata": {},
   "outputs": [
    {
     "data": {
      "text/plain": [
       "[{'image': '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',\n",
       "  'time': '2022-07-09T10:22:39Z',\n",
       "  'class': 1,\n",
       "  'class_prob': 0.999241828918457},\n",
       " {'image': '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',\n",
       "  'time': '2022-07-09T10:29:27Z',\n",
       "  'class': 0,\n",
       "  'class_prob': 0.9997854828834534},\n",
       " {'image': 'iVBORw0KGgoAAAANSUhEUgAAACAAAAAgCAYAAABzenr0AAAABHNCSVQICAgIfAhkiAAAAAlwSFlzAAAPYQAAD2EBqD+naQAACtFJREFUWIWtl1lsnNd1x3/fOjvJGQ7JmeE2FEVRlCg7ErWvlhVZclEpMFw7glHEQZ/74FcDbeGiL33oW4EYBVoDrRUghhQhaGKpViJRUUwzEimRFEVKobgNF3EdzpAz/Oab+Zbbh5FZKXD7UOQAF7jAPd85//+59zuLJIQQjuMgSRJ/ChFCbO1d10UIsWVblmWAV3ypAIqi/Emc/7HYtk2hUEDXdTwez3f6kYQQwnXd/1cEXmb77fdCiK21sbFBoVBgdnaWcDhMe3s7f+xLfWGKb229HDJJkl4x/AryssIr+i9LPp/HdV28Xi8DAwNUVlbS3t7+CtgtALL8amheZvG/ifvizHFdcF1kRUGSJFzXRZZlZmdn0XWdRCKBoih4PJ7vJKICGIZBoVCgZFmIFwZ8Ph9erxdN05Bl+TvACITjks+uY5RMVFUl4A/i8/twXBfDMLh//z4tLS0oioKqqhiGgc/nexWAjUNPTzf/+avrWLZAdsqOLly8wJ49e6isqiIYDCKEQJYlXCGwAVWUGO7pwZ7L0nbyAKZHYmFqjkBVCLU6gOlY3P71LbwBP4lEHNu2uXv3LufPn98iI0kSqoyDV7g4+U0yRoFwqAohBNlMlnwuj9fnIxQK4TgOruuCBK6isdo3wL/9zSc4aPzl8rvsevs02fwGU/MzxNuTjD4eZXhgCD3oxygYZbaqSiaTIRwOb4GQZVcwMfwU8iVKeZPV1VUkSWJqaqrM1rbJ5XK4rouiqkiShDA3mf7855gDT7n+tJ9//vd/5erf/xNrg4/QhKCvu5d7d3vxeP0IRca2LYaGhmhtbWV1dfWVK1A++bu//cQtWly99guW1jOEQiEymQz5XJ6a2ho8Xi9fffUVa+k1inYRRZawl1fIXL+J4zgMSgWeLcyTmpygYjVHqKKGmw/76b93D8u18UdCzKdmWF5e5s0338QqlWhqavqfKyjJEttf30NydwfO7AzNzc1sbm6ytrbGl19e58Mff8ji4iJ3urtpammmPhanRUBLcw0nG+pYnZzgP7pvMucWeTg2yrSmMyXZrKVXsIWNVuHBcRza2tqIRCJbucHn8yGEQB0df8Yf+h/SuW8vJ8+9xeD9PlKpFBUVFciSxMLCAm+//Ta2bTM+Po7iKNREQiwZWZRNiXhJZrs3zKoqWK6uIG1vUCg5VKoqbckWXnvjOLo/xL59+0gkEuTzeUzTxO/3lwGspzNcu3KV46fOkIglmIlE8Hg8vPPOO/j8fp4vPCcQCHDu3DnCVREOHThCazLCk3/4RwZvf8OIIqitjCA0lTw2RjrN5nqOWhf2xxp4s+sgs6USmqqyuLCAz+crvyMhAAm5whfg+cISmqoyOTHO/gP7qamtoWRZNCebSafTdHd3s7i4SF28jrxtsGyYVCV3kxMqq7rKiq5iqwp7AnHqLBnFtdDDQZ4vLzH+217k/DpGZg25UCLWkMATClH8Ng+sraZRPR4OHj7ERi5HKjXNsePH6en5GrNoEgqFmJiYYGVlhW3btvGbWzcZGx8n4Ujkaz2YBQtZlqiqq2JxeY2Opia21XSgBryUVrLc6LmD8od+4vVJ/vqHHxIsFlEKJsLrQ8gKykcfffRJor6eM98/g6LITE5OUllZSTQaZXBwkGPHjnHq1Cl27NhBKBTi6k+v0Pugn8nSKn7FZbcvTGdDI1NPn5AyVjh6/gwViTo0R7CYmuXp4gzrVoEqIcG9QcyRERRXIZCoQ/P7kDs7O7l06RLpdJqPP/6Y0dFRMpkMyWQSXde5ffs2dXV1xGIx0uvrpNMbRNUQ+rrJUSnMjlCYx89GCWYNvueNYmpQzOZYfDKOtWnSVFdPQ7wRuWCSHxmmIjXNnWtXGH00ADKomqZRLBb57LPPuHHjBrFYjGQyycLCAqdOneLy5ct8+umntG3fzqZlkUgmMbMbyDmLoFwkpxVYCGlkVx0aCw4s5JEzOfJzy6y6BQLVYcS6Sc7M460K8Gxmgp+PP2a0OUrT66+Xi9HY2BjXrl0jEAgQj8cJh8NomoZhGBw9epQvvviCB7W1HDl+gmg0Qr9dwJZdRiSDHzTvI/naae6OPWFlfJ788hrrxgaa10NcaMzn85iLaepiEbJBH96KGtbTC1zv7uaNE2fLAHp7e0mlUuzr2sfBAwexrBILCxv4fL6t6nXr1i00VePA4WMMPR1mbtxA39VKxsyQmPdx/tAB1g/tJ/s8zfTic4jVspnOMjw6gGMVqY1GMPQQeiJOV8dOfvHLm/zu13eQLctieHgYWZb58wsXqG+IMfTwHv/11Zf0DwyQ3zQ4cugwAY+XwYf9pLNLBP06yboYoXgtg3aWWw97GRl+wLq9Djo01UQ5cvwga7rDYmaNUE0l/nAFWX+QsYJJc30Tu1vb6Lt/D9UwDFZWVgiHw5w4dZrp8cf09yyRSk0y+myaiYkp3r14gTOn32D40RBVmg/HNAlWVyL7/MiJBOsrGXL3HqBMjmMWylWuMNPEzNQUPs3P7s6dxJsaGHowRvvOFuKuzY72bfzq+g1Uy7KwLIuamhqi0Roe3t9gfn6J/IZBrgR99/uIVlVy5q3v41E1pHWHupoGChSprW+isDRLfaCShOmlmLVYcRwWzDyy5kUuWqiaTiQaJdnUzLOxBSRdIx6rwzBMiqUishACy7KwbZs73b/l6dMJVDWArHjx614a6uu529vDZGqaw6dOcHegj6BPp5TfIGfmUCWLiLBpdB22KxLf83rZiUyjohPUdBTNg6x5WFnLEIvHMQyDUqmEx+MpNzkAxWKRubk5Muk0LclWXFSqI1F2d+zixPET5DY3mZ2ZoWPPLqobKpCfPiYy8oTpWzeZ/+b3VJkmqmVilfL4zAL+zAaBYomQ7gVFpWi7hCoqX/SNsLS0xNzcbLkY+V50PJIkcfzYEaySzdLSIoFAkKqqSr68cZ1i0aSjrR2xnqfD6yMqVBJ1jTy3JShpJGQNBQcZCdtyUBSZCn+AOp+H4mKaykgNvmAIj8dDS0sd21rbGHz0GF3XkQOBAG1tbWQyGW7f+g2NTfUktyW5cPHPOH/uLLZt49F0YuEovb+8ifY8S011JYFKL/W6l8aKSooemY2Ql4LqoyB78FRHKNoODQ0JkMEwi1SFq4lUV1NVVW75ZlIzNDU1oUqSxP79+6moqOBnX/yMpqZmhFtuxa5cvcLg0ACtLdtoSSZp9ISoPngYTdpALhooRQmEi+WYWJJAFEAqWJRcE0XW2bu9mdr+R9zuvsOujp3E4jGCAYWve75hKpXiwx//VTkRdXV10dXVxb3f9/GTn/wLDQ0N9N3v5+ue32Hk85w8fpyuo0fQJBlFVkC2QbjgAEKAJBAIcCSE7eC4NggoqgonHwzx08uX+fzzy2xracVxLPr6+qiti3P2rbfKABKJBJcuXeLZ2CTT0ymWlpbLo1UuS2fnbt577z38oSC2beMCkqRuNZWSJPHKXCQEKuXBNKgo/MW77zI4MMDIyAip6RTSixnjRz/6IXv37i3/BZqmcfbsWS7+4CK6rmHbFqZZIBqN8sEHH9DZ2YkQYmvAkGUZRZZRFAVZlpFkGfnFUl46A+js7OT999+nsbERSSrrdHR0cOTIEbxebzkCtm2j6zqnT79BoVBgfm4eWZHZsaONPa/tQQiB4zhbjP9PEQKxtRXIsszhw4cRQjA3N4ckSSSTSWKxGLZt898rZxc7rXPPhQAAAABJRU5ErkJggg==',\n",
       "  'time': '2022-07-09T10:26:04Z',\n",
       "  'class': 1,\n",
       "  'class_prob': 0.999874472618103},\n",
       " {'image': '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',\n",
       "  'time': '2022-07-09T10:35:50Z',\n",
       "  'class': 0,\n",
       "  'class_prob': 0.5459924340248108},\n",
       " {'image': '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',\n",
       "  'time': '2022-07-09T10:18:52Z',\n",
       "  'class': 1,\n",
       "  'class_prob': 0.712454080581665},\n",
       " {'image': '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',\n",
       "  'time': '2022-07-09T10:06:25Z',\n",
       "  'class': 0,\n",
       "  'class_prob': 0.5981603860855103},\n",
       " {'image': 'iVBORw0KGgoAAAANSUhEUgAAACAAAAAgCAYAAABzenr0AAAABHNCSVQICAgIfAhkiAAAAAlwSFlzAAAPYQAAD2EBqD+naQAACnFJREFUWIV1l9lzXMd1xn/dfe+dOzPADJbBDDYCXCGAAkVRpE3KMmlJtmTLtigpTsWJU6lU+c1OXl15SlX+jLhSFVUeUk6lkthyylpIiizZoimBu2SCAkgI4AICmBkss925a3cehpQRmz7P3V9/5zunv+4jjDEmSRKEEPxxaMBgjMQYA0YgpAAMoBEYQIKQX+wwWmPiEABhOfAQ9w/xjTEopbAAlFKPOZwOOAYQaK0BgZSPgMS2NdtCQHXlLjJpkymM4mQLyMcm1wnrEZvHh0EIQxjG3L17H6VsCqUB2l4bSynyuW6k/P97jTGsr95hc3mOwu5DFHcfIpvObCP++3VSyg6Bx8v/iJiiXt/g9OnTGKHwYk2lUuXpAwd47dVXcB2rU4qOUEgpSbkunu/xYGUFlR/HKVm4bmqbar9P+gsF/hQJ0Liui1KKU6fPUq3X+PKRI4wMFbAUD+UV27FJ9xQZmzqM3TWEk0oRhiGu6z4W3foTp/JIGWM0mWyGEye+xu35z/hS315OvnaS4cEiSbuKL12EslFSghAoYRHGQLqXHbv2sbXlw8N2fVyK2wgYjDGdLhYCIzqdL4jBaPbu2cX3vnuUmzO/pnzvJvXVRRzpk5gYIxIwEp0YpFBsVaoE7YSscLF7hlDZbrQxSHTnJKHQQiD/kABGI4REyE5JzTbmcehh4gYjQ3kOHj6CbWfQYY0ksjFGEwcx5eUyCR4Tk0XmrlxneXGeiWMjWLYNQmCQYAzJw/rrPyIgFWEQEscBmBiEwbLSWBLu3b1BaXiSfDZLpquIne4DYoS2QYCOwKdMIhLGdvThx1nW1suEkYdLjjh5mIwQnX4zBsR2Agb8wGdjvYpJAuLQIzEBue4hGpsbrK7c5tljJ/l8toLXaJBJ96MTiSLs5GLBwFg3QaIwloMXJOgYsikXaTSxBqMsDAKhDY/s7Itb4Ac+ntdk5cFd5m9+ytZGGUPEQP8Y2m8yuqsXlc7jOA6JV0MBAoHEQoiOpNIySBmhg3XWlhfYWm9x+beX2PQ9wljTle/hickpSgOlTkmk6BCIopBWq8WNT65w9vS7NBpb5HNZ6s0ms5/OMpBLURp8CRNHuNkeQm+zk7VJQCs0AiEMxoCl21RX5vG9TT744Dxrb/0KuztDOp1BG8PuPft49Y3vMzU11VkPUK/XuXnzBv/9nz9juFTgpddfZ3jHCL6fcOvmDL8+9UvOnvqQiaefJ9tVoNH6nDhJOi+CMRgNCI1S0FjfYLNcZaW8QrVZYcfuSb5y/AR9PXkqayt8PHOJN//1TX704x8zMbEHK4oj6rV1zrzzFoPFAb7/g78hk8uTyWSwpaI7pdGtFr/4+Tk+OHuOkydfIo5CkiTCqHTHL7RGK0XSbrC+tsxaucHFy1fYPznKn33vrxifOoJUgsBvsv/AIX76L//G//78Z/zd3/8EGYY+CwtzbFUfcPLVVxkY2YlWGSJtEcY+QRhy/Ovf5cQ3XuD9M+/SbGyCjjBh46ELarTREAWsL8+jLMWly9cYGBjk2y+/yEAug7JdImGT2Fl2TeznL//iDWY/vcTsjRtI329z7dpVnpw+wOjYLry2D0JiDPhBg7Zp4xaLfPVbL9Pyt5i/fQvppgiDJrboGFUoINx8gNeoop1ebs5d5/kXvs3uvYdotCoYEyCkQAhFEBmefuYIe/bu48JHF5CtZpP7y/c58uxzZHI9BGFMFEVEoU99rUre6kHFOcYKe5kc3M2Nz+4Qqy68VhuNQQsBQYvy/TkGR5/g1ueL2CnB/umjOG6RULfx21voOMJogTESpM2xZ4+ztLSA3NioknIchkfHQdqkM1m8VotmvUbTa5PK9dEWCpXJsP+pJ7k1d5sksQiaLRJt0MbQenALJ5sjXxhjfvYThoZH6C2UwO7GCIt2s04SRSRJQqIN7SBhfOceEhNgVSsVcrlust09tPyIlOuSclMszS2QBBVSWYPt1WjJmC63RrB2g42la9hSUCgN4UXg1dcZeeIoQZxQXl5lz+4JEgHtOCKMU6yXK/TZPQg7jUQgVIpcTz/pjI1Vq9XIZDJYjkvgRfitNhhYWlpkdek6Nz6qIeKQgb4MRDUOj7Rp3D6FNJq5uIXdP0VxxwRuJk/ot6k1PErFMZRtEFrS2zvO/ft38JK7DI7vxHXTJEbg2C7ZrIv0oxDL6ny17JSL4zjUG002602s7DABRdbWfD5b2GLpToNuEeCEFRYXV5j5zWna60v0DezAiI4xRVGAm+nCcS2clE1PcYRUNs/i0h18zwOdYNCgLFw7haWlwugIJQwIiUAQJ5qmHzO1/xDj/Wm88hIr1Q0Wr3/E0moF3xiul/sZ3zmITmKIY4ybAhmRshSaBCWsh36R0N1fomuz0ZFfaxIZkxgLEYGVSmfx/YAoDAgjCP02PT29PHP4S8RoRFeW8ZGj7HMc0B7n3r7LzsPHGSv20pvL0kpS+GFMWkiUbWHZHQXjKMaSCittk427mZiYwHVdLMvGGIWOY9q+j9XTW2Bjq0mr2UA4NqlUCiFgamqKKAlptlvcq8eMDrisexFdOw9z8IW/JVffoLJcwc5nkOkMSQIpK01xaIQHD9ZAa9yUQ8uPsC2bfL4HYwyJhpTt0KpVaLXbyNLQKM1WwGa1gm113uo4TnBdl97uPGPD44wO7aJe2eLixU8Y3TuNyBQoFQcoFEpY2SLCstGJQSmHyemDfL64ROj7mEQTRwnKcsBIbMtBJ6AwbKwt0/JDZKk0TDbbw7Url1ECoijCsiwsy0Jog2Uk/W4K5beIYovp6adotpvcW1gkZSmcdJrVlWV0mBDEsHfySSrVDRbm50FrpOz0lRACKRVICSZi9vplunO9SDftcuCpQ3z80QVWVpY7s46USCkwUhIZTdisMHP+fQoju9l/YJrBsQIHD36ZvZNTpDNp5mavU1vfpOVFDAyPUCiUOP/hh3itFlobjBEIIdG6Mw1VystcvXSByf0HkFrDocNHqbdi3nv7l4TNMjYh0sRIYpKowdWrHzNz9SonvvFNjFAEUYhUabSQWJYk7boEUYAfBAgUzx3/GhdmLnJ55mOIQozWPBrnAr/FuTPv4vkhBw8dQf3kH/7xn9LpLvwYzr77P+BvkHFtdBxSW19l9vpl3n7nFKN7pnn5ldc6YFoghURKsB2LXC6Pm06DABNqCsUScwvzXLlwnlI+RyZto8MWtY0HXPjgDO+/d4oXX3md6WeOIcq1yMRxTKPR4Bf/8Sbnz71DcbDA6OgQQRBQqdQoDe/ktT//ATvG93S+YVJ2aitASIMxGiFEx+v9BGFZLNyZ499/+s+0qys8sW8Ux7Epr61xe/EOz3z1m7zx1z+kq6eAqDYSE0URxhhqG5ucee9XXJz5DVG4RW9fgSefOsrRY19heHgE23FR0v7iZ7udgJSdOSIJEiKtiYVm4bM53nvrv7jxuxnCICaT7uK548/z4ndep3dgEKksxKZnTBzHaG3QaNptj81qhSRo47hp8v1FMmm3c0URYCTi4TjeeeM79X1ESseaSBtCYzCxYWNznXury/jtiK6uPKMjO8hmXIRJsJTk/wDpWkJ5gAK/MAAAAABJRU5ErkJggg==',\n",
       "  'time': '2022-07-09T10:10:32Z',\n",
       "  'class': 0,\n",
       "  'class_prob': 0.9997720122337341},\n",
       " {'image': 'iVBORw0KGgoAAAANSUhEUgAAACAAAAAgCAYAAABzenr0AAAABHNCSVQICAgIfAhkiAAAAAlwSFlzAAAPYQAAD2EBqD+naQAACqBJREFUWIU9l9luXFdiRdcZ7lj3VhWLg0iJtESZkgfB7XTgAD0hD4nz0D+QX8kX5IPyGDSQIEgjDWRoy0PLpKiWzEEca7xVdadzzzl5sJMN7Pf9sIG9tvjHf/h7v6os55d3zOZjpquKdeXpxwmJ1ngMn3y8Raw1xdzxfrFgVRqaRtK2gNL0kpgvv5gQBWv+8IdNAm3oWkcoNrBO4mjoxQMw0DQVRtUYH9GuFXp2e8tibbh7f00YBzzZ36FFIpwl856tPGL3ccB/v7zmT8cWlwmaqiaSIcorGtMQxGBFC0qyKCxJLyDOQnyYULUrqromHRwhnGN2d8HcJxjR0stTNGbBznCDhzufcl8WLGjo2pLlckUUZ2Q7Pc4XV1zbjolKyCOFQLBe1Zh1QSehNHNKA0jNbOkwUjM1S/qbEfuHh7w++TPX84KtjZRWGeoiYLiT0Y8TdBLO8Lama0I6U1HakmXb0PqQ3s4hax3w7nJMTUDDAllY4iCk109pw5C6qxGiolOOxioIE1atoakadh722ekfscwllxfHrBBs9mo+/2gE4YCr8xadJgVtV2LRPOz3GOmUeZdguxGhS1mvYw5GXxC6K/LDe8qq5u6+YL4uETIhyVOSRKOiBbYFA0RhSC6GiFpzfvyKreyaz39bsrPbEeqW7d2Ok9OUP71s0E+eKzorcM5hfYMIOjrRZzrPuR1rwmjERt8zCFaosMCQ8O6HiLvZkrrr0EFMP9qkl1puVy2tq8njHZRzzO5vSbZv+M0vFY+fdkS9GUI4jFEouU0QD9HZqAYkAJ0o2N6ROJNw+g6qKqRa3qIHd7z45I4kuyGINb/6xZCon+G0oJwfYMc/I8lf81X4Rx4/LXBEdI1lI2n4my9jPnz2HuUtwnRUlcCZkHenNzifo621gMd7TxA3JEGGQ6LtmNiv0WFBrCZ8sJuRZYfocEnnV0R5hw8MXV8iN3KQN/RHML6qOHl7Q+00RWk5ey85ehqSp0tWy4zzs4iH+ynrxnFze4kWCJwH7z2hCBlfKXqZ5cmTgu3RgjRxxMmAi/OWMhny0SeWysxxC4+OIAnX6Ox7ivKcxGgOt3f56j8X3N8rutayvC4ZRT1+82vB29OAs8sh09JQ1BFhEqE9nv9X12M53WA8K3j2YsVo06FlxPErw3/8XhBFK7b378g3akSbQ6fwzjBftlzdSky1ZLOfsz2Cy8sG5zXFKuLqxqJCC4Hnfr3mzUvHzTQgiBI0gAekFCzXHde3knhL4GVNEApm04zj4yHzao+337/h2YucZ5+AKfosZ0t6/ZrLq4LWbJCnliyb81df7PH96R1Fqem0YGM3JU460iyhFTArUiYzTyA8Gi8QHjwOFRqsqohiRxr1wOf8++8rvv0eHj49oETzu3/5Dhf0GV8u6KeedN5j0RrSgaS1PXxlqKsOY3KcC2nbBZOp4eo65fJCcXWhOH67ZtUGRHKOxko8FoQFadl/1DIYNawmhqYJ+eYlnF/VqPwHDvaecXI65o/fTHi0G+O1Yt12hHFCVTrqtmFnRzOddaxaj4pKXjyTPNre4vSkQKiaoycB8ZaiaVu8maOt/6kFHpzzCN8SygDTrrk4m3H2tse6jfju5Q+EL7b5i49/xtff/Y66UOxsbjDYWFDOA9aF56OnllDHtOuALJ3z8c8D/u5XD8jahNVMsr8/49GDGW2s8c7ijUU773FeIIRG6BbvOyaTmEHep2o8G1uQUBDFDsTXbG885+kHPV6/Kbi7qRj2D5kuphwetchQMV7ck+QjRnnA5MLxz/80geqWfGj57XZMP63RXYiWCq012gII+ZM9XjXMJwGXb4Cox6efb3M7v0W4lscPF0TZNzzaT8m3cm7uLE2RMxjs4WzF27O39HLH8UnB7XtBayTnSJxsUJGkv6v427/u45nSIdGCHwMIFN5JUnFE4+YsioLlLKT2hrvljNJUPBhsE6sSFa4I046gC3n6oaeqTzh7+zFV9RmrSjB7XXF87GhaS5RJ9vcToijm9ZseJ6eGX/y6JAk11gpAoK1z4BxRlPLs8EuK1Rl31//KcLvHupE0QcxeLgk6hRAG61IWE8GyKNnYcWSpwvhTJsuAIFF8dVxgXEqcAVFFP3N88VlOuV6wLhrMWtLXAd4KpAdt2w1wmtlM8Db+ikgopvOU8dQQicdc3deMNldk6YxQa6bjjmKaIUSJshLRDelMwXxxQeD2WPmO4XbAVm+L6f0VkzvB+8s1o0HLpFMoG4Eo8AK8l+jLyxc403Lx7pri396ias35uKVyMU8fDTi7WfCogr/8eQ/hwaxSLBVbuylRr8erE8f1tSJgh8APODw4whuPaQTYkOvblq4tefRBSpLXhEmFR+C8RCDRb86esyre8/58yWy2Yn9kkLEmSzJcWHEzX9B0lsOnAZv5ms4JCMCIB3zzfcT/vLxnudbsbccIYxhFOUk/Y72yKCKquiXoTfDK0uvXRDE42eKVx2PRyy7hYlxwPZuyuxNy9Dzk5ckdeXiI9Z7Gwu1cc3YF6WFI01kW8yPOr4ZcXHcsygZjpxhX0lMh5XJFu2yJ0z55lpHkLcOBoSxnbG4d0FQxhPeAwckWvVi9Y7J4TZCU7B8M2d6W7N4fkA0PaZsL4jii6mLOblqG6T7FKmO5OGJRj5msThBKsDXaIslCluWK+/EYawwHB3s0pWFRTomDmMnYE/ee8d3XQ9AepTsCVaKL8TW2WvFgZ8jGoGG04fjw8T5GzZiO3xGpCBMm3C9D3pztYkVOZ2usWGFbjbWe3u6AupHc3hkWy5atDUk+cGShJY1TZjcVzj9E6CNuxgNaa3B+hZIFulrVBEpwsBezu7nB+dkC6QISPaNpK1qb4fFURjNZeTo3AdGilEWyiYoc01lNa2pU1EOHCYv1lD//cEWkJHWrWZcJm9u7tJ1m7gBpsR5UF6HXTUOSwuODkOlFRzFPePTBHUKsuLqTGJmhvAYBq3aOcIIwCFFhynBL0/mOxaqmrtcksSQMRxSLjveVAAFSx2w9+IB0tIPtWkoPWjY46XFdjLYqAKkp1y2B7fjoGbj+Ha9OIt7fD1FRghAapTVhGKGExztHYxrKusS4lqYzeCKsTdHBFtsPPvyRsKKIJIno9RKiMAUREKgQrQVeCsJAo8PeBkVxQVFIfvlZioon/NdJy7evR6CfoQKL9wLhNR5Nayq6rgNAa02c5rhKksQD8vQhnY+IkgSpJFJItJJEUhGECiE8WimUUljhUFajd3ef8Or+lFdvliSxYl40fHuSYeMtBrsJkhRnBdYJlJB4lxEEAVJKgjDAOod1Y/J8RC8Z0Xlw0qIVaC0JZEgoQrSWOG8A8F7gEeAF+mDvKXd3n/LD5SmX92DtI/qDx+xtjwiTABgQ6BjnJUooJAIpBF1nsc7RGkuaSqK4R5xmSCmQ4qeJUwolFXjwziKEAgR49+MV8BKdRAmPD1/gRYJXMb3+Fr0wJxIJQnpUZNEqQKsQKRRSaASCznaY1iBDT3/UJ441OIlEgQDnfsR9KTzeW7wH7xXCeZSUCAlSe3SqBMMo4/mTj3FKoHWAaz3SeqSAINBIQDlDoEFIQRAEQEAlLNZ3JLEiVBLbdqAkFo/F4LEoIcA5hPg/9INQSloJgob/BZKsnG6XF1CZAAAAAElFTkSuQmCC',\n",
       "  'time': '2022-07-09T10:00:08Z',\n",
       "  'class': 1,\n",
       "  'class_prob': 0.9956969022750854},\n",
       " {'image': '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',\n",
       "  'time': '2022-07-09T10:20:13Z',\n",
       "  'class': 0,\n",
       "  'class_prob': 0.9912222623825073},\n",
       " {'image': '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',\n",
       "  'time': '2022-07-09T10:13:53Z',\n",
       "  'class': 0,\n",
       "  'class_prob': 0.988100528717041},\n",
       " {'image': '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',\n",
       "  'time': '2022-07-09T10:21:25Z',\n",
       "  'class': 1,\n",
       "  'class_prob': 1.0},\n",
       " {'image': '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',\n",
       "  'time': '2022-07-09T10:32:28Z',\n",
       "  'class': 1,\n",
       "  'class_prob': 0.8590541481971741},\n",
       " {'image': 'iVBORw0KGgoAAAANSUhEUgAAACAAAAAgCAYAAABzenr0AAAABHNCSVQICAgIfAhkiAAAAAlwSFlzAAAPYQAAD2EBqD+naQAACilJREFUWIWFl2lzlFd2x3/3Pks/vbdardYGAoFAG0ZmWAwYyCR2pWY8MZ7gylQ5L1JT+R6p+RZJ/DapTBwmmQymKrYSTwrPGIIHTGQECLQgoQXtarV6fbZ786JbAhyP53R13X5uPX3O/5x7zrnnL3RDANhdAYQQe3ue51Gv13GcKIYh0VpjGAZCCIQQvPgXKBWiQoVSak+PYRgYhvGtus3dH7ubu6K1RmsFaLa3C1z7+BqDAwOcPXsWpTWB6zVfFJiGidKKwA8IlSJU4Z5OwzCxLBPLsl4B8QqAXePfBAEC33eJxSN0duYZHf2E5ZUl2tvbGRoawpAGytcUt4toIJ/Po2HP+6aZVzwXQuxFWkrZAPD7RAiaIVf09fXxfPk59+/fJ56Ik23NsrNdpLi5w+zTOdbX1rh06RL7ew+SbslgmiZCCKSUe4a/KVpr5HcB2JVyuYxlGvQeOIBjGhhhwOLCM/wgQAiwbYtYPMaDhw+48fkNSuUShrFrGKRsrLr5Ye/L78+B3SPw/JBapYZQimwqha5WsJ0I3R15Wtq6UF7A6ydGcF0XIQReEJJMJlBaI2XTP61QKmTXhCkaurUW330EGpDSIAgCdOAR+D6u69Iaj1HcLlCpBhTWNtjfs4+enh481yOdiaGQL5xUGlNaGJZFEDaSUwmNEBIQjSP4du+BZrm15doIgoCns0/xPI+F+XmWF5aImhamEEw/fsyXt24RuC5SCUxhYRs2lmGjAhi7N84vf/ErCptF0BK0iVYSrfnuCABIITAtk1q9RhCG5PJt6FKZzbU1ZvQkHfkcXe29TE9P8+WtLxgeOcP07CJdXR3YdoTbt24z+sl/sVnY4snjGUzbJN+e5/jxY7z++mt/AEAzMuVyGduy6e7qIhN1WJ+dZXr2GVEryfCRw7TmsmSSSR49esjoJ5/y79c/JRaLYls2m+tb1Ks+fhjw83/6CIQglUlz+b13GBg48iqAl2u0sYaEgUulWqajq4t0S5alp0+ZfvCA7s4OensPISyLmucjTZN9PQd5MrdKpVZne6eMChVgILUkYpscOXiQvoF+Rk59j2QiTq1W/0N9QOLWPVSoiCeSlEoVunsO0tPXS0dbO8lMlpnZeQqFTep1l6mpSTZ3PKxIFC1CtBYEIUjg9Olh3n//XYZPjJBrz+MHCnY74V7ONWtTKUWtVmOnWGZjbYtkKoVlOfiBT3tHF+0deVLxOJ5bY3zsa3Z2ihSLRXzPZ3p+DcOIYRoKrSAMA/zAZWNjg+sfX+fGzd9y+c+vcPz4ccTLnVAIgVIKIQQbGxtcu/YrvrozTrUccPHSG7z9pxfRWmBFbBLJBKvPl1hY2ODxxASWFUGpkEwmgwrXqNSqOE4M07JQSOrVEk+ePKG0s8nM/ByTj6f4m5/9jIHhgf/fCYUQFAoFbt/+kvHxMSanH/Jvv/xX/u5vP6RQ2EEJQSKZYHHxGdtb69QDn6X1dbZKZVwNTjxKqVzEdatYtkEkYhONxejs7OT06dP89U9/SqVQ5Of/8I8Ut3deANC6cTmsra1z9epVns7M0JJN0t6exverGFKyvV0iCDXFYpFY1KGzM482JBMzM2yWSpx84w2S6TiOY5BIRmltTSOEIpVM8s4P36G7u5vL777Hjy+/x5OJCR6Mj7+cAxrfDbj60VV+8/kNzpwcYXhwiGxrK0+npvA8xb27X3HxwlkqpRo60BhS0N3VDWMPSCQS7GwWcAyD1kyK1kwKxzIxdMCBnm609lmcXcM/FXDizGlu3/0d05NTDQBKKQzD4O6dr/j001FOfO8Ef/XBT0BpMtkcPR0dfHz9P3g8s4Dn+sScBNvbJZxoDNMQ/MX7VzgxMkKtsINfrRK3TAb7DpJIJAmqBQ73tOPXSkyMjzExOMSZPzpPd1c3ha2tF/NArVbj2rVrSCH4yw8+IB53qFWq2LaFZdskkynq9TqlcpV4MoXSmrrr4lar/NkPf8TFixdZnJljZXGJza1N4hHBkd48JkdZW1nBK0uSCZNicZ1avUYqncIPggYAKSWTk5OM/e8Yf/zWn9Bz4AAP791lfv4ZTjTB0UO9ZLNZjr12jGg8jvBTmLaDQBK6HlOPHrF/XxdTjyc4d/4MsajDxMQ4lfI2G2vL+K5LOpXmnXd/gJZRZHOsMw3zRRLeuXMHz/M4f/489Xqdubk5Hj58yPj4feKxGEIIDh06TCrTQiKRwrIdlIZsOsPGygoPx8epVKsk0nE2tzeJJhJUqj6Pn8zQe6iXkZMn2SrvYDg2pmFS2Cpg23YjAtVqlfv379Pd3cVA/xEWlp6xvLxMve6SbW2j7rpUqhXy+/KgNZFYlEQqTalQoC3XwtLaGne+/B+SySSPH41hGgYD/ccobJfYf+AQ+w71kWzNop0Yp8+8ybPZJZZXVxh6/bVGBIrFIsvLy+zb34lQIcsLiyw9X6VUroJQTM/NUvNc2nIZIERGbLLt7TgRm6HhPjryLURtSa1aIvB9WtIZTEOSy2bxQp97E4/o7R/m4vffplKrc/Pmb9muFDl4uLcRgVqthuu6tLfnsW0LgWB9fYOIYzW6oxR4nkc+34YX1AmVT9/gILWdIqVKlVgiTro1h+3EiDhRkokk8ViSnt5+btz+HV//+jdkWzsYGRnhq7t3+Wx0lKFjw/QPDLwoQ601iUQcP3AxLYkdManXa3R2dgJg2zYtLRlqbo1QBziJBEMjI6wuLpLr6KS1rb2RmIZJxIkSicRwIjGuvP8T/v7DD7n6z7/gs9Ffs7W1SToV58qVK6RSyRdlKISgXC6xvr5KLtfCm2+exXGiDA0NcvPmLfbt60EKgXJraCkItSYWT7G/5yAasCIxDMtGGAYKTRD4lCslTp48wY8vv8tHH/0LC3OzOI7DufNv09fXR7BbhvF4nFQqxfLyc7QKiUQinDt3Dtd1mZubo1Kp0N9/FN910aFHKDRBoBC+QmhQQL1SQVFDCkUY+nhuQLXqsrNTIpOO89Zbl6hVq+RybRwbGQFAiuZtmMlkOHLkCF/fu8Py8iqtuRxB4DP/bJ6vx8Y4erSfeNxhp1hAaB8v8FFKI7UAVJMNaUKtEaFGBT6eFxAGCgNNNtfKhc4OotEo6XSGVDZLIpVCmkYDgOM4XLhwgdtffMH1658wODiI63lMTU4gdEi+rZXVledIKTAFTW4omxNU4x6R0sCQIKSFMCM4kcaoL+0Iwopg2RZOxMF2IkRiUZx4o7fs8YJTp05x8dL3+fy/P2dhcQUpJbGYzbmzJzFMGyENTMtCChDN7mkYjT3btok6ToMNSQukRCCQUiANCyFNDMNASok0DKRlYjQ5g9Ba6zAMkVLyfHGZ/xz9jNXVFbq6ujh69DDZljiOE8VxIgghm6S1STxNA8u0sKzGfWEYBkoIeImKCS1Af4P4vvQotNZ6dxLSWlOt1AhViOM4GFKADhFSIqUABLpJOjR6j3o1YrKrkVfounj54Vvk/wDSxK9LbozPSgAAAABJRU5ErkJggg==',\n",
       "  'time': '2022-07-09T10:24:48Z',\n",
       "  'class': 1,\n",
       "  'class_prob': 0.9344638586044312},\n",
       " {'image': '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',\n",
       "  'time': '2022-07-09T10:31:25Z',\n",
       "  'class': 0,\n",
       "  'class_prob': 0.8295637369155884},\n",
       " {'image': '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',\n",
       "  'time': '2022-07-09T10:23:46Z',\n",
       "  'class': 0,\n",
       "  'class_prob': 0.985526442527771},\n",
       " {'image': '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',\n",
       "  'time': '2022-07-09T10:39:19Z',\n",
       "  'class': 0,\n",
       "  'class_prob': 0.907495379447937},\n",
       " {'image': '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',\n",
       "  'time': '2022-07-09T10:12:03Z',\n",
       "  'class': 0,\n",
       "  'class_prob': 0.9127775430679321},\n",
       " {'image': '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',\n",
       "  'time': '2022-07-09T10:16:51Z',\n",
       "  'class': 0,\n",
       "  'class_prob': 0.9977800250053406},\n",
       " {'image': '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',\n",
       "  'time': '2022-07-09T10:14:59Z',\n",
       "  'class': 0,\n",
       "  'class_prob': 0.9933260679244995},\n",
       " {'image': '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',\n",
       "  'time': '2022-07-09T10:33:31Z',\n",
       "  'class': 1,\n",
       "  'class_prob': 0.8045673966407776},\n",
       " {'image': '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',\n",
       "  'time': '2022-07-09T10:27:04Z',\n",
       "  'class': 1,\n",
       "  'class_prob': 0.9941462278366089},\n",
       " {'image': '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',\n",
       "  'time': '2022-07-09T10:01:36Z',\n",
       "  'class': 0,\n",
       "  'class_prob': 0.5981603860855103},\n",
       " {'image': 'iVBORw0KGgoAAAANSUhEUgAAACAAAAAgCAYAAABzenr0AAAABHNCSVQICAgIfAhkiAAAAAlwSFlzAAAPYQAAD2EBqD+naQAACadJREFUWIVdl1uPHUlSx38RmVl1qs6lz2m73W27vZ7p2dkxIEBC8AJCiC+AkPhC+zl4hjf2AQmExONqWNidnfWys7Zm1va03W7bffr05dzPqaq88FA9Hi9ZSqUyI1WRGRkR/3/IP/7TP6csy3DOoaqklAAIMZJ8IDaeEML7Tkp43675xrdyXxNiw/HL5/zkX/8FqznNNuL9lk8f3mOQO5KJJO1w+INP6Y9GFEWXuwcP0DzPsdYiIu97SglSen+YD8cYIzFGQgjEGEnffTd7SLDZbvFNjY2RarmiqWsAjAhGLSEZIhaxOdYYg3PuveIPOwD/71AxxptlQQSQiEg7T1FRL9jo2TGG3Vox765pfIPJRmRJcZphk5KbnMzk2O9u/b59p/imfSDh9yXtPAEpRRCwWU6eGXq1QbKcshvZmW+YIwgCKgQRQoioKDFGbCSRVG5MDkk++LFAJBFIRFJ7UxIqSkgRK7BZLfj8iy+IlWcnM3QLizMZc7XMTc3hcICPDbX3+CwRjdA0DSJCDAEbgWAViQkhEpMQpVUeBIICRpEgrTkspCBkCpcvnnH8+U85P32Drhsy8RxYw7hfYFCaaHitgTxFQvSIU5xRQh0REXwI2JQSooqkiKoisRWiCiRsUmTV4EOkkkQTwWrk+puvOPmPf6N/dsbfNLAh0TSeQh3zzpZVUYBXToOnV3ToogxVKToZdYpkWY6qYmPwWBGi6I1DyftwNIBfb7k8fUUSQ20cs8klPRsY//xnfOwrPnnwgPHXLzlXmCH0ieyvlpTbGhOEtSTUDnA4RCwhBlynQ97JybMMW9cbNI0ISYgfOqAINsHlxYS347ecnI65s3+f5nrMrMjIDx+S7e+zenlCMgYXI0X7Wtxa13ScMk81mXgKCpLrYbMOTe0xNmCMwRiD1lVNCIGUIjF+H+ekxHY+ZXo25vnJO04mF7w5e4WUhgePfsTtTz7jxaziN6LMewWGgBFDLyop63B99AnfDLos9wYwKFFRiixHnaXxDav1iu12i15NpqTQun0iIhFSar384uQV45MTxpNrDvbvc/TZp4Syj9TK8MU3XD99zMuiy4uDB7zpDNimSC9E8jv3mXcHVAFS1sHklkTC3uSbzDoEofEeffdmDBHkJgQlCaLK6vKcV48fQ/I4G9lcXCBaMJs1pC/+m/q/Psf3dih++EfM//TPeHL0CSeDIW+LDtXBXaq6ZpR1EG9QkyF5hhhD8oHMOjKXYa1Fr66u2hxPqzwJGBN599WvOf3tE7KO497BgH4mnHz9nD95/Zy//Z+fITj+4h/+nkEJ49fHrK3l8ugjfnF4mwvrEF9jdwoW28jb6Zb5xiMqKDfRJuCcw87nc5qmIbMGExKeQFpveP2/v8FPLwlnE5ituJc5Do+f8ndpzL1yxX/WI549f0HtN3Qd5HnO6+srxsuKjwdb+v1dKu9I4YJ+N8eHQO4yjBrEJBIBa7U9wHa7xXVySBEVmF5cMn1zjr1ewOMnPHTwx9rwl9MlDz4taO5mdJYDnrx4gTQbhnmfBYbkDLv9XWpfcWs4oozCLVezVyquGNLvZARAjJKIQMQul0tWqxWD0ZBAm5S28yVpuaGbEneWUx5ZOPIb7julM8iph7fhqbIzKLFBsd9OuKjWLLslo6IkKlycndJUC27na5w6ik5Ox0S2KeFu0Lepa3S+WLKYz9AUWuARpapqfLWlK1CIp69KRwQZQDSO8UTYTi6Zvj0DLzS7fXrDEXFdE0LFejljNp2ynl6Q47GaqLaXzKen4Jd0rAEPy+kCu95smM1mpOjbUAyJvFei94Y0zQJfBXwXCmNpUJ4/W+OuljwyOaUPbI/fkjJLPhzyg9GQg707TM7PmUzOGBaRjjNUTcKahs31Ob6C4cFD6qah2nqM7XR//PDhIUdHR6SUCCFgnWJ6ynWzYH5+RXfV4NTy7SKgm8CPMuWi8vyyAbYNlXhO1wu6gx57/T7XV2OiX7BbluRYVAWnigFSE2iCZ3ox4eLsFJPn+Y/v7+/yw0ef3WC1R41ld+8QGQz49mrC767mnFWeMhg6WH4bG35q4KxJpMLhDvbQwQ7Vck69XpDbRGmg65TMKWoU6yxiBCSyXS6YjN8xmUywAOvVku1mg+saQoxISqg4BvsPWfT3eKZnPHUVX6WEeo9TYUwglJbd20Oy4S1G4piJYTo9Z7dfUriMLBOsFYwxJIQQI2pAJOAywS8rbCfP8E3DcrFkWHRJMUJMBB94/IsvOX52Qsj7zFzBr6slhQQeuZJNs6Q8uk9vfx+CpZt1qXxF2bnPwCnGr8mkwRjBGEVUWn6VQMXTLSxFR7Fl4fB1zWo+59adA2ICK8rxy2N++fMvkKLH3cM7XJ2/I8sdZWq4XtVcJ8ud7ohb/SGXV1eQDPfvHhADuGaF3XgkBlBtcd+0vtDSyECShtEgw3bLEu898/mCGAOqgm8iX375JZfXU/78r/4ao0q9GnMw3GG9WbBxBWbr2czmNAWwWWA7GTu7IyaTaxIBNRFrWnxOUW8QXlG1eIn4sCY3iu2UDh+3zK6nxGgI9YpXXz/lmydfUZQ91BhWywX7e3vkpmJVJ7JRj71QU7KGekk/z3BZTohCrwPiNwgeoy1zTgZEwKigKgQUvCIpYcvS4KsVi8lbNpfvuBy/4NWTX7GajcmG93n1/Bk73Q69ssP55ZzlpqHbS5imRjSR2YykBl9XpM2KIi4wZoN2MkwLryRNpPQ9+3YKGNeGfK6Gjir15TFvfvXvGCts1iuaEPGbFULkoAik9ZaqrslMIjcw365wXUdu27wu9YLoNwTd0skyLILEll9HCcQokJTUEvQ2MlJCbagpFXYKSMsZWvs2FftEqCoy8fR6JXmRYxSGZc5opyQmT7dfYpwhc4ZuLhTaYEODFcGqwajeEF7FiLZPIAlJCSOKItjctCbJMkcTleQjzoFKxPsarEOLPlKvGHXa4qPeVuTOMBr2EI04o6gxNE2D39bgIyZ3RBKaBDX6e1TPYNqaQwSrqhgMADG1m3q9LnmeUVeRpq5o6or1fIHNOoRoeXt6ykcHI0pi68lZ9r6uzK2g0WOtJSXT1o8pfV97pkRMSuMDIGj0TesUoiBC8JEi67LT72PwbGYXzM5ek6my9Y7fHZ+yU+Qc3trBWQvWtlROIsZEMtfWmtYYrDWottZxLkO1zYh1jKyrmtlqgzVGsZowxiJqUVHKPOcPPj5kvdkw39a8eH1Ot1iy2dTc2unyhx/dYZALiBIT7ZtqOzaNp649jW/I85yQhDqA9w3bbUVd16zrihgVEcv/AZ3vVBGSwPfzAAAAAElFTkSuQmCC',\n",
       "  'time': '2022-07-09T10:34:42Z',\n",
       "  'class': 1,\n",
       "  'class_prob': 0.8590541481971741},\n",
       " {'image': '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',\n",
       "  'time': '2022-07-09T10:28:14Z',\n",
       "  'class': 0,\n",
       "  'class_prob': 0.9535809755325317},\n",
       " {'image': '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',\n",
       "  'time': '2022-07-09T10:38:06Z',\n",
       "  'class': 0,\n",
       "  'class_prob': 0.5879908800125122},\n",
       " {'image': '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',\n",
       "  'time': '2022-07-09T10:37:00Z',\n",
       "  'class': 1,\n",
       "  'class_prob': 0.9999630451202393},\n",
       " {'image': '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',\n",
       "  'time': '2022-07-09T10:09:01Z',\n",
       "  'class': 0,\n",
       "  'class_prob': 0.8182951807975769},\n",
       " {'image': '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',\n",
       "  'time': '2022-07-09T09:27:06Z',\n",
       "  'class': 0,\n",
       "  'class_prob': 0.9125410318374634},\n",
       " {'image': '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',\n",
       "  'time': '2022-07-09T09:28:41Z',\n",
       "  'class': 0,\n",
       "  'class_prob': 0.9937533736228943}]"
      ]
     },
     "execution_count": 108,
     "metadata": {},
     "output_type": "execute_result"
    }
   ],
   "source": [
    "extracted_data"
   ]
  },
  {
   "cell_type": "code",
   "execution_count": 106,
   "metadata": {},
   "outputs": [
    {
     "data": {
      "text/plain": [
       "{'a': 0, 'b': 1, 'c': 2}"
      ]
     },
     "execution_count": 106,
     "metadata": {},
     "output_type": "execute_result"
    }
   ],
   "source": [
    "a = ['a','b','c']\n",
    "\n",
    "dict(zip(a, range(len(a))))"
   ]
  },
  {
   "cell_type": "code",
   "execution_count": 98,
   "metadata": {},
   "outputs": [],
   "source": [
    "import pandas as pd"
   ]
  },
  {
   "cell_type": "code",
   "execution_count": null,
   "metadata": {},
   "outputs": [],
   "source": []
  },
  {
   "cell_type": "code",
   "execution_count": 99,
   "metadata": {},
   "outputs": [
    {
     "data": {
      "text/html": [
       "<div>\n",
       "<style scoped>\n",
       "    .dataframe tbody tr th:only-of-type {\n",
       "        vertical-align: middle;\n",
       "    }\n",
       "\n",
       "    .dataframe tbody tr th {\n",
       "        vertical-align: top;\n",
       "    }\n",
       "\n",
       "    .dataframe thead th {\n",
       "        text-align: right;\n",
       "    }\n",
       "</style>\n",
       "<table border=\"1\" class=\"dataframe\">\n",
       "  <thead>\n",
       "    <tr style=\"text-align: right;\">\n",
       "      <th></th>\n",
       "      <th>captureData</th>\n",
       "      <th>eventMetadata</th>\n",
       "      <th>eventVersion</th>\n",
       "    </tr>\n",
       "  </thead>\n",
       "  <tbody>\n",
       "    <tr>\n",
       "      <th>0</th>\n",
       "      <td>{'endpointInput': {'observedContentType': 'app...</td>\n",
       "      <td>{'eventId': '9c09d09b-7a21-4ce1-852f-890aac06a...</td>\n",
       "      <td>0</td>\n",
       "    </tr>\n",
       "    <tr>\n",
       "      <th>1</th>\n",
       "      <td>{'endpointInput': {'observedContentType': 'app...</td>\n",
       "      <td>{'eventId': 'e8f2413b-9b71-44b3-81bb-3c63b55f1...</td>\n",
       "      <td>0</td>\n",
       "    </tr>\n",
       "    <tr>\n",
       "      <th>2</th>\n",
       "      <td>{'endpointInput': {'observedContentType': 'app...</td>\n",
       "      <td>{'eventId': '869ff225-ec01-4ee4-9515-7a9f3b795...</td>\n",
       "      <td>0</td>\n",
       "    </tr>\n",
       "    <tr>\n",
       "      <th>3</th>\n",
       "      <td>{'endpointInput': {'observedContentType': 'app...</td>\n",
       "      <td>{'eventId': '9bf2507d-7353-4887-a883-4c9d7fe75...</td>\n",
       "      <td>0</td>\n",
       "    </tr>\n",
       "    <tr>\n",
       "      <th>4</th>\n",
       "      <td>{'endpointInput': {'observedContentType': 'app...</td>\n",
       "      <td>{'eventId': 'a601da8a-21ad-46d6-acf8-48ac65694...</td>\n",
       "      <td>0</td>\n",
       "    </tr>\n",
       "    <tr>\n",
       "      <th>5</th>\n",
       "      <td>{'endpointInput': {'observedContentType': 'app...</td>\n",
       "      <td>{'eventId': 'a677eec3-9a6b-414d-a483-cf07b9530...</td>\n",
       "      <td>0</td>\n",
       "    </tr>\n",
       "    <tr>\n",
       "      <th>6</th>\n",
       "      <td>{'endpointInput': {'observedContentType': 'app...</td>\n",
       "      <td>{'eventId': '1bf6f489-b095-4fc8-908c-8611f2169...</td>\n",
       "      <td>0</td>\n",
       "    </tr>\n",
       "    <tr>\n",
       "      <th>7</th>\n",
       "      <td>{'endpointInput': {'observedContentType': 'app...</td>\n",
       "      <td>{'eventId': 'dec20228-5e93-4c6e-ac35-d16b986e2...</td>\n",
       "      <td>0</td>\n",
       "    </tr>\n",
       "    <tr>\n",
       "      <th>8</th>\n",
       "      <td>{'endpointInput': {'observedContentType': 'app...</td>\n",
       "      <td>{'eventId': '8bff3834-ce78-43c5-85c3-b342a22b0...</td>\n",
       "      <td>0</td>\n",
       "    </tr>\n",
       "    <tr>\n",
       "      <th>9</th>\n",
       "      <td>{'endpointInput': {'observedContentType': 'app...</td>\n",
       "      <td>{'eventId': '504abaf7-04ff-4560-8f6b-d566c3d85...</td>\n",
       "      <td>0</td>\n",
       "    </tr>\n",
       "    <tr>\n",
       "      <th>10</th>\n",
       "      <td>{'endpointInput': {'observedContentType': 'app...</td>\n",
       "      <td>{'eventId': '081ee5c5-3674-4e67-aedb-3cafe4087...</td>\n",
       "      <td>0</td>\n",
       "    </tr>\n",
       "    <tr>\n",
       "      <th>11</th>\n",
       "      <td>{'endpointInput': {'observedContentType': 'app...</td>\n",
       "      <td>{'eventId': 'c327109f-91c0-47de-9a78-c4a2390c1...</td>\n",
       "      <td>0</td>\n",
       "    </tr>\n",
       "    <tr>\n",
       "      <th>12</th>\n",
       "      <td>{'endpointInput': {'observedContentType': 'app...</td>\n",
       "      <td>{'eventId': '0c06571d-2088-4d04-b924-e030f87ef...</td>\n",
       "      <td>0</td>\n",
       "    </tr>\n",
       "    <tr>\n",
       "      <th>13</th>\n",
       "      <td>{'endpointInput': {'observedContentType': 'app...</td>\n",
       "      <td>{'eventId': '7d2102a2-d436-4142-a448-f393e1e41...</td>\n",
       "      <td>0</td>\n",
       "    </tr>\n",
       "    <tr>\n",
       "      <th>14</th>\n",
       "      <td>{'endpointInput': {'observedContentType': 'app...</td>\n",
       "      <td>{'eventId': 'bae8cec9-e8ec-4b68-a3a8-efddf1b23...</td>\n",
       "      <td>0</td>\n",
       "    </tr>\n",
       "    <tr>\n",
       "      <th>15</th>\n",
       "      <td>{'endpointInput': {'observedContentType': 'app...</td>\n",
       "      <td>{'eventId': '6164f3d4-8057-4df1-84cc-d48667e13...</td>\n",
       "      <td>0</td>\n",
       "    </tr>\n",
       "    <tr>\n",
       "      <th>16</th>\n",
       "      <td>{'endpointInput': {'observedContentType': 'app...</td>\n",
       "      <td>{'eventId': '6cc30f94-5dff-45ac-8efc-e72122ebc...</td>\n",
       "      <td>0</td>\n",
       "    </tr>\n",
       "    <tr>\n",
       "      <th>17</th>\n",
       "      <td>{'endpointInput': {'observedContentType': 'app...</td>\n",
       "      <td>{'eventId': '4f6bc9d4-2231-470f-b00a-90e2117b5...</td>\n",
       "      <td>0</td>\n",
       "    </tr>\n",
       "    <tr>\n",
       "      <th>18</th>\n",
       "      <td>{'endpointInput': {'observedContentType': 'app...</td>\n",
       "      <td>{'eventId': '1f0bef04-5434-4cb5-9f25-037377e4e...</td>\n",
       "      <td>0</td>\n",
       "    </tr>\n",
       "    <tr>\n",
       "      <th>19</th>\n",
       "      <td>{'endpointInput': {'observedContentType': 'app...</td>\n",
       "      <td>{'eventId': 'd6a342dc-116f-48f2-b26b-e84e84c30...</td>\n",
       "      <td>0</td>\n",
       "    </tr>\n",
       "    <tr>\n",
       "      <th>20</th>\n",
       "      <td>{'endpointInput': {'observedContentType': 'app...</td>\n",
       "      <td>{'eventId': 'bf9b73aa-e3f0-4b09-b29d-2c686fa33...</td>\n",
       "      <td>0</td>\n",
       "    </tr>\n",
       "    <tr>\n",
       "      <th>21</th>\n",
       "      <td>{'endpointInput': {'observedContentType': 'app...</td>\n",
       "      <td>{'eventId': '7fae302f-dd5b-4ee2-a993-a8b2d9bac...</td>\n",
       "      <td>0</td>\n",
       "    </tr>\n",
       "    <tr>\n",
       "      <th>22</th>\n",
       "      <td>{'endpointInput': {'observedContentType': 'app...</td>\n",
       "      <td>{'eventId': '201404af-7bb7-4d27-9c9b-811142f70...</td>\n",
       "      <td>0</td>\n",
       "    </tr>\n",
       "    <tr>\n",
       "      <th>23</th>\n",
       "      <td>{'endpointInput': {'observedContentType': 'app...</td>\n",
       "      <td>{'eventId': 'e2d99755-8c06-4034-9ebe-51e6fcfb2...</td>\n",
       "      <td>0</td>\n",
       "    </tr>\n",
       "    <tr>\n",
       "      <th>24</th>\n",
       "      <td>{'endpointInput': {'observedContentType': 'app...</td>\n",
       "      <td>{'eventId': '81d2be99-9f80-4d41-94eb-f6c7bfcf3...</td>\n",
       "      <td>0</td>\n",
       "    </tr>\n",
       "    <tr>\n",
       "      <th>25</th>\n",
       "      <td>{'endpointInput': {'observedContentType': 'app...</td>\n",
       "      <td>{'eventId': '064cbbc2-6459-4968-aeab-2bf9da1fa...</td>\n",
       "      <td>0</td>\n",
       "    </tr>\n",
       "    <tr>\n",
       "      <th>26</th>\n",
       "      <td>{'endpointInput': {'observedContentType': 'app...</td>\n",
       "      <td>{'eventId': 'd842624a-3691-42d7-9dfa-a2fa5361c...</td>\n",
       "      <td>0</td>\n",
       "    </tr>\n",
       "    <tr>\n",
       "      <th>27</th>\n",
       "      <td>{'endpointInput': {'observedContentType': 'ima...</td>\n",
       "      <td>{'eventId': '122f666e-52cf-413b-bbda-479f93f94...</td>\n",
       "      <td>0</td>\n",
       "    </tr>\n",
       "    <tr>\n",
       "      <th>28</th>\n",
       "      <td>{'endpointInput': {'observedContentType': 'app...</td>\n",
       "      <td>{'eventId': '651720fa-9295-49ba-9b61-a76eb66b6...</td>\n",
       "      <td>0</td>\n",
       "    </tr>\n",
       "  </tbody>\n",
       "</table>\n",
       "</div>"
      ],
      "text/plain": [
       "                                          captureData  \\\n",
       "0   {'endpointInput': {'observedContentType': 'app...   \n",
       "1   {'endpointInput': {'observedContentType': 'app...   \n",
       "2   {'endpointInput': {'observedContentType': 'app...   \n",
       "3   {'endpointInput': {'observedContentType': 'app...   \n",
       "4   {'endpointInput': {'observedContentType': 'app...   \n",
       "5   {'endpointInput': {'observedContentType': 'app...   \n",
       "6   {'endpointInput': {'observedContentType': 'app...   \n",
       "7   {'endpointInput': {'observedContentType': 'app...   \n",
       "8   {'endpointInput': {'observedContentType': 'app...   \n",
       "9   {'endpointInput': {'observedContentType': 'app...   \n",
       "10  {'endpointInput': {'observedContentType': 'app...   \n",
       "11  {'endpointInput': {'observedContentType': 'app...   \n",
       "12  {'endpointInput': {'observedContentType': 'app...   \n",
       "13  {'endpointInput': {'observedContentType': 'app...   \n",
       "14  {'endpointInput': {'observedContentType': 'app...   \n",
       "15  {'endpointInput': {'observedContentType': 'app...   \n",
       "16  {'endpointInput': {'observedContentType': 'app...   \n",
       "17  {'endpointInput': {'observedContentType': 'app...   \n",
       "18  {'endpointInput': {'observedContentType': 'app...   \n",
       "19  {'endpointInput': {'observedContentType': 'app...   \n",
       "20  {'endpointInput': {'observedContentType': 'app...   \n",
       "21  {'endpointInput': {'observedContentType': 'app...   \n",
       "22  {'endpointInput': {'observedContentType': 'app...   \n",
       "23  {'endpointInput': {'observedContentType': 'app...   \n",
       "24  {'endpointInput': {'observedContentType': 'app...   \n",
       "25  {'endpointInput': {'observedContentType': 'app...   \n",
       "26  {'endpointInput': {'observedContentType': 'app...   \n",
       "27  {'endpointInput': {'observedContentType': 'ima...   \n",
       "28  {'endpointInput': {'observedContentType': 'app...   \n",
       "\n",
       "                                        eventMetadata eventVersion  \n",
       "0   {'eventId': '9c09d09b-7a21-4ce1-852f-890aac06a...            0  \n",
       "1   {'eventId': 'e8f2413b-9b71-44b3-81bb-3c63b55f1...            0  \n",
       "2   {'eventId': '869ff225-ec01-4ee4-9515-7a9f3b795...            0  \n",
       "3   {'eventId': '9bf2507d-7353-4887-a883-4c9d7fe75...            0  \n",
       "4   {'eventId': 'a601da8a-21ad-46d6-acf8-48ac65694...            0  \n",
       "5   {'eventId': 'a677eec3-9a6b-414d-a483-cf07b9530...            0  \n",
       "6   {'eventId': '1bf6f489-b095-4fc8-908c-8611f2169...            0  \n",
       "7   {'eventId': 'dec20228-5e93-4c6e-ac35-d16b986e2...            0  \n",
       "8   {'eventId': '8bff3834-ce78-43c5-85c3-b342a22b0...            0  \n",
       "9   {'eventId': '504abaf7-04ff-4560-8f6b-d566c3d85...            0  \n",
       "10  {'eventId': '081ee5c5-3674-4e67-aedb-3cafe4087...            0  \n",
       "11  {'eventId': 'c327109f-91c0-47de-9a78-c4a2390c1...            0  \n",
       "12  {'eventId': '0c06571d-2088-4d04-b924-e030f87ef...            0  \n",
       "13  {'eventId': '7d2102a2-d436-4142-a448-f393e1e41...            0  \n",
       "14  {'eventId': 'bae8cec9-e8ec-4b68-a3a8-efddf1b23...            0  \n",
       "15  {'eventId': '6164f3d4-8057-4df1-84cc-d48667e13...            0  \n",
       "16  {'eventId': '6cc30f94-5dff-45ac-8efc-e72122ebc...            0  \n",
       "17  {'eventId': '4f6bc9d4-2231-470f-b00a-90e2117b5...            0  \n",
       "18  {'eventId': '1f0bef04-5434-4cb5-9f25-037377e4e...            0  \n",
       "19  {'eventId': 'd6a342dc-116f-48f2-b26b-e84e84c30...            0  \n",
       "20  {'eventId': 'bf9b73aa-e3f0-4b09-b29d-2c686fa33...            0  \n",
       "21  {'eventId': '7fae302f-dd5b-4ee2-a993-a8b2d9bac...            0  \n",
       "22  {'eventId': '201404af-7bb7-4d27-9c9b-811142f70...            0  \n",
       "23  {'eventId': 'e2d99755-8c06-4034-9ebe-51e6fcfb2...            0  \n",
       "24  {'eventId': '81d2be99-9f80-4d41-94eb-f6c7bfcf3...            0  \n",
       "25  {'eventId': '064cbbc2-6459-4968-aeab-2bf9da1fa...            0  \n",
       "26  {'eventId': 'd842624a-3691-42d7-9dfa-a2fa5361c...            0  \n",
       "27  {'eventId': '122f666e-52cf-413b-bbda-479f93f94...            0  \n",
       "28  {'eventId': '651720fa-9295-49ba-9b61-a76eb66b6...            0  "
      ]
     },
     "execution_count": 99,
     "metadata": {},
     "output_type": "execute_result"
    }
   ],
   "source": [
    "pd.DataFrame(json_data)"
   ]
  },
  {
   "cell_type": "markdown",
   "metadata": {},
   "source": [
    "The data should now be a list of dictionaries, with significant nesting. We'll give you an example of some code that grabs data out of the objects and visualizes it:"
   ]
  },
  {
   "cell_type": "code",
   "execution_count": 83,
   "metadata": {},
   "outputs": [
    {
     "data": {
      "text/plain": [
       "[{'captureData': {'endpointInput': {'observedContentType': 'application/x-image',\n",
       "    'mode': 'INPUT',\n",
       "    'data': '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',\n",
       "    'encoding': 'BASE64'},\n",
       "   'endpointOutput': {'observedContentType': 'application/json',\n",
       "    'mode': 'OUTPUT',\n",
       "    'data': '[0.0007581445970572531, 0.999241828918457]',\n",
       "    'encoding': 'JSON'}},\n",
       "  'eventMetadata': {'eventId': '9c09d09b-7a21-4ce1-852f-890aac06a4ec',\n",
       "   'inferenceTime': '2022-07-09T10:22:39Z'},\n",
       "  'eventVersion': '0'},\n",
       " {'captureData': {'endpointInput': {'observedContentType': 'application/x-image',\n",
       "    'mode': 'INPUT',\n",
       "    'data': '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',\n",
       "    'encoding': 'BASE64'},\n",
       "   'endpointOutput': {'observedContentType': 'application/json',\n",
       "    'mode': 'OUTPUT',\n",
       "    'data': '[0.9997854828834534, 0.00021451147040352225]',\n",
       "    'encoding': 'JSON'}},\n",
       "  'eventMetadata': {'eventId': 'e8f2413b-9b71-44b3-81bb-3c63b55f13e4',\n",
       "   'inferenceTime': '2022-07-09T10:29:27Z'},\n",
       "  'eventVersion': '0'},\n",
       " {'captureData': {'endpointInput': {'observedContentType': 'application/x-image',\n",
       "    'mode': 'INPUT',\n",
       "    'data': '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',\n",
       "    'encoding': 'BASE64'},\n",
       "   'endpointOutput': {'observedContentType': 'application/json',\n",
       "    'mode': 'OUTPUT',\n",
       "    'data': '[0.0001255701936315745, 0.999874472618103]',\n",
       "    'encoding': 'JSON'}},\n",
       "  'eventMetadata': {'eventId': '869ff225-ec01-4ee4-9515-7a9f3b7958d3',\n",
       "   'inferenceTime': '2022-07-09T10:26:04Z'},\n",
       "  'eventVersion': '0'},\n",
       " {'captureData': {'endpointInput': {'observedContentType': 'application/x-image',\n",
       "    'mode': 'INPUT',\n",
       "    'data': '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',\n",
       "    'encoding': 'BASE64'},\n",
       "   'endpointOutput': {'observedContentType': 'application/json',\n",
       "    'mode': 'OUTPUT',\n",
       "    'data': '[0.5459924340248108, 0.4540075957775116]',\n",
       "    'encoding': 'JSON'}},\n",
       "  'eventMetadata': {'eventId': '9bf2507d-7353-4887-a883-4c9d7fe75e71',\n",
       "   'inferenceTime': '2022-07-09T10:35:50Z'},\n",
       "  'eventVersion': '0'},\n",
       " {'captureData': {'endpointInput': {'observedContentType': 'application/x-image',\n",
       "    'mode': 'INPUT',\n",
       "    'data': 'iVBORw0KGgoAAAANSUhEUgAAACAAAAAgCAYAAABzenr0AAAABHNCSVQICAgIfAhkiAAAAAlwSFlzAAAPYQAAD2EBqD+naQAACGNJREFUWIXtl9lvnFcZxn/nfNuMx+uM7dhOUztOXMfZaNPE2Shp2tA1vUNAlUqIRSoICYTgj0DccEOSVmlpC6FI5aZ0byNKutAmbRI3XmKnniy244ntmfHYHo8933YOF5+dDUERN7nhvRgd6Rud93mX57zPK5RSWgjB7TCtNUJrrW+L9yWTt9P5/wHcdgBaa8z/9DEMFdIwEMD/TBQd/WgRHYUGEMuHWwBo0Gh836e3t5dXX32Nr3Xfy/5vPozjOEgpbrgUEOoWZ/LmywSgINQeufwsxSsZFuZL5EMwDE1DY+pmABpNqVTitTfe4KUXX+DCpTRDFwfZs30bTkPjkgONBsIQPN/D9Vx8zycWi1GZSCCEQCAi5zqK/OzgIEeO/JHtUwF1fpkXRy8wMFPgsUe/cR2ABorFIs+/8HuOvvwy8/NFutZvYP8jjzEzlUcIg9raOmaLBc72D3HqVB/pdJp8Ps/i4iI1NVX89Cc/Ysf2bgzDRGtNECjy09P89a33+HIkS9OcpsGxaLZjxLrv4cBTB64/RJ7n8eyRIxw8fJDF8iK7du5iz/17+fiDj5GuYtXadsy4Q2byCrncDKOjWSSS9tZ2kql6TvWcomVFJb/9za+xHItMZoLBoYtcHBmjp7+f4eFxqt15muocdj/0AN9/+oek6puiDGitGTg3yAtH/0yxVEag2bixi3u2bOBqNstHH5yAyRxl32M8Mwa+h60CNt67k7rGVVydzDPvCdIXM/zh0PMI08QvhhRK81zO5RibGCGVkKzqXEV1TRW7H9xDfX0jQsrrAPoHBvCDgHiimsAPePPtDxjJzDAxNY3nacYuj5CoSdC5bh1hEJIeSnPy5Gm07CWQmsDwqY5V8Wn/IEEQ4i66+OUC2rRoX9XIfbu20bZmNRs3bqKtbQ0I82YWNCRrWbMyxeh4jiBeR7JpHbGG9VxNfwKigpaWFK1tLXSsX0cqlWKuMMNnPT0MZqcIYg6X0xcpaRvPFqyKSzw/z9pNa2hrW0085tDQvAKtDfxAY5oWUkZ0NNEghGDHrp2UvDLPHX2N5vYtdKy7mwvnz3JH8wq2br6P1pWN1NY3ggmVFTGq4w7NjQ+wWwvOjl7BNhzGhtO0rGikNDLK1HSJkavnOP5RL2EYUJ9K8sRD+1i7thMhdMRP5PUMJKqq2LJ1OzvSkwwNjzHccxzHUnxr/4PEK6sozM4xlplk4uo4d2/eRHVVJZYV0By4lExJcuM6UvvuZ3z4PO8ODeB7PqaTwC+FhL6HtzBLqr6G1tYWhJQsP8ISNEprsvlZ3nz7Xd56/S+c+vh1slfOsmVzF7OFLJcufMmV0cuUS3M01SexDYHUIaZUKHee82dOcOn0p6x2NF3NKRwjZLE0jVuapDKmaaqvRgUuzxx+lkOHDlNeXLj29gilAn1lIsvzR1/h89Onmc1P4tgmzc1N1FXVUV2TpDqZ4s7WNpK1NdiWiQ4DSvNF8tkJes+c5NTnnyEdh917H8CQNgM9/ZiArzVTU1mUCklUxshOZEH4PPPMQbq7dyKExAyV4r1jxzj2zju0tzbxsx/8nHxumvGJKdLD5xmeyPDkge9RU1uLVy6Tn86Sy07R39fL0LlzZDKjVFZX8vgjD9LRvpbewS8JDYETc8hNZgkEFIrTmBVJ6hvqGRlN09ffR3f3jogFruvR98UZhFdk19b9jGfSZEbPUduwksbGGk6eOMErf3qJrvVdmGaM4lwRP/AZGDjHxFQGK1HFprvvoTFVR0N9LZahEAiqkk3YVTXUJ5sZGbnA/Nwk7lwR2zaQYrkHBKY0JI5jYZqCkdExEtUedckCxYLk8sVZaqpruHp1lMJMDs81cF0PrTUViTgtLXfiui65yWkOHX6OxqYGOjrWIkKfKxfSeMqjs62dhs0b+PyzGebcLI5j09XVRaRDNaZtm2zbtpUTJ/5Bfm4aM54iCFZSnDMIgznK5QUOPPVdfF+TyeQJwxClFCDww4DKuINjW2zv3kZHZwd3dazm4O8O8+GHn9K5YQPjYyPkpiYZuXSZudkZHnl0H5s2b4oaUAhMgWDv3r309fVx/MNPKMwuUJtIUFyYZ2z0Mtu2beU7336S6uo6lI50gdYajUBKidQhhiGRhoVAggj55a9+gdIwv+Bx/O/v47lllArZsL6THz/9NIlEZTQANQillNZoZgoF3vvbuxw79j7TuVkcJ8buXTt4Yv/jNDU3YZrmDeLkVnWiieZvdFZKc6anh4mJCdLDaYSAuzrvIpVKUiqV+Pru3ZimFY1updSyZkGpgJmZOfK5aUzTIl5hIYVgKV4sy6GyshLDMK7zWIhrgG4ENjh0npIXkkyl0FoRhgrXdek7+wUP79tLsrYGIeTNe4FWitmZWYrFIrbjYNlGVG8hCIKA8qKLbduYZjTvb1wplp1bVhRZoBRjmSmmCwU818O0LKSQ2KbB6tY7qIg7JBKJWxYTDUqFeK5H2S2zsOASKoVhGJimCSgsK8qKWJJnSil838f3fQLfByGwbQvbsglViFsuX8uSYViEShMEAWEYIuStmlAQ1dmQhEqhlAYtMKQJWqC1RIUCpFzqhQiQbduRiFWK8uLi0uUSQwiUhjAIEEKg3OBatnQ0Bf+9KnZdD89zUVojBMTiMTzXw/XKGNJAGgLDkPi+j1oCGyJRKtKL7vwilrx56xNCRPugEFTEK6iqurUEN1gYhiwulimVSvi+H3HWNInFYktNqAnDEN/38Twvoqg00UTyzpCSqkQcIcD3fcIwAqmWSmpbFjHL+urlVCl1zZEQYkmey2sNuNyMSimUVmilAY1hGBiGeS3q6B7FwsICpdICQmusZRr+N+v5cuq+2m6M51//H6nlABUqCBX/BF2aSnKZnyc8AAAAAElFTkSuQmCC',\n",
       "    'encoding': 'BASE64'},\n",
       "   'endpointOutput': {'observedContentType': 'application/json',\n",
       "    'mode': 'OUTPUT',\n",
       "    'data': '[0.2875458896160126, 0.712454080581665]',\n",
       "    'encoding': 'JSON'}},\n",
       "  'eventMetadata': {'eventId': 'a601da8a-21ad-46d6-acf8-48ac656942e0',\n",
       "   'inferenceTime': '2022-07-09T10:18:52Z'},\n",
       "  'eventVersion': '0'},\n",
       " {'captureData': {'endpointInput': {'observedContentType': 'application/x-image',\n",
       "    'mode': 'INPUT',\n",
       "    'data': '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',\n",
       "    'encoding': 'BASE64'},\n",
       "   'endpointOutput': {'observedContentType': 'application/json',\n",
       "    'mode': 'OUTPUT',\n",
       "    'data': '[0.5981603860855103, 0.40183961391448975]',\n",
       "    'encoding': 'JSON'}},\n",
       "  'eventMetadata': {'eventId': 'a677eec3-9a6b-414d-a483-cf07b953093e',\n",
       "   'inferenceTime': '2022-07-09T10:06:25Z'},\n",
       "  'eventVersion': '0'},\n",
       " {'captureData': {'endpointInput': {'observedContentType': 'application/x-image',\n",
       "    'mode': 'INPUT',\n",
       "    'data': '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',\n",
       "    'encoding': 'BASE64'},\n",
       "   'endpointOutput': {'observedContentType': 'application/json',\n",
       "    'mode': 'OUTPUT',\n",
       "    'data': '[0.9997720122337341, 0.00022799416910856962]',\n",
       "    'encoding': 'JSON'}},\n",
       "  'eventMetadata': {'eventId': '1bf6f489-b095-4fc8-908c-8611f2169a11',\n",
       "   'inferenceTime': '2022-07-09T10:10:32Z'},\n",
       "  'eventVersion': '0'},\n",
       " {'captureData': {'endpointInput': {'observedContentType': 'application/x-image',\n",
       "    'mode': 'INPUT',\n",
       "    'data': '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',\n",
       "    'encoding': 'BASE64'},\n",
       "   'endpointOutput': {'observedContentType': 'application/json',\n",
       "    'mode': 'OUTPUT',\n",
       "    'data': '[0.004303141962736845, 0.9956969022750854]',\n",
       "    'encoding': 'JSON'}},\n",
       "  'eventMetadata': {'eventId': 'dec20228-5e93-4c6e-ac35-d16b986e2b69',\n",
       "   'inferenceTime': '2022-07-09T10:00:08Z'},\n",
       "  'eventVersion': '0'},\n",
       " {'captureData': {'endpointInput': {'observedContentType': 'application/x-image',\n",
       "    'mode': 'INPUT',\n",
       "    'data': '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',\n",
       "    'encoding': 'BASE64'},\n",
       "   'endpointOutput': {'observedContentType': 'application/json',\n",
       "    'mode': 'OUTPUT',\n",
       "    'data': '[0.9912222623825073, 0.008777782320976257]',\n",
       "    'encoding': 'JSON'}},\n",
       "  'eventMetadata': {'eventId': '8bff3834-ce78-43c5-85c3-b342a22b099b',\n",
       "   'inferenceTime': '2022-07-09T10:20:13Z'},\n",
       "  'eventVersion': '0'},\n",
       " {'captureData': {'endpointInput': {'observedContentType': 'application/x-image',\n",
       "    'mode': 'INPUT',\n",
       "    'data': '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',\n",
       "    'encoding': 'BASE64'},\n",
       "   'endpointOutput': {'observedContentType': 'application/json',\n",
       "    'mode': 'OUTPUT',\n",
       "    'data': '[0.988100528717041, 0.011899447068572044]',\n",
       "    'encoding': 'JSON'}},\n",
       "  'eventMetadata': {'eventId': '504abaf7-04ff-4560-8f6b-d566c3d857f2',\n",
       "   'inferenceTime': '2022-07-09T10:13:53Z'},\n",
       "  'eventVersion': '0'},\n",
       " {'captureData': {'endpointInput': {'observedContentType': 'application/x-image',\n",
       "    'mode': 'INPUT',\n",
       "    'data': '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',\n",
       "    'encoding': 'BASE64'},\n",
       "   'endpointOutput': {'observedContentType': 'application/json',\n",
       "    'mode': 'OUTPUT',\n",
       "    'data': '[1.355146966863785e-10, 1.0]',\n",
       "    'encoding': 'JSON'}},\n",
       "  'eventMetadata': {'eventId': '081ee5c5-3674-4e67-aedb-3cafe4087ecb',\n",
       "   'inferenceTime': '2022-07-09T10:21:25Z'},\n",
       "  'eventVersion': '0'},\n",
       " {'captureData': {'endpointInput': {'observedContentType': 'application/x-image',\n",
       "    'mode': 'INPUT',\n",
       "    'data': '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',\n",
       "    'encoding': 'BASE64'},\n",
       "   'endpointOutput': {'observedContentType': 'application/json',\n",
       "    'mode': 'OUTPUT',\n",
       "    'data': '[0.14094586670398712, 0.8590541481971741]',\n",
       "    'encoding': 'JSON'}},\n",
       "  'eventMetadata': {'eventId': 'c327109f-91c0-47de-9a78-c4a2390c163a',\n",
       "   'inferenceTime': '2022-07-09T10:32:28Z'},\n",
       "  'eventVersion': '0'},\n",
       " {'captureData': {'endpointInput': {'observedContentType': 'application/x-image',\n",
       "    'mode': 'INPUT',\n",
       "    'data': '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',\n",
       "    'encoding': 'BASE64'},\n",
       "   'endpointOutput': {'observedContentType': 'application/json',\n",
       "    'mode': 'OUTPUT',\n",
       "    'data': '[0.06553613394498825, 0.9344638586044312]',\n",
       "    'encoding': 'JSON'}},\n",
       "  'eventMetadata': {'eventId': '0c06571d-2088-4d04-b924-e030f87efa8d',\n",
       "   'inferenceTime': '2022-07-09T10:24:48Z'},\n",
       "  'eventVersion': '0'},\n",
       " {'captureData': {'endpointInput': {'observedContentType': 'application/x-image',\n",
       "    'mode': 'INPUT',\n",
       "    'data': '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',\n",
       "    'encoding': 'BASE64'},\n",
       "   'endpointOutput': {'observedContentType': 'application/json',\n",
       "    'mode': 'OUTPUT',\n",
       "    'data': '[0.8295637369155884, 0.170436292886734]',\n",
       "    'encoding': 'JSON'}},\n",
       "  'eventMetadata': {'eventId': '7d2102a2-d436-4142-a448-f393e1e41672',\n",
       "   'inferenceTime': '2022-07-09T10:31:25Z'},\n",
       "  'eventVersion': '0'},\n",
       " {'captureData': {'endpointInput': {'observedContentType': 'application/x-image',\n",
       "    'mode': 'INPUT',\n",
       "    'data': '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',\n",
       "    'encoding': 'BASE64'},\n",
       "   'endpointOutput': {'observedContentType': 'application/json',\n",
       "    'mode': 'OUTPUT',\n",
       "    'data': '[0.985526442527771, 0.014473602175712585]',\n",
       "    'encoding': 'JSON'}},\n",
       "  'eventMetadata': {'eventId': 'bae8cec9-e8ec-4b68-a3a8-efddf1b235d4',\n",
       "   'inferenceTime': '2022-07-09T10:23:46Z'},\n",
       "  'eventVersion': '0'},\n",
       " {'captureData': {'endpointInput': {'observedContentType': 'application/x-image',\n",
       "    'mode': 'INPUT',\n",
       "    'data': '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',\n",
       "    'encoding': 'BASE64'},\n",
       "   'endpointOutput': {'observedContentType': 'application/json',\n",
       "    'mode': 'OUTPUT',\n",
       "    'data': '[0.907495379447937, 0.09250455349683762]',\n",
       "    'encoding': 'JSON'}},\n",
       "  'eventMetadata': {'eventId': '6164f3d4-8057-4df1-84cc-d48667e135b1',\n",
       "   'inferenceTime': '2022-07-09T10:39:19Z'},\n",
       "  'eventVersion': '0'},\n",
       " {'captureData': {'endpointInput': {'observedContentType': 'application/x-image',\n",
       "    'mode': 'INPUT',\n",
       "    'data': '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',\n",
       "    'encoding': 'BASE64'},\n",
       "   'endpointOutput': {'observedContentType': 'application/json',\n",
       "    'mode': 'OUTPUT',\n",
       "    'data': '[0.9127775430679321, 0.08722247928380966]',\n",
       "    'encoding': 'JSON'}},\n",
       "  'eventMetadata': {'eventId': '6cc30f94-5dff-45ac-8efc-e72122ebc6f5',\n",
       "   'inferenceTime': '2022-07-09T10:12:03Z'},\n",
       "  'eventVersion': '0'},\n",
       " {'captureData': {'endpointInput': {'observedContentType': 'application/x-image',\n",
       "    'mode': 'INPUT',\n",
       "    'data': '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',\n",
       "    'encoding': 'BASE64'},\n",
       "   'endpointOutput': {'observedContentType': 'application/json',\n",
       "    'mode': 'OUTPUT',\n",
       "    'data': '[0.9977800250053406, 0.0022200404200702906]',\n",
       "    'encoding': 'JSON'}},\n",
       "  'eventMetadata': {'eventId': '4f6bc9d4-2231-470f-b00a-90e2117b546b',\n",
       "   'inferenceTime': '2022-07-09T10:16:51Z'},\n",
       "  'eventVersion': '0'},\n",
       " {'captureData': {'endpointInput': {'observedContentType': 'application/x-image',\n",
       "    'mode': 'INPUT',\n",
       "    'data': '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',\n",
       "    'encoding': 'BASE64'},\n",
       "   'endpointOutput': {'observedContentType': 'application/json',\n",
       "    'mode': 'OUTPUT',\n",
       "    'data': '[0.9933260679244995, 0.006673863623291254]',\n",
       "    'encoding': 'JSON'}},\n",
       "  'eventMetadata': {'eventId': '1f0bef04-5434-4cb5-9f25-037377e4e82f',\n",
       "   'inferenceTime': '2022-07-09T10:14:59Z'},\n",
       "  'eventVersion': '0'},\n",
       " {'captureData': {'endpointInput': {'observedContentType': 'application/x-image',\n",
       "    'mode': 'INPUT',\n",
       "    'data': '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',\n",
       "    'encoding': 'BASE64'},\n",
       "   'endpointOutput': {'observedContentType': 'application/json',\n",
       "    'mode': 'OUTPUT',\n",
       "    'data': '[0.1954326033592224, 0.8045673966407776]',\n",
       "    'encoding': 'JSON'}},\n",
       "  'eventMetadata': {'eventId': 'd6a342dc-116f-48f2-b26b-e84e84c30020',\n",
       "   'inferenceTime': '2022-07-09T10:33:31Z'},\n",
       "  'eventVersion': '0'},\n",
       " {'captureData': {'endpointInput': {'observedContentType': 'application/x-image',\n",
       "    'mode': 'INPUT',\n",
       "    'data': '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',\n",
       "    'encoding': 'BASE64'},\n",
       "   'endpointOutput': {'observedContentType': 'application/json',\n",
       "    'mode': 'OUTPUT',\n",
       "    'data': '[0.005853777751326561, 0.9941462278366089]',\n",
       "    'encoding': 'JSON'}},\n",
       "  'eventMetadata': {'eventId': 'bf9b73aa-e3f0-4b09-b29d-2c686fa33ab6',\n",
       "   'inferenceTime': '2022-07-09T10:27:04Z'},\n",
       "  'eventVersion': '0'},\n",
       " {'captureData': {'endpointInput': {'observedContentType': 'application/x-image',\n",
       "    'mode': 'INPUT',\n",
       "    'data': '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',\n",
       "    'encoding': 'BASE64'},\n",
       "   'endpointOutput': {'observedContentType': 'application/json',\n",
       "    'mode': 'OUTPUT',\n",
       "    'data': '[0.5981603860855103, 0.40183961391448975]',\n",
       "    'encoding': 'JSON'}},\n",
       "  'eventMetadata': {'eventId': '7fae302f-dd5b-4ee2-a993-a8b2d9bacbbe',\n",
       "   'inferenceTime': '2022-07-09T10:01:36Z'},\n",
       "  'eventVersion': '0'},\n",
       " {'captureData': {'endpointInput': {'observedContentType': 'application/x-image',\n",
       "    'mode': 'INPUT',\n",
       "    'data': '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',\n",
       "    'encoding': 'BASE64'},\n",
       "   'endpointOutput': {'observedContentType': 'application/json',\n",
       "    'mode': 'OUTPUT',\n",
       "    'data': '[0.14094586670398712, 0.8590541481971741]',\n",
       "    'encoding': 'JSON'}},\n",
       "  'eventMetadata': {'eventId': '201404af-7bb7-4d27-9c9b-811142f700eb',\n",
       "   'inferenceTime': '2022-07-09T10:34:42Z'},\n",
       "  'eventVersion': '0'},\n",
       " {'captureData': {'endpointInput': {'observedContentType': 'application/x-image',\n",
       "    'mode': 'INPUT',\n",
       "    'data': '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',\n",
       "    'encoding': 'BASE64'},\n",
       "   'endpointOutput': {'observedContentType': 'application/json',\n",
       "    'mode': 'OUTPUT',\n",
       "    'data': '[0.9535809755325317, 0.04641907662153244]',\n",
       "    'encoding': 'JSON'}},\n",
       "  'eventMetadata': {'eventId': 'e2d99755-8c06-4034-9ebe-51e6fcfb2004',\n",
       "   'inferenceTime': '2022-07-09T10:28:14Z'},\n",
       "  'eventVersion': '0'},\n",
       " {'captureData': {'endpointInput': {'observedContentType': 'application/x-image',\n",
       "    'mode': 'INPUT',\n",
       "    'data': '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',\n",
       "    'encoding': 'BASE64'},\n",
       "   'endpointOutput': {'observedContentType': 'application/json',\n",
       "    'mode': 'OUTPUT',\n",
       "    'data': '[0.5879908800125122, 0.4120090901851654]',\n",
       "    'encoding': 'JSON'}},\n",
       "  'eventMetadata': {'eventId': '81d2be99-9f80-4d41-94eb-f6c7bfcf366b',\n",
       "   'inferenceTime': '2022-07-09T10:38:06Z'},\n",
       "  'eventVersion': '0'},\n",
       " {'captureData': {'endpointInput': {'observedContentType': 'application/x-image',\n",
       "    'mode': 'INPUT',\n",
       "    'data': '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',\n",
       "    'encoding': 'BASE64'},\n",
       "   'endpointOutput': {'observedContentType': 'application/json',\n",
       "    'mode': 'OUTPUT',\n",
       "    'data': '[3.694479164551012e-05, 0.9999630451202393]',\n",
       "    'encoding': 'JSON'}},\n",
       "  'eventMetadata': {'eventId': '064cbbc2-6459-4968-aeab-2bf9da1fa2f8',\n",
       "   'inferenceTime': '2022-07-09T10:37:00Z'},\n",
       "  'eventVersion': '0'},\n",
       " {'captureData': {'endpointInput': {'observedContentType': 'application/x-image',\n",
       "    'mode': 'INPUT',\n",
       "    'data': 'iVBORw0KGgoAAAANSUhEUgAAACAAAAAgCAYAAABzenr0AAAABHNCSVQICAgIfAhkiAAAAAlwSFlzAAAPYQAAD2EBqD+naQAACqlJREFUWIVNltlzHNd1xn936Z7u2QeYwQ5wEUFKhKVop5ZITlUqD3nIv2pXErvsVCXllMuJEosUxUUUSXGBCIDAABjMPtPdd8vDME4e7334bp9zfv2dT/z2n38fauUKnbqmWmvyp+9+RPmMp48fsrK2Qr1W5c+377B74yaJUty5+998dOsLzo+OuHP7Np9//TcIofj1r3/Ftd1dmktNhhd9fvNP/8Knn33EUrtB8Ip//9f/JE4UjWad0WhCe3mZB/cfoufzKb3XR1zEhq3LuwgBSRIjlWc2G1CtJNRqKVI6iqJgOpninGGaZZz3B1hXEEcxxjqszTFmRppGlEoRzjsQoJRACHDO4ZxBEFBaAaAPDo/5za/+kQoDNi9f4f1bt2jtXCYtRQifE6wlG88QvsA5wWxiEMYQK02p1EAiqZQSmtUGs+mceq2ERKKERMtASUsIAiEF4IlEQAtPMDkKj+yfnXDY7fLk6JxKNUWYjBA8zkEcpxACeV6QzecIqUjTMtYWSOVRSmCKHGMLCGCMxVqLkAqBJAAhBBACIQTBFHiTI6UkEECANtkYpTwrG5f4/IvPKZwGJEpGJEmFuKRpNJqEEKjVakRxhLWWLJthbEZezDA2RgiAgBACAW8q/r9zCA6Bh+CxxiOlRAiBrtXqbGyu89Vff00SxXhdIopjSqXkjcBiXsF7dBQTpMTaAiFACIk1Fm8tAnDegLM4LAgQBLQQSCWRQqCSEkiNtVMiHRGQ6Eo14e//7pdcuXqTYAeEEAg+IKVESolzDrEoDyEFIYD3nhD4i7D3gRAWD3rvscHig8cHj3MWhFzoInAhEOAvgMpKOeLGtUuI8OaCgLWGEDwhOKwxEAJKqcVXB4+zFu8s+MBFf4D3HqUl3jmUkm+6IwjeE7xfjOFNRyIdLfSkQiDQtXIJJSOUUDjrSGQMwQKO4EFKQaQkePCmIHgHwRFrRTbPuXvvB7onp1xcXLDUruC9Q/4vB286qaRCK40QDv0G0N75BcZYZKfTIdaaWjl6Q+mc4CwQcNYuKgmOopghFGgdEUIgTVPK5QpaKP787fecdLsELxlP5vjgFyMTAq00SiukFBAWUE4mOS+ev6IoLNoUBqUk3ZMukgLnPWiNcx4wFCbHezCmQBFQUuCdpTAWrQR7e9dY7rQpChhenHB6eszNm9dRasEQwROcx4WAKSxn530m0wn1RpWL4Rg5Go+wznJ22mU6mzGdZUipkEGAC0RKoKXCGs98MqHIc2yRY7IMawpqjSW++uwramnCaDxjMpwz+H9cSAELhCUX/QlnpwNarSrXb2xTKkVoay1FUeCdR0rPZJpxdt7j9LyLkp7xcMxZb0RntUGlkhBFEc45yuUyUikyYymnBfPJOb1enw/ffYtqWsJbh9aaEAKmKBZMOMv2ZpvOyhKtRnPBhrfuDZUaFUXEMfzXtw+49+AZxsxo1ROWWg3WNpoURU6e5UgSjM0xzpMODglPjhjPMlZW6lRqEbVaDSkkRZFxMRix/6rLaDRma7PD3t5ler0BxloIoGMdAYI8twQvsM7y/l+9zcnpgAcPH/Llp7+g3WoAAuscxuS4EFBeUrOe3g8HqEaLs5MBSUUiZQRSIYRk0J/y/NkZ0ywnEIjjEt7DNMuJy2GxjEKA4D1IQXCOEAKXtzf4+rN3adUjLm128AYECiEUMo4YTgqi0Yh2nnNw2KUacnZqikEckybJwusDPH50QKWS8Mmt97j//RPm8zl5nmOtZfGbgPTe4rzDIRFSUjiPd9CoVrmyvYb1LNqFZzyacNod8PjxK2Z5zotsTkUKWp026UqbNImRAvr9EdNZRppq9vZ22FjrIITGOsdsNiMYj7UOgUBaW2CdY54VeASD8QTnLEJAvZpSTiugNAevz/njN7cZjkZc2WlTWl0mUoHVlTqDjUu8nkA5Tbnoz7lz5wnzImP37UusrbXwwSGUwjmHKQwiBJxdGJYejUbUVLLwcGvIsuxNcPB4Z7j/ZJ+L4YRGLWVzc43BYEhSinn06CUNA9HlTcZmQr93SjXdYn//hNPeCFVKePmqy3gw4fr1CEEgz3OiSFOvV5AyAAGdpinBGawP/O4PdzjujZhmgZVmhXw+59Vhl0o14aP332ZjdZXv7tzj9vfPSELgtRC0KxXKUrDZarDaWub4uMfG1gqNRguT5ZyeXtA9vUeWZURaoxBMc4NWZgEhQXI2mPLDsxeEwtKsNbh3/0cqSUQcKWrVMhurbZART58f0e1NSDUIZxgWlnK9yk9Pf6Zz2uOT5Ta9ZoquL3NwcMz13R32buzw6PHPvHj5ijTRRFox6I+oq8Uykv3+jD9+8x2R8PztZ++RakWjnjAcT9g/OmNrvU0iFXfvPuR3//YN07nB5IaoktJo1nnwaJ/vnxwyjhT1bMSetKxXY8w8I7icNMr58tYeH378AdMscHy68ADnHIGAHE6nFFnG1fU2P+8f8uDRT0wnY/AGZCAomIzHjMdjMpvjbIawjs2dDZSUPPzxOasbK2TVMqOlJh/e2GW1WkVrTaRiRJCUYkWzXmOpvc7r3hRjA8U8oyhy5Cybs7PZYblVo1xJ2FxrUE1Tdq9sc2l9lRevjikIVNIq7VaDdrkCUvDk2T6Hr0/Y2dniq49uUC5rfh7PSOOUUn+MiBYhxLqAc56T10fUqjHVWo1pbiglKTs7O8iLiwHrK3WWmhXef3eXrz97jyTSrLQb7F7ZpLCC7sWIZjPli/dvUk5i+rOMo+MB03nBpe1NtIooAhzlOQDxaEhVRORFgTEGISXOOrLpgGtvXaawARcEW1vb6MJZllpN5llBuWwBTSVNOT3tUUqqWONpNUq0Wy0ODo85HgwolSKEkgQUSanMf3z7iItejyMks49vQeFJjV3kxVgRaY1UivlkRCUuoeOE2XzKwd3v0ErFWBM4Ohvy8NkJw9EUHxx5kbO3vclxr0etucTzl2fc/+EJ1ge0XETy5eUVdKQRviB4T3c04Vn3jDhEtGNBrgRxnLAIY4HCWPJsSrVaQ0lHUWRo5wR/+vYBkS5zdHKCRDOcjGjUqnRaE4wJeC/JnWdlbYVLV6+CK8hMQRSXkApuXt/C5OvcefyMF3fucc0bKrUqorRYPvPZnKSkkETkRUaSlNDaEEURupymVMspy80mk+mMg9enbG1u8O7NXzAcjNjevsrlnTWEtSwvL9HtTRj2z5nNhhydnNLrD1muSOq1mHazgik8T16d89x5rqwvMZ3PqdSrXNpZ5/ysh7WWuFRCiMDmege9vX2VL299RDCBudFUq4d8/eUndDqrHBx1OT3vEYKknJbo93v89vd/YD4dst5ZZl5Y6ktLDMYzhn3HoNfn8t51Dn1EMDlFYSmXS2itwTuiSCOlIo4V88mQ5UYF3VpaZmYzbr5zi3+orTHtH+NC4KQ3p7Axjx//xMbqMh9/8DYvX+5zcnbGUrPKcDTlYjihubpBNp+TSIEQMc3mEvmWIjvsMplmVGsJIUj2949wzpOkKTPvMToiimL0O+/c5O7926ys7LLWWeEsFHTP+6xv7FCplpDiUz794EM2Vjtsbb5FubFGvZ7y9MlT7v/4lFq9SVxNmA76bF15i9byMnGlQbc/J05KlEpVCgsXwylRnNDstCjUGEmDLM/5H3pPz6ECSb3dAAAAAElFTkSuQmCC',\n",
       "    'encoding': 'BASE64'},\n",
       "   'endpointOutput': {'observedContentType': 'application/json',\n",
       "    'mode': 'OUTPUT',\n",
       "    'data': '[0.8182951807975769, 0.1817048192024231]',\n",
       "    'encoding': 'JSON'}},\n",
       "  'eventMetadata': {'eventId': 'd842624a-3691-42d7-9dfa-a2fa5361c95f',\n",
       "   'inferenceTime': '2022-07-09T10:09:01Z'},\n",
       "  'eventVersion': '0'}]"
      ]
     },
     "execution_count": 83,
     "metadata": {},
     "output_type": "execute_result"
    }
   ],
   "source": [
    "json_data"
   ]
  },
  {
   "cell_type": "code",
   "execution_count": 77,
   "metadata": {},
   "outputs": [
    {
     "data": {
      "text/plain": [
       "([0.0007581445970572531, 0.999241828918457], '2022-07-09T10:22:39Z')"
      ]
     },
     "execution_count": 77,
     "metadata": {},
     "output_type": "execute_result"
    }
   ],
   "source": [
    "`"
   ]
  },
  {
   "cell_type": "markdown",
   "metadata": {},
   "source": [
    "Finally, here's an example of a visualization you can build with this data. In this last part, you will take some time and build your own - the captured data has the input images, the resulting inferences, and the timestamps."
   ]
  },
  {
   "cell_type": "code",
   "execution_count": 82,
   "metadata": {},
   "outputs": [],
   "source": [
    "import seaborn as sns"
   ]
  },
  {
   "cell_type": "code",
   "execution_count": 84,
   "metadata": {},
   "outputs": [],
   "source": [
    "import glob"
   ]
  },
  {
   "cell_type": "code",
   "execution_count": 93,
   "metadata": {},
   "outputs": [],
   "source": [
    "files = glob.glob('./captured_data/image-classification-2022-07-09-09-19-33-937/AllTraffic/2022/07/09/*/*.jsonl')"
   ]
  },
  {
   "cell_type": "code",
   "execution_count": null,
   "metadata": {},
   "outputs": [],
   "source": [
    "import matplotlib.pyplot as plt\n",
    "import seaborn as sns\n",
    "\n",
    "time = "
   ]
  },
  {
   "cell_type": "code",
   "execution_count": 79,
   "metadata": {},
   "outputs": [],
   "source": [
    "# Populate the data for the x and y axis\n",
    "import matplotlib.pyplot as plt\n",
    "x = []\n",
    "y = []\n",
    "for obj in json_data:\n",
    "    inference, timestamp = simple_getter(obj)\n",
    "    \n",
    "    y.append(max(inference))\n",
    "    x.append(timestamp)\n",
    "\n",
    "# Todo: here is an visualization example, take some time to build another visual that helps monitor the result\n",
    "# Plot the data\n",
    "plt.scatter(x, y, c=['r' if k<.94 else 'b' for k in y ])\n",
    "plt.axhline(y=0.94, color='g', linestyle='--')\n",
    "plt.ylim(bottom=.88)\n",
    "\n",
    "# Add labels\n",
    "plt.ylabel(\"Confidence\")\n",
    "plt.suptitle(\"Observed Recent Inferences\", size=14)\n",
    "plt.title(\"Pictured with confidence threshold for production use\", size=10)\n",
    "\n",
    "# Give it some pizzaz!\n",
    "plt.style.use(\"Solarize_Light2\")\n",
    "plt.gcf().autofmt_xdate()"
   ]
  },
  {
   "cell_type": "code",
   "execution_count": 80,
   "metadata": {},
   "outputs": [
    {
     "data": {
      "image/png": "[encoded data removed]",
      "text/plain": [
       "<Figure size 640x480 with 1 Axes>"
      ]
     },
     "metadata": {},
     "output_type": "display_data"
    }
   ],
   "source": [
    "plt.show()"
   ]
  },
  {
   "cell_type": "code",
   "execution_count": null,
   "metadata": {},
   "outputs": [],
   "source": []
  },
  {
   "cell_type": "markdown",
   "metadata": {},
   "source": [
    "### Todo: build your own visualization\n"
   ]
  },
  {
   "cell_type": "markdown",
   "metadata": {},
   "source": [
    "### Congratulations!\n",
    "\n",
    "You've reached the end of the project. In this project you created an event-drivent ML workflow that can be incorporated into the Scones Unlimited production architecture. You used the SageMaker Estimator API to deploy your SageMaker Model and Endpoint, and you used AWS Lambda and Step Functions to orchestrate your ML workflow. Using SageMaker Model Monitor, you instrumented and observed your Endpoint, and at the end of the project you built a visualization to help stakeholders understand the performance of the Endpoint over time. If you're up for it, you can even go further with these stretch goals:\n",
    "\n",
    "* Extend your workflow to incorporate more classes: the CIFAR dataset includes other vehicles that Scones Unlimited can identify with this model.\n",
    "* Modify your event driven workflow: can you rewrite your Lambda functions so that the workflow can process multiple image inputs in parallel? Can the Step Function \"fan out\" to accomodate this new workflow?\n",
    "* Consider the test data generator we provided for you. Can we use it to create a \"dummy data\" generator, to simulate a continuous stream of input data? Or a big paralell load of data?\n",
    "* What if we want to get notified every time our step function errors out? Can we use the Step Functions visual editor in conjunction with a service like SNS to accomplish this? Try it out!\n",
    "\n",
    "\n"
   ]
  }
 ],
 "metadata": {
  "instance_type": "ml.t3.medium",
  "kernelspec": {
   "display_name": "Python 3 (Data Science)",
   "language": "python",
   "name": "python3__SAGEMAKER_INTERNAL__arn:aws:sagemaker:us-east-2:429704687514:image/datascience-1.0"
  },
  "language_info": {
   "codemirror_mode": {
    "name": "ipython",
    "version": 3
   },
   "file_extension": ".py",
   "mimetype": "text/x-python",
   "name": "python",
   "nbconvert_exporter": "python",
   "pygments_lexer": "ipython3",
   "version": "3.7.10"
  }
 },
 "nbformat": 4,
 "nbformat_minor": 4
}
